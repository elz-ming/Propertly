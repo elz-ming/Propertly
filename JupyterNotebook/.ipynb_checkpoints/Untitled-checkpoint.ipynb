{
 "cells": [
  {
   "cell_type": "code",
   "execution_count": 2,
   "id": "835da680",
   "metadata": {},
   "outputs": [],
   "source": [
    "import pandas as pd\n",
    "import csv"
   ]
  },
  {
   "cell_type": "code",
   "execution_count": 2,
   "id": "95facd3c",
   "metadata": {
    "scrolled": true
   },
   "outputs": [],
   "source": [
    "df_rent = pd.read_csv('../data/iProperty_rent_to_be_trained.csv')\n",
    "df_sale = pd.read_csv('../data/iProperty_sale_to_be_trained.csv')\n",
    "df = pd.concat([df_rent,df_sale])"
   ]
  },
  {
   "cell_type": "code",
   "execution_count": 8,
   "id": "7ccb1b63",
   "metadata": {},
   "outputs": [
    {
     "data": {
      "text/html": [
       "<div>\n",
       "<style scoped>\n",
       "    .dataframe tbody tr th:only-of-type {\n",
       "        vertical-align: middle;\n",
       "    }\n",
       "\n",
       "    .dataframe tbody tr th {\n",
       "        vertical-align: top;\n",
       "    }\n",
       "\n",
       "    .dataframe thead th {\n",
       "        text-align: right;\n",
       "    }\n",
       "</style>\n",
       "<table border=\"1\" class=\"dataframe\">\n",
       "  <thead>\n",
       "    <tr style=\"text-align: right;\">\n",
       "      <th></th>\n",
       "      <th>name</th>\n",
       "      <th>price</th>\n",
       "      <th>psf</th>\n",
       "      <th>district</th>\n",
       "      <th>state</th>\n",
       "      <th>type</th>\n",
       "      <th>details</th>\n",
       "      <th>area</th>\n",
       "      <th>bedroom</th>\n",
       "      <th>bathroom</th>\n",
       "      <th>carpark</th>\n",
       "    </tr>\n",
       "  </thead>\n",
       "  <tbody>\n",
       "    <tr>\n",
       "      <th>0</th>\n",
       "      <td>M Vertica, Taman Maluri, Cheras</td>\n",
       "      <td>1400</td>\n",
       "      <td>1.65</td>\n",
       "      <td>Cheras</td>\n",
       "      <td>Kuala Lumpur</td>\n",
       "      <td>Condominium</td>\n",
       "      <td>Default</td>\n",
       "      <td>850</td>\n",
       "      <td>3</td>\n",
       "      <td>2</td>\n",
       "      <td>1</td>\n",
       "    </tr>\n",
       "    <tr>\n",
       "      <th>1</th>\n",
       "      <td>M Vertica, Taman Maluri, Cheras</td>\n",
       "      <td>1700</td>\n",
       "      <td>2.00</td>\n",
       "      <td>Cheras</td>\n",
       "      <td>Kuala Lumpur</td>\n",
       "      <td>Condominium</td>\n",
       "      <td>Default</td>\n",
       "      <td>850</td>\n",
       "      <td>3</td>\n",
       "      <td>2</td>\n",
       "      <td>2</td>\n",
       "    </tr>\n",
       "    <tr>\n",
       "      <th>2</th>\n",
       "      <td>Desa Green, Taman Desa</td>\n",
       "      <td>1800</td>\n",
       "      <td>2.52</td>\n",
       "      <td>Taman Desa</td>\n",
       "      <td>Kuala Lumpur</td>\n",
       "      <td>Serviced Residence</td>\n",
       "      <td>Studio</td>\n",
       "      <td>715</td>\n",
       "      <td>2</td>\n",
       "      <td>2</td>\n",
       "      <td>1</td>\n",
       "    </tr>\n",
       "    <tr>\n",
       "      <th>3</th>\n",
       "      <td>Arcoris Residences, Mont Kiara</td>\n",
       "      <td>5000</td>\n",
       "      <td>5.51</td>\n",
       "      <td>Mont Kiara</td>\n",
       "      <td>Kuala Lumpur</td>\n",
       "      <td>Serviced Residence</td>\n",
       "      <td>Intermediate</td>\n",
       "      <td>907</td>\n",
       "      <td>2</td>\n",
       "      <td>2</td>\n",
       "      <td>1</td>\n",
       "    </tr>\n",
       "    <tr>\n",
       "      <th>4</th>\n",
       "      <td>Desa Green, Taman Desa</td>\n",
       "      <td>1400</td>\n",
       "      <td>2.42</td>\n",
       "      <td>Taman Desa</td>\n",
       "      <td>Kuala Lumpur</td>\n",
       "      <td>Serviced Residence</td>\n",
       "      <td>Default</td>\n",
       "      <td>578</td>\n",
       "      <td>1</td>\n",
       "      <td>1</td>\n",
       "      <td>1</td>\n",
       "    </tr>\n",
       "  </tbody>\n",
       "</table>\n",
       "</div>"
      ],
      "text/plain": [
       "                              name  price   psf    district         state  \\\n",
       "0  M Vertica, Taman Maluri, Cheras   1400  1.65      Cheras  Kuala Lumpur   \n",
       "1  M Vertica, Taman Maluri, Cheras   1700  2.00      Cheras  Kuala Lumpur   \n",
       "2           Desa Green, Taman Desa   1800  2.52  Taman Desa  Kuala Lumpur   \n",
       "3   Arcoris Residences, Mont Kiara   5000  5.51  Mont Kiara  Kuala Lumpur   \n",
       "4           Desa Green, Taman Desa   1400  2.42  Taman Desa  Kuala Lumpur   \n",
       "\n",
       "                 type       details  area  bedroom  bathroom  carpark  \n",
       "0         Condominium       Default   850        3         2        1  \n",
       "1         Condominium       Default   850        3         2        2  \n",
       "2  Serviced Residence        Studio   715        2         2        1  \n",
       "3  Serviced Residence  Intermediate   907        2         2        1  \n",
       "4  Serviced Residence       Default   578        1         1        1  "
      ]
     },
     "execution_count": 8,
     "metadata": {},
     "output_type": "execute_result"
    }
   ],
   "source": [
    "df.head()"
   ]
  },
  {
   "cell_type": "markdown",
   "id": "e6ec0968",
   "metadata": {},
   "source": [
    "DISTRICT"
   ]
  },
  {
   "cell_type": "code",
   "execution_count": 3,
   "id": "45506836",
   "metadata": {
    "scrolled": true
   },
   "outputs": [],
   "source": [
    "df_district = df[['district']].drop_duplicates()\n",
    "df_district.reset_index(drop=True,inplace=True)"
   ]
  },
  {
   "cell_type": "code",
   "execution_count": 9,
   "id": "1228f7b2",
   "metadata": {},
   "outputs": [
    {
     "data": {
      "text/html": [
       "<div>\n",
       "<style scoped>\n",
       "    .dataframe tbody tr th:only-of-type {\n",
       "        vertical-align: middle;\n",
       "    }\n",
       "\n",
       "    .dataframe tbody tr th {\n",
       "        vertical-align: top;\n",
       "    }\n",
       "\n",
       "    .dataframe thead th {\n",
       "        text-align: right;\n",
       "    }\n",
       "</style>\n",
       "<table border=\"1\" class=\"dataframe\">\n",
       "  <thead>\n",
       "    <tr style=\"text-align: right;\">\n",
       "      <th></th>\n",
       "      <th>district</th>\n",
       "      <th>district_copy</th>\n",
       "    </tr>\n",
       "  </thead>\n",
       "  <tbody>\n",
       "    <tr>\n",
       "      <th>0</th>\n",
       "      <td>Cheras</td>\n",
       "      <td>Cheras</td>\n",
       "    </tr>\n",
       "    <tr>\n",
       "      <th>1</th>\n",
       "      <td>Taman Desa</td>\n",
       "      <td>Taman Desa</td>\n",
       "    </tr>\n",
       "    <tr>\n",
       "      <th>2</th>\n",
       "      <td>Mont Kiara</td>\n",
       "      <td>Mont Kiara</td>\n",
       "    </tr>\n",
       "    <tr>\n",
       "      <th>3</th>\n",
       "      <td>KL City</td>\n",
       "      <td>KL City</td>\n",
       "    </tr>\n",
       "    <tr>\n",
       "      <th>4</th>\n",
       "      <td>Bukit Jalil</td>\n",
       "      <td>Bukit Jalil</td>\n",
       "    </tr>\n",
       "  </tbody>\n",
       "</table>\n",
       "</div>"
      ],
      "text/plain": [
       "      district district_copy\n",
       "0       Cheras        Cheras\n",
       "1   Taman Desa    Taman Desa\n",
       "2   Mont Kiara    Mont Kiara\n",
       "3      KL City       KL City\n",
       "4  Bukit Jalil   Bukit Jalil"
      ]
     },
     "execution_count": 9,
     "metadata": {},
     "output_type": "execute_result"
    }
   ],
   "source": [
    "df_district['district_copy'] = df_district.loc[:,'district']\n",
    "df_district.head()"
   ]
  },
  {
   "cell_type": "code",
   "execution_count": 99,
   "id": "e425f9b3",
   "metadata": {},
   "outputs": [],
   "source": [
    "df_district.to_csv('district.csv', quotechar='\"', quoting=csv.QUOTE_ALL, index=False)"
   ]
  },
  {
   "cell_type": "markdown",
   "id": "7da45aed",
   "metadata": {},
   "source": [
    "TYPE"
   ]
  },
  {
   "cell_type": "code",
   "execution_count": 5,
   "id": "1d04f8ca",
   "metadata": {},
   "outputs": [],
   "source": [
    "df_type = df[['type']].drop_duplicates()\n",
    "df_type.reset_index(drop=True,inplace=True)"
   ]
  },
  {
   "cell_type": "code",
   "execution_count": 10,
   "id": "daa382c7",
   "metadata": {},
   "outputs": [
    {
     "data": {
      "text/html": [
       "<div>\n",
       "<style scoped>\n",
       "    .dataframe tbody tr th:only-of-type {\n",
       "        vertical-align: middle;\n",
       "    }\n",
       "\n",
       "    .dataframe tbody tr th {\n",
       "        vertical-align: top;\n",
       "    }\n",
       "\n",
       "    .dataframe thead th {\n",
       "        text-align: right;\n",
       "    }\n",
       "</style>\n",
       "<table border=\"1\" class=\"dataframe\">\n",
       "  <thead>\n",
       "    <tr style=\"text-align: right;\">\n",
       "      <th></th>\n",
       "      <th>type</th>\n",
       "      <th>type_copy</th>\n",
       "    </tr>\n",
       "  </thead>\n",
       "  <tbody>\n",
       "    <tr>\n",
       "      <th>0</th>\n",
       "      <td>Condominium</td>\n",
       "      <td>Condominium</td>\n",
       "    </tr>\n",
       "    <tr>\n",
       "      <th>1</th>\n",
       "      <td>Serviced Residence</td>\n",
       "      <td>Serviced Residence</td>\n",
       "    </tr>\n",
       "    <tr>\n",
       "      <th>2</th>\n",
       "      <td>Bungalow</td>\n",
       "      <td>Bungalow</td>\n",
       "    </tr>\n",
       "    <tr>\n",
       "      <th>3</th>\n",
       "      <td>3-sty Terrace/Link House</td>\n",
       "      <td>3-sty Terrace/Link House</td>\n",
       "    </tr>\n",
       "    <tr>\n",
       "      <th>4</th>\n",
       "      <td>Apartment</td>\n",
       "      <td>Apartment</td>\n",
       "    </tr>\n",
       "  </tbody>\n",
       "</table>\n",
       "</div>"
      ],
      "text/plain": [
       "                       type                 type_copy\n",
       "0               Condominium               Condominium\n",
       "1        Serviced Residence        Serviced Residence\n",
       "2                  Bungalow                  Bungalow\n",
       "3  3-sty Terrace/Link House  3-sty Terrace/Link House\n",
       "4                 Apartment                 Apartment"
      ]
     },
     "execution_count": 10,
     "metadata": {},
     "output_type": "execute_result"
    }
   ],
   "source": [
    "df_type['type_copy'] = df_type.loc[:,'type']\n",
    "df_type.head()"
   ]
  },
  {
   "cell_type": "code",
   "execution_count": 7,
   "id": "bda39091",
   "metadata": {},
   "outputs": [],
   "source": [
    "df_type.to_csv('type.csv', quotechar='\"', quoting=csv.QUOTE_ALL, index=False)"
   ]
  },
  {
   "cell_type": "markdown",
   "id": "0782cf04",
   "metadata": {},
   "source": [
    "DETAIL"
   ]
  },
  {
   "cell_type": "code",
   "execution_count": 14,
   "id": "427e0182",
   "metadata": {},
   "outputs": [],
   "source": [
    "df_detail = df[['details']].drop_duplicates()\n",
    "df_detail.reset_index(drop=True,inplace=True)"
   ]
  },
  {
   "cell_type": "code",
   "execution_count": 15,
   "id": "f13cd6e2",
   "metadata": {},
   "outputs": [
    {
     "data": {
      "text/html": [
       "<div>\n",
       "<style scoped>\n",
       "    .dataframe tbody tr th:only-of-type {\n",
       "        vertical-align: middle;\n",
       "    }\n",
       "\n",
       "    .dataframe tbody tr th {\n",
       "        vertical-align: top;\n",
       "    }\n",
       "\n",
       "    .dataframe thead th {\n",
       "        text-align: right;\n",
       "    }\n",
       "</style>\n",
       "<table border=\"1\" class=\"dataframe\">\n",
       "  <thead>\n",
       "    <tr style=\"text-align: right;\">\n",
       "      <th></th>\n",
       "      <th>details</th>\n",
       "      <th>details_copy</th>\n",
       "    </tr>\n",
       "  </thead>\n",
       "  <tbody>\n",
       "    <tr>\n",
       "      <th>0</th>\n",
       "      <td>Default</td>\n",
       "      <td>Default</td>\n",
       "    </tr>\n",
       "    <tr>\n",
       "      <th>1</th>\n",
       "      <td>Studio</td>\n",
       "      <td>Studio</td>\n",
       "    </tr>\n",
       "    <tr>\n",
       "      <th>2</th>\n",
       "      <td>Intermediate</td>\n",
       "      <td>Intermediate</td>\n",
       "    </tr>\n",
       "    <tr>\n",
       "      <th>3</th>\n",
       "      <td>Corner lot</td>\n",
       "      <td>Corner lot</td>\n",
       "    </tr>\n",
       "    <tr>\n",
       "      <th>4</th>\n",
       "      <td>End lot</td>\n",
       "      <td>End lot</td>\n",
       "    </tr>\n",
       "  </tbody>\n",
       "</table>\n",
       "</div>"
      ],
      "text/plain": [
       "        details  details_copy\n",
       "0       Default       Default\n",
       "1        Studio        Studio\n",
       "2  Intermediate  Intermediate\n",
       "3    Corner lot    Corner lot\n",
       "4       End lot       End lot"
      ]
     },
     "execution_count": 15,
     "metadata": {},
     "output_type": "execute_result"
    }
   ],
   "source": [
    "df_detail['details_copy'] = df_detail.loc[:,'details']\n",
    "df_detail.head()"
   ]
  },
  {
   "cell_type": "code",
   "execution_count": 16,
   "id": "1a0087cb",
   "metadata": {},
   "outputs": [],
   "source": [
    "df_detail.to_csv('detail.csv', quotechar='\"', quoting=csv.QUOTE_ALL, index=False)"
   ]
  },
  {
   "cell_type": "code",
   "execution_count": 1,
   "id": "4e72ba74",
   "metadata": {},
   "outputs": [],
   "source": [
    "input_dict = {\n",
    "    'choice'  :'rent',\n",
    "    'state'   :'selangor',\n",
    "    'district':'sentul',\n",
    "    'type'    :'bungalow',\n",
    "    'detail'  :'corner lot',\n",
    "    'bedroom' :8,\n",
    "    'bathroom':5,\n",
    "    'carpark' :3,\n",
    "}"
   ]
  },
  {
   "cell_type": "code",
   "execution_count": null,
   "id": "e404ca03",
   "metadata": {},
   "outputs": [],
   "source": []
  }
 ],
 "metadata": {
  "kernelspec": {
   "display_name": "Python 3 (ipykernel)",
   "language": "python",
   "name": "python3"
  },
  "language_info": {
   "codemirror_mode": {
    "name": "ipython",
    "version": 3
   },
   "file_extension": ".py",
   "mimetype": "text/x-python",
   "name": "python",
   "nbconvert_exporter": "python",
   "pygments_lexer": "ipython3",
   "version": "3.9.12"
  }
 },
 "nbformat": 4,
 "nbformat_minor": 5
}
