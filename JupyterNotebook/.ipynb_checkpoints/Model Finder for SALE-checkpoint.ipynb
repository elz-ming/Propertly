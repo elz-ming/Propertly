{
 "cells": [
  {
   "cell_type": "code",
   "execution_count": 1,
   "id": "34c69d07",
   "metadata": {},
   "outputs": [
    {
     "name": "stderr",
     "output_type": "stream",
     "text": [
      "C:\\ProgramData\\Anaconda3\\lib\\site-packages\\scipy\\__init__.py:146: UserWarning: A NumPy version >=1.16.5 and <1.23.0 is required for this version of SciPy (detected version 1.23.3\n",
      "  warnings.warn(f\"A NumPy version >={np_minversion} and <{np_maxversion}\"\n"
     ]
    }
   ],
   "source": [
    "import pandas as pd\n",
    "\n",
    "from sklearn.preprocessing import MinMaxScaler\n",
    "\n",
    "from sklearn.linear_model import LinearRegression\n",
    "from sklearn.tree import DecisionTreeRegressor\n",
    "from sklearn.ensemble import RandomForestRegressor, GradientBoostingRegressor\n",
    "from sklearn.svm import SVR\n",
    "from sklearn.neighbors import KNeighborsRegressor\n",
    "from sklearn.neural_network import MLPRegressor\n",
    "\n",
    "\n",
    "from sklearn.model_selection import train_test_split, cross_val_score\n",
    "\n",
    "from sklearn.metrics import r2_score, mean_absolute_error, mean_squared_error, mean_absolute_percentage_error\n",
    "\n",
    "import seaborn as sns\n",
    "import matplotlib.pyplot as plt"
   ]
  },
  {
   "cell_type": "markdown",
   "id": "fd6d3970",
   "metadata": {},
   "source": [
    "INITIAL - SALE DATA"
   ]
  },
  {
   "cell_type": "code",
   "execution_count": 2,
   "id": "e372c1c4",
   "metadata": {},
   "outputs": [],
   "source": [
    "SEED=42\n",
    "models = {\n",
    "    'Linear Regression': LinearRegression(),\n",
    "    'Decision Tree': DecisionTreeRegressor(random_state=SEED),\n",
    "    'Random Forest': RandomForestRegressor(random_state=SEED),\n",
    "    'Support Vector Machine': SVR(),\n",
    "#     'K Neighbors': KNeighborsRegressor(),\n",
    "    'Gradient Boost': GradientBoostingRegressor(random_state=SEED),\n",
    "    'Neural Network': MLPRegressor(random_state=SEED),\n",
    "}"
   ]
  },
  {
   "cell_type": "code",
   "execution_count": 3,
   "id": "660465d9",
   "metadata": {},
   "outputs": [],
   "source": [
    "sale_df = pd.read_csv('../data/iProperty_sale_to_be_trained.csv')\n",
    "\n",
    "sale_df.drop(['name','psf','area'], axis=1, inplace=True)\n",
    "\n",
    "for col in ['price']:\n",
    "    q_low = sale_df[col].quantile(0.01)\n",
    "    q_hi  = sale_df[col].quantile(0.99)\n",
    "    sale_df = sale_df[(sale_df[col] < q_hi) & (sale_df[col] > q_low)]\n",
    "    \n",
    "one_hot = pd.get_dummies(sale_df[['district','state','type','details']])\n",
    "sale_df = sale_df.join(one_hot).drop(['district','state','type','details'], axis=1)\n",
    "\n",
    "for num in sale_df.drop(['price'], axis=1).dtypes[(sale_df.dtypes == \"int64\")].index:\n",
    "    MMS = MinMaxScaler()\n",
    "    MMS.fit(sale_df[[num]])\n",
    "    sale_df[num] = MMS.transform(sale_df[[num]])\n",
    "    \n",
    "sale_x = sale_df.drop(['price'],axis=1)\n",
    "sale_y = sale_df['price']\n",
    "\n",
    "sale_x_train, sale_x_test, sale_y_train, sale_y_test = train_test_split(sale_x,sale_y,test_size=0.2)"
   ]
  },
  {
   "cell_type": "markdown",
   "id": "8c04dd6d",
   "metadata": {},
   "source": [
    "1. CROSS VAL SCORE"
   ]
  },
  {
   "cell_type": "code",
   "execution_count": 4,
   "id": "f19b643d",
   "metadata": {
    "scrolled": true
   },
   "outputs": [
    {
     "name": "stdout",
     "output_type": "stream",
     "text": [
      "Linear Regression\n",
      "[-1.51291526e+22 -4.81135426e+25 -2.90285931e+25 -6.03386614e+19\n",
      " -1.26609072e+25]\n",
      "============================================================ \n",
      "\n",
      "Decision Tree\n",
      "[0.14326667 0.41326892 0.39709636 0.50590477 0.46604474]\n",
      "============================================================ \n",
      "\n",
      "Random Forest\n",
      "[0.26050108 0.52569158 0.59810359 0.67238857 0.59827386]\n",
      "============================================================ \n",
      "\n",
      "Support Vector Machine\n",
      "[-5.92329673e-01 -1.04439844e-01 -1.13784106e-04 -1.90708190e-01\n",
      " -3.51204351e-04]\n",
      "============================================================ \n",
      "\n",
      "Gradient Boost\n",
      "[0.35054046 0.52892938 0.53405345 0.71788339 0.45006167]\n",
      "============================================================ \n",
      "\n",
      "Neural Network\n",
      "[-1.36752237 -0.87498462 -0.87205775 -1.22979012 -1.09371022]\n",
      "============================================================ \n",
      "\n"
     ]
    }
   ],
   "source": [
    "for key, value in models.items():\n",
    "    print(key)\n",
    "    print(cross_val_score(value, sale_x, sale_y, cv=5, n_jobs=-1))\n",
    "    print('==='*20, '\\n')"
   ]
  },
  {
   "cell_type": "markdown",
   "id": "afba9d1c",
   "metadata": {},
   "source": [
    "2. Train Score, Test Score, R2, RMSE, MAE, MAPE"
   ]
  },
  {
   "cell_type": "code",
   "execution_count": 5,
   "id": "91953f04",
   "metadata": {},
   "outputs": [],
   "source": [
    "score_init = {\n",
    "    'score':['train','test','R2','RMSE','MAE','MAPE']\n",
    "}"
   ]
  },
  {
   "cell_type": "code",
   "execution_count": 6,
   "id": "deb34dd3",
   "metadata": {},
   "outputs": [
    {
     "name": "stdout",
     "output_type": "stream",
     "text": [
      "Linear Regression: Score is ready\n",
      "Decision Tree: Score is ready\n",
      "Random Forest: Score is ready\n",
      "Support Vector Machine: Score is ready\n",
      "Gradient Boost: Score is ready\n",
      "Neural Network: Score is ready\n"
     ]
    },
    {
     "name": "stderr",
     "output_type": "stream",
     "text": [
      "C:\\Users\\DS\\AppData\\Roaming\\Python\\Python39\\site-packages\\sklearn\\neural_network\\_multilayer_perceptron.py:702: ConvergenceWarning: Stochastic Optimizer: Maximum iterations (200) reached and the optimization hasn't converged yet.\n",
      "  warnings.warn(\n"
     ]
    }
   ],
   "source": [
    "for key, value in models.items():\n",
    "    model = value\n",
    "    model.fit(sale_x_train,sale_y_train)\n",
    "    sale_y_pred = model.predict(sale_x_test)\n",
    "    \n",
    "    score_init[key] = []\n",
    "    score_init[key].append(model.score(sale_x_train,sale_y_train))\n",
    "    score_init[key].append(model.score(sale_x_test,sale_y_test))\n",
    "    score_init[key].append(r2_score(sale_y_test,sale_y_pred))\n",
    "    score_init[key].append(mean_squared_error(sale_y_test,sale_y_pred, squared=False))\n",
    "    score_init[key].append(mean_absolute_error(sale_y_test,sale_y_pred))\n",
    "    score_init[key].append(mean_absolute_percentage_error(sale_y_test,sale_y_pred))\n",
    "    print(key + ': Score is ready')"
   ]
  },
  {
   "cell_type": "code",
   "execution_count": 7,
   "id": "82c16454",
   "metadata": {},
   "outputs": [
    {
     "data": {
      "text/html": [
       "<div>\n",
       "<style scoped>\n",
       "    .dataframe tbody tr th:only-of-type {\n",
       "        vertical-align: middle;\n",
       "    }\n",
       "\n",
       "    .dataframe tbody tr th {\n",
       "        vertical-align: top;\n",
       "    }\n",
       "\n",
       "    .dataframe thead th {\n",
       "        text-align: right;\n",
       "    }\n",
       "</style>\n",
       "<table border=\"1\" class=\"dataframe\">\n",
       "  <thead>\n",
       "    <tr style=\"text-align: right;\">\n",
       "      <th>score</th>\n",
       "      <th>model</th>\n",
       "      <th>train</th>\n",
       "      <th>test</th>\n",
       "      <th>R2</th>\n",
       "      <th>RMSE</th>\n",
       "      <th>MAE</th>\n",
       "      <th>MAPE</th>\n",
       "    </tr>\n",
       "  </thead>\n",
       "  <tbody>\n",
       "    <tr>\n",
       "      <th>0</th>\n",
       "      <td>Linear Regression</td>\n",
       "      <td>0.736156</td>\n",
       "      <td>-2983853863301172690944.0</td>\n",
       "      <td>-2983853863301172690944.0</td>\n",
       "      <td>54420367934060672.0</td>\n",
       "      <td>2258802706870429.0</td>\n",
       "      <td>3014921212.195647</td>\n",
       "    </tr>\n",
       "    <tr>\n",
       "      <th>1</th>\n",
       "      <td>Decision Tree</td>\n",
       "      <td>0.969639</td>\n",
       "      <td>0.68255</td>\n",
       "      <td>0.68255</td>\n",
       "      <td>561319.664635</td>\n",
       "      <td>279862.188839</td>\n",
       "      <td>0.269251</td>\n",
       "    </tr>\n",
       "    <tr>\n",
       "      <th>2</th>\n",
       "      <td>Random Forest</td>\n",
       "      <td>0.945999</td>\n",
       "      <td>0.75959</td>\n",
       "      <td>0.75959</td>\n",
       "      <td>488482.612444</td>\n",
       "      <td>255396.673638</td>\n",
       "      <td>0.252338</td>\n",
       "    </tr>\n",
       "    <tr>\n",
       "      <th>3</th>\n",
       "      <td>Support Vector Machine</td>\n",
       "      <td>-0.12599</td>\n",
       "      <td>-0.130779</td>\n",
       "      <td>-0.130779</td>\n",
       "      <td>1059403.993619</td>\n",
       "      <td>594688.833186</td>\n",
       "      <td>0.605414</td>\n",
       "    </tr>\n",
       "    <tr>\n",
       "      <th>4</th>\n",
       "      <td>Gradient Boost</td>\n",
       "      <td>0.771321</td>\n",
       "      <td>0.711599</td>\n",
       "      <td>0.711599</td>\n",
       "      <td>535021.542419</td>\n",
       "      <td>314554.31775</td>\n",
       "      <td>0.354122</td>\n",
       "    </tr>\n",
       "    <tr>\n",
       "      <th>5</th>\n",
       "      <td>Neural Network</td>\n",
       "      <td>-0.883294</td>\n",
       "      <td>-0.944668</td>\n",
       "      <td>-0.944668</td>\n",
       "      <td>1389297.925352</td>\n",
       "      <td>969412.48</td>\n",
       "      <td>0.911768</td>\n",
       "    </tr>\n",
       "  </tbody>\n",
       "</table>\n",
       "</div>"
      ],
      "text/plain": [
       "score                   model     train                      test  \\\n",
       "0           Linear Regression  0.736156 -2983853863301172690944.0   \n",
       "1               Decision Tree  0.969639                   0.68255   \n",
       "2               Random Forest  0.945999                   0.75959   \n",
       "3      Support Vector Machine  -0.12599                 -0.130779   \n",
       "4              Gradient Boost  0.771321                  0.711599   \n",
       "5              Neural Network -0.883294                 -0.944668   \n",
       "\n",
       "score                        R2                 RMSE                 MAE  \\\n",
       "0     -2983853863301172690944.0  54420367934060672.0  2258802706870429.0   \n",
       "1                       0.68255        561319.664635       279862.188839   \n",
       "2                       0.75959        488482.612444       255396.673638   \n",
       "3                     -0.130779       1059403.993619       594688.833186   \n",
       "4                      0.711599        535021.542419        314554.31775   \n",
       "5                     -0.944668       1389297.925352           969412.48   \n",
       "\n",
       "score               MAPE  \n",
       "0      3014921212.195647  \n",
       "1               0.269251  \n",
       "2               0.252338  \n",
       "3               0.605414  \n",
       "4               0.354122  \n",
       "5               0.911768  "
      ]
     },
     "execution_count": 7,
     "metadata": {},
     "output_type": "execute_result"
    }
   ],
   "source": [
    "init_df = pd.DataFrame(score_init).T\n",
    "init_df.columns = init_df.iloc[0]\n",
    "init_df = init_df[1:]\n",
    "init_df = init_df.reset_index()\n",
    "init_df.rename(columns={'index':'model'}, inplace=True)\n",
    "init_df"
   ]
  },
  {
   "cell_type": "code",
   "execution_count": 8,
   "id": "c7175ff5",
   "metadata": {},
   "outputs": [
    {
     "data": {
      "text/plain": [
       "(array([0, 1, 2, 3, 4, 5]),\n",
       " [Text(0, 0, 'Linear Regression'),\n",
       "  Text(1, 0, 'Decision Tree'),\n",
       "  Text(2, 0, 'Random Forest'),\n",
       "  Text(3, 0, 'Support Vector Machine'),\n",
       "  Text(4, 0, 'Gradient Boost'),\n",
       "  Text(5, 0, 'Neural Network')])"
      ]
     },
     "execution_count": 8,
     "metadata": {},
     "output_type": "execute_result"
    },
    {
     "data": {
      "image/png": "[encoded data removed]",
      "text/plain": [
       "<Figure size 432x288 with 1 Axes>"
      ]
     },
     "metadata": {
      "needs_background": "light"
     },
     "output_type": "display_data"
    }
   ],
   "source": [
    "p = sns.barplot(data=init_df, x='model', y='train')\n",
    "p.set_title('Train Score')\n",
    "plt.xticks(rotation=-45)"
   ]
  },
  {
   "cell_type": "code",
   "execution_count": 9,
   "id": "4448eda7",
   "metadata": {
    "scrolled": false
   },
   "outputs": [
    {
     "data": {
      "text/plain": [
       "(array([0, 1, 2, 3, 4, 5]),\n",
       " [Text(0, 0, 'Linear Regression'),\n",
       "  Text(1, 0, 'Decision Tree'),\n",
       "  Text(2, 0, 'Random Forest'),\n",
       "  Text(3, 0, 'Support Vector Machine'),\n",
       "  Text(4, 0, 'Gradient Boost'),\n",
       "  Text(5, 0, 'Neural Network')])"
      ]
     },
     "execution_count": 9,
     "metadata": {},
     "output_type": "execute_result"
    },
    {
     "data": {
      "image/png": "[encoded data removed]",
      "text/plain": [
       "<Figure size 432x288 with 1 Axes>"
      ]
     },
     "metadata": {
      "needs_background": "light"
     },
     "output_type": "display_data"
    }
   ],
   "source": [
    "p = sns.barplot(data=init_df, x='model', y='test')\n",
    "p.set_title('Test Score')\n",
    "plt.xticks(rotation=-45)"
   ]
  },
  {
   "cell_type": "code",
   "execution_count": 10,
   "id": "2b7ece81",
   "metadata": {},
   "outputs": [
    {
     "data": {
      "text/plain": [
       "(array([0, 1, 2, 3, 4, 5]),\n",
       " [Text(0, 0, 'Linear Regression'),\n",
       "  Text(1, 0, 'Decision Tree'),\n",
       "  Text(2, 0, 'Random Forest'),\n",
       "  Text(3, 0, 'Support Vector Machine'),\n",
       "  Text(4, 0, 'Gradient Boost'),\n",
       "  Text(5, 0, 'Neural Network')])"
      ]
     },
     "execution_count": 10,
     "metadata": {},
     "output_type": "execute_result"
    },
    {
     "data": {
      "image/png": "[encoded data removed]",
      "text/plain": [
       "<Figure size 432x288 with 1 Axes>"
      ]
     },
     "metadata": {
      "needs_background": "light"
     },
     "output_type": "display_data"
    }
   ],
   "source": [
    "p = sns.barplot(data=init_df, x='model', y='R2')\n",
    "p.set_title('R2 Score')\n",
    "plt.xticks(rotation=-45)"
   ]
  },
  {
   "cell_type": "code",
   "execution_count": 11,
   "id": "5195704c",
   "metadata": {
    "scrolled": true
   },
   "outputs": [
    {
     "data": {
      "text/plain": [
       "(array([0, 1, 2, 3, 4, 5]),\n",
       " [Text(0, 0, 'Linear Regression'),\n",
       "  Text(1, 0, 'Decision Tree'),\n",
       "  Text(2, 0, 'Random Forest'),\n",
       "  Text(3, 0, 'Support Vector Machine'),\n",
       "  Text(4, 0, 'Gradient Boost'),\n",
       "  Text(5, 0, 'Neural Network')])"
      ]
     },
     "execution_count": 11,
     "metadata": {},
     "output_type": "execute_result"
    },
    {
     "data": {
      "image/png": "[encoded data removed]",
      "text/plain": [
       "<Figure size 432x288 with 1 Axes>"
      ]
     },
     "metadata": {
      "needs_background": "light"
     },
     "output_type": "display_data"
    }
   ],
   "source": [
    "p = sns.barplot(data=init_df, x='model', y='RMSE')\n",
    "p.set_title('RMSE Score')\n",
    "plt.xticks(rotation=-45)"
   ]
  },
  {
   "cell_type": "code",
   "execution_count": 12,
   "id": "00729013",
   "metadata": {},
   "outputs": [
    {
     "data": {
      "text/plain": [
       "(array([0, 1, 2, 3, 4, 5]),\n",
       " [Text(0, 0, 'Linear Regression'),\n",
       "  Text(1, 0, 'Decision Tree'),\n",
       "  Text(2, 0, 'Random Forest'),\n",
       "  Text(3, 0, 'Support Vector Machine'),\n",
       "  Text(4, 0, 'Gradient Boost'),\n",
       "  Text(5, 0, 'Neural Network')])"
      ]
     },
     "execution_count": 12,
     "metadata": {},
     "output_type": "execute_result"
    },
    {
     "data": {
      "image/png": "[encoded data removed]",
      "text/plain": [
       "<Figure size 432x288 with 1 Axes>"
      ]
     },
     "metadata": {
      "needs_background": "light"
     },
     "output_type": "display_data"
    }
   ],
   "source": [
    "p = sns.barplot(data=init_df, x='model', y='MAE')\n",
    "p.set_title('MAE Score')\n",
    "plt.xticks(rotation=-45)"
   ]
  },
  {
   "cell_type": "code",
   "execution_count": 13,
   "id": "9ecf8c72",
   "metadata": {},
   "outputs": [
    {
     "data": {
      "text/plain": [
       "(array([0, 1, 2, 3, 4, 5]),\n",
       " [Text(0, 0, 'Linear Regression'),\n",
       "  Text(1, 0, 'Decision Tree'),\n",
       "  Text(2, 0, 'Random Forest'),\n",
       "  Text(3, 0, 'Support Vector Machine'),\n",
       "  Text(4, 0, 'Gradient Boost'),\n",
       "  Text(5, 0, 'Neural Network')])"
      ]
     },
     "execution_count": 13,
     "metadata": {},
     "output_type": "execute_result"
    },
    {
     "data": {
      "image/png": "[encoded data removed]",
      "text/plain": [
       "<Figure size 432x288 with 1 Axes>"
      ]
     },
     "metadata": {
      "needs_background": "light"
     },
     "output_type": "display_data"
    }
   ],
   "source": [
    "p = sns.barplot(data=init_df, x='model', y='MAPE')\n",
    "p.set_title('MAPE Score')\n",
    "plt.xticks(rotation=-45)"
   ]
  },
  {
   "cell_type": "markdown",
   "id": "1b4c2ac0",
   "metadata": {},
   "source": [
    "WITH PARAMETERS"
   ]
  },
  {
   "cell_type": "code",
   "execution_count": 18,
   "id": "3021df63",
   "metadata": {},
   "outputs": [],
   "source": [
    "lr_hyperparameters = {}\n",
    "\n",
    "dt_hyperparameters = {\n",
    "    'max_depth': 10,\n",
    "    'max_leaf_nodes': 2,\n",
    "    'max_features': \"auto\",\n",
    "}\n",
    "\n",
    "rf_hyperparameters = {\n",
    "    'max_depth': 10,\n",
    "    'max_leaf_nodes': 2,\n",
    "    'n_estimators' : 100,\n",
    "    'max_features' : \"auto\",\n",
    "}\n",
    "\n",
    "svr_hyperparameters = {}\n",
    "\n",
    "# kn_hyperparameters = {}\n",
    "\n",
    "gb_hyperparameters = {\n",
    "    'n_estimators' : 100,\n",
    "    'learning_rate' : 0.1,\n",
    "    'max_depth' : 3,\n",
    "}\n",
    "\n",
    "nn_hyperparameters = {'hidden_layer_sizes' : (80,40,20,10)}\n",
    "\n",
    "hyperparameters = {\n",
    "    'Linear Regression': lr_hyperparameters,\n",
    "    'Decision Tree': dt_hyperparameters,\n",
    "    'Random Forest': rf_hyperparameters,\n",
    "    'Support Vector Machine': svr_hyperparameters,\n",
    "#     'K Neighbors': kn_hyperparameters,\n",
    "    'Gradient Boost': gb_hyperparameters,\n",
    "    'Neural Network': nn_hyperparameters,\n",
    "}"
   ]
  },
  {
   "cell_type": "markdown",
   "id": "86644055",
   "metadata": {},
   "source": [
    "1. CROSS VAL SCORE"
   ]
  },
  {
   "cell_type": "code",
   "execution_count": null,
   "id": "30c93ba3",
   "metadata": {
    "scrolled": false
   },
   "outputs": [
    {
     "name": "stdout",
     "output_type": "stream",
     "text": [
      "Linear Regression\n",
      "[-1.51291526e+22 -4.81135426e+25 -2.90285931e+25 -6.03386614e+19\n",
      " -1.26609072e+25]\n",
      "============================================================ \n",
      "\n",
      "Decision Tree\n",
      "[0.12227125 0.332035   0.09656257 0.41975381 0.25699808]\n",
      "============================================================ \n",
      "\n",
      "Random Forest\n",
      "[0.1223237  0.33202698 0.09512638 0.41911896 0.25703885]\n",
      "============================================================ \n",
      "\n",
      "Support Vector Machine\n"
     ]
    }
   ],
   "source": [
    "for key, value in models.items():\n",
    "    model = value\n",
    "    model.set_params(**hyperparameters[key])\n",
    "    print(key)\n",
    "    print(cross_val_score(model, sale_x, sale_y, cv=5, n_jobs=-1))\n",
    "    print('==='*20, '\\n')"
   ]
  },
  {
   "cell_type": "code",
   "execution_count": null,
   "id": "7d153dbe",
   "metadata": {},
   "outputs": [],
   "source": [
    "score_param = {\n",
    "    'score':['train','test','R2','RMSE','MAE','MAPE']\n",
    "}"
   ]
  },
  {
   "cell_type": "code",
   "execution_count": null,
   "id": "77302e13",
   "metadata": {},
   "outputs": [],
   "source": [
    "for key, value in models.items():\n",
    "    model = value\n",
    "    model.set_params(**hyperparameters[key])\n",
    "    model.fit(sale_x_train,sale_y_train)\n",
    "    sale_y_pred = model.predict(sale_x_test)\n",
    "    \n",
    "    score_param[key] = []\n",
    "    score_param[key].append(model.score(sale_x_train,sale_y_train))\n",
    "    score_param[key].append(model.score(sale_x_test,sale_y_test))\n",
    "    score_param[key].append(r2_score(sale_y_test,sale_y_pred))\n",
    "    score_param[key].append(mean_squared_error(sale_y_test,sale_y_pred, squared=False))\n",
    "    score_param[key].append(mean_absolute_error(sale_y_test,sale_y_pred))\n",
    "    score_param[key].append(mean_absolute_percentage_error(sale_y_test,sale_y_pred))\n",
    "    print(key + ': Score is ready')"
   ]
  },
  {
   "cell_type": "code",
   "execution_count": null,
   "id": "bfd80b7e",
   "metadata": {
    "scrolled": true
   },
   "outputs": [],
   "source": [
    "param_df = pd.DataFrame(score_param).T\n",
    "param_df.columns = param_df.iloc[0]\n",
    "param_df = param_df[1:]\n",
    "param_df = param_df.reset_index()\n",
    "param_df.rename(columns={'index':'model'}, inplace=True)\n",
    "param_df"
   ]
  },
  {
   "cell_type": "code",
   "execution_count": null,
   "id": "2c35f21b",
   "metadata": {},
   "outputs": [],
   "source": [
    "p = sns.barplot(data=param_df, x='model', y='train')\n",
    "p.set_title('Train Score')\n",
    "plt.xticks(rotation=-45)"
   ]
  },
  {
   "cell_type": "code",
   "execution_count": null,
   "id": "428d8943",
   "metadata": {},
   "outputs": [],
   "source": [
    "p = sns.barplot(data=param_df, x='model', y='test')\n",
    "p.set_title('Test Score')\n",
    "plt.xticks(rotation=-45)"
   ]
  },
  {
   "cell_type": "code",
   "execution_count": null,
   "id": "e07750eb",
   "metadata": {},
   "outputs": [],
   "source": [
    "p = sns.barplot(data=param_df, x='model', y='R2')\n",
    "p.set_title('R2 Score')\n",
    "plt.xticks(rotation=-45)"
   ]
  },
  {
   "cell_type": "code",
   "execution_count": null,
   "id": "d08c745f",
   "metadata": {},
   "outputs": [],
   "source": [
    "p = sns.barplot(data=param_df, x='model', y='RMSE')\n",
    "p.set_title('RMSE Score')\n",
    "plt.xticks(rotation=-45)"
   ]
  },
  {
   "cell_type": "code",
   "execution_count": null,
   "id": "15d67aaa",
   "metadata": {},
   "outputs": [],
   "source": [
    "p = sns.barplot(data=param_df, x='model', y='MAE')\n",
    "p.set_title('MAE Score')\n",
    "plt.xticks(rotation=-45)"
   ]
  },
  {
   "cell_type": "code",
   "execution_count": null,
   "id": "297d6e05",
   "metadata": {},
   "outputs": [],
   "source": [
    "p = sns.barplot(data=param_df, x='model', y='MAPE')\n",
    "p.set_title('MAPE Score')\n",
    "plt.xticks(rotation=-45)"
   ]
  },
  {
   "cell_type": "code",
   "execution_count": null,
   "id": "b007a118",
   "metadata": {},
   "outputs": [],
   "source": []
  }
 ],
 "metadata": {
  "kernelspec": {
   "display_name": "Python 3 (ipykernel)",
   "language": "python",
   "name": "python3"
  },
  "language_info": {
   "codemirror_mode": {
    "name": "ipython",
    "version": 3
   },
   "file_extension": ".py",
   "mimetype": "text/x-python",
   "name": "python",
   "nbconvert_exporter": "python",
   "pygments_lexer": "ipython3",
   "version": "3.9.12"
  }
 },
 "nbformat": 4,
 "nbformat_minor": 5
}
