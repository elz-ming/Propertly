{
 "cells": [
  {
   "cell_type": "code",
   "execution_count": 1,
   "id": "34c69d07",
   "metadata": {},
   "outputs": [
    {
     "name": "stderr",
     "output_type": "stream",
     "text": [
      "C:\\ProgramData\\Anaconda3\\lib\\site-packages\\scipy\\__init__.py:146: UserWarning: A NumPy version >=1.16.5 and <1.23.0 is required for this version of SciPy (detected version 1.23.3\n",
      "  warnings.warn(f\"A NumPy version >={np_minversion} and <{np_maxversion}\"\n"
     ]
    }
   ],
   "source": [
    "import pandas as pd\n",
    "\n",
    "from sklearn.preprocessing import MinMaxScaler\n",
    "\n",
    "from sklearn.linear_model import LinearRegression\n",
    "from sklearn.tree import DecisionTreeRegressor\n",
    "from sklearn.ensemble import RandomForestRegressor, GradientBoostingRegressor\n",
    "from sklearn.svm import SVR\n",
    "from sklearn.neighbors import KNeighborsRegressor\n",
    "from sklearn.neural_network import MLPRegressor\n",
    "\n",
    "\n",
    "from sklearn.model_selection import train_test_split, cross_val_score\n",
    "\n",
    "from sklearn.metrics import r2_score, mean_absolute_error, mean_squared_error, mean_absolute_percentage_error\n",
    "\n",
    "import seaborn as sns\n",
    "import matplotlib.pyplot as plt"
   ]
  },
  {
   "cell_type": "markdown",
   "id": "fd6d3970",
   "metadata": {},
   "source": [
    "INITIAL - SALE DATA"
   ]
  },
  {
   "cell_type": "code",
   "execution_count": 29,
   "id": "e372c1c4",
   "metadata": {},
   "outputs": [],
   "source": [
    "SEED=42\n",
    "models = {\n",
    "#     'Linear Regression': LinearRegression(),\n",
    "    'Decision Tree': DecisionTreeRegressor(random_state=SEED),\n",
    "    'Random Forest': RandomForestRegressor(random_state=SEED),\n",
    "    'Support Vector Machine': SVR(),\n",
    "#     'K Neighbors': KNeighborsRegressor(),\n",
    "    'Gradient Boost': GradientBoostingRegressor(random_state=SEED),\n",
    "    'Neural Network': MLPRegressor(random_state=SEED),\n",
    "}"
   ]
  },
  {
   "cell_type": "code",
   "execution_count": 3,
   "id": "660465d9",
   "metadata": {},
   "outputs": [],
   "source": [
    "sale_df = pd.read_csv('../data/iProperty_sale_to_be_trained.csv')\n",
    "\n",
    "sale_df.drop(['name','psf','area'], axis=1, inplace=True)\n",
    "\n",
    "for col in ['price']:\n",
    "    q_low = sale_df[col].quantile(0.01)\n",
    "    q_hi  = sale_df[col].quantile(0.99)\n",
    "    sale_df = sale_df[(sale_df[col] < q_hi) & (sale_df[col] > q_low)]\n",
    "    \n",
    "one_hot = pd.get_dummies(sale_df[['district','state','type','details']])\n",
    "sale_df = sale_df.join(one_hot).drop(['district','state','type','details'], axis=1)\n",
    "\n",
    "for num in sale_df.drop(['price'], axis=1).dtypes[(sale_df.dtypes == \"int64\")].index:\n",
    "    MMS = MinMaxScaler()\n",
    "    MMS.fit(sale_df[[num]])\n",
    "    sale_df[num] = MMS.transform(sale_df[[num]])\n",
    "    \n",
    "sale_x = sale_df.drop(['price'],axis=1)\n",
    "sale_y = sale_df['price']\n",
    "\n",
    "sale_x_train, sale_x_test, sale_y_train, sale_y_test = train_test_split(sale_x,sale_y,test_size=0.2)"
   ]
  },
  {
   "cell_type": "markdown",
   "id": "8c04dd6d",
   "metadata": {},
   "source": [
    "1. CROSS VAL SCORE"
   ]
  },
  {
   "cell_type": "code",
   "execution_count": 4,
   "id": "f19b643d",
   "metadata": {
    "scrolled": true
   },
   "outputs": [
    {
     "name": "stdout",
     "output_type": "stream",
     "text": [
      "Linear Regression\n",
      "[-1.51291526e+22 -4.81135426e+25 -2.90285931e+25 -6.03386614e+19\n",
      " -1.26609072e+25]\n",
      "============================================================ \n",
      "\n",
      "Decision Tree\n",
      "[0.14326667 0.41326892 0.39709636 0.50590477 0.46604474]\n",
      "============================================================ \n",
      "\n",
      "Random Forest\n",
      "[0.26050108 0.52569158 0.59810359 0.67238857 0.59827386]\n",
      "============================================================ \n",
      "\n",
      "Support Vector Machine\n",
      "[-5.92329673e-01 -1.04439844e-01 -1.13784106e-04 -1.90708190e-01\n",
      " -3.51204351e-04]\n",
      "============================================================ \n",
      "\n",
      "Gradient Boost\n",
      "[0.35054046 0.52892938 0.53405345 0.71788339 0.45006167]\n",
      "============================================================ \n",
      "\n",
      "Neural Network\n",
      "[-1.36752237 -0.87498462 -0.87205775 -1.22979012 -1.09371022]\n",
      "============================================================ \n",
      "\n"
     ]
    }
   ],
   "source": [
    "for key, value in models.items():\n",
    "    print(key)\n",
    "    print(cross_val_score(value, sale_x, sale_y, cv=5, n_jobs=-1))\n",
    "    print('==='*20, '\\n')"
   ]
  },
  {
   "cell_type": "markdown",
   "id": "afba9d1c",
   "metadata": {},
   "source": [
    "2. Train Score, Test Score, R2, RMSE, MAE, MAPE"
   ]
  },
  {
   "cell_type": "code",
   "execution_count": 47,
   "id": "91953f04",
   "metadata": {},
   "outputs": [],
   "source": [
    "score_init = {\n",
    "    'score':['train','test','R2','RMSE','MAE','MAPE']\n",
    "}"
   ]
  },
  {
   "cell_type": "code",
   "execution_count": null,
   "id": "deb34dd3",
   "metadata": {},
   "outputs": [
    {
     "name": "stderr",
     "output_type": "stream",
     "text": [
      "C:\\Users\\DS\\AppData\\Roaming\\Python\\Python39\\site-packages\\sklearn\\tree\\_classes.py:306: FutureWarning: `max_features='auto'` has been deprecated in 1.1 and will be removed in 1.3. To keep the past behaviour, explicitly set `max_features=1.0'`.\n",
      "  warnings.warn(\n",
      "C:\\Users\\DS\\AppData\\Roaming\\Python\\Python39\\site-packages\\sklearn\\ensemble\\_forest.py:416: FutureWarning: `max_features='auto'` has been deprecated in 1.1 and will be removed in 1.3. To keep the past behaviour, explicitly set `max_features=1.0` or remove this parameter as it is also the default value for RandomForestRegressors and ExtraTreesRegressors.\n",
      "  warn(\n"
     ]
    },
    {
     "name": "stdout",
     "output_type": "stream",
     "text": [
      "Decision Tree: Score is ready\n",
      "Random Forest: Score is ready\n",
      "Support Vector Machine: Score is ready\n",
      "Gradient Boost: Score is ready\n"
     ]
    }
   ],
   "source": [
    "for key, value in models.items():\n",
    "    model = value\n",
    "    model.fit(sale_x_train,sale_y_train)\n",
    "    sale_y_pred = model.predict(sale_x_test)\n",
    "    \n",
    "    score_init[key] = []\n",
    "    score_init[key].append(model.score(sale_x_train,sale_y_train))\n",
    "    score_init[key].append(model.score(sale_x_test,sale_y_test))\n",
    "    score_init[key].append(r2_score(sale_y_test,sale_y_pred))\n",
    "    score_init[key].append(mean_squared_error(sale_y_test,sale_y_pred, squared=False))\n",
    "    score_init[key].append(mean_absolute_error(sale_y_test,sale_y_pred))\n",
    "    score_init[key].append(mean_absolute_percentage_error(sale_y_test,sale_y_pred))\n",
    "    print(key + ': Score is ready')"
   ]
  },
  {
   "cell_type": "code",
   "execution_count": null,
   "id": "82c16454",
   "metadata": {},
   "outputs": [],
   "source": [
    "init_df = pd.DataFrame(score_init).T\n",
    "init_df.columns = init_df.iloc[0]\n",
    "init_df = init_df[1:]\n",
    "init_df = init_df.reset_index()\n",
    "init_df.rename(columns={'index':'model'}, inplace=True)\n",
    "init_df"
   ]
  },
  {
   "cell_type": "code",
   "execution_count": null,
   "id": "0a7dab43",
   "metadata": {},
   "outputs": [],
   "source": [
    "p = sns.barplot(data=init_df, x='model', y='train')\n",
    "p.set_title('Train Score')\n",
    "plt.xticks(rotation=-45)"
   ]
  },
  {
   "cell_type": "code",
   "execution_count": null,
   "id": "9f423b70",
   "metadata": {
    "scrolled": false
   },
   "outputs": [],
   "source": [
    "p = sns.barplot(data=init_df, x='model', y='test')\n",
    "p.set_title('Test Score')\n",
    "plt.xticks(rotation=-45)"
   ]
  },
  {
   "cell_type": "code",
   "execution_count": null,
   "id": "6d9e05c2",
   "metadata": {},
   "outputs": [],
   "source": [
    "p = sns.barplot(data=init_df, x='model', y='R2')\n",
    "p.set_title('R2 Score')\n",
    "plt.xticks(rotation=-45)"
   ]
  },
  {
   "cell_type": "code",
   "execution_count": null,
   "id": "f3305b2b",
   "metadata": {
    "scrolled": true
   },
   "outputs": [],
   "source": [
    "p = sns.barplot(data=init_df, x='model', y='RMSE')\n",
    "p.set_title('RMSE Score')\n",
    "plt.xticks(rotation=-45)"
   ]
  },
  {
   "cell_type": "code",
   "execution_count": null,
   "id": "60e60400",
   "metadata": {},
   "outputs": [],
   "source": [
    "p = sns.barplot(data=init_df, x='model', y='MAE')\n",
    "p.set_title('MAE Score')\n",
    "plt.xticks(rotation=-45)"
   ]
  },
  {
   "cell_type": "code",
   "execution_count": null,
   "id": "21e61229",
   "metadata": {},
   "outputs": [],
   "source": [
    "p = sns.barplot(data=init_df, x='model', y='MAPE')\n",
    "p.set_title('MAPE Score')\n",
    "plt.xticks(rotation=-45)"
   ]
  },
  {
   "cell_type": "markdown",
   "id": "1b4c2ac0",
   "metadata": {},
   "source": [
    "WITH PARAMETERS"
   ]
  },
  {
   "cell_type": "code",
   "execution_count": 30,
   "id": "3021df63",
   "metadata": {},
   "outputs": [],
   "source": [
    "# lr_hyperparameters = {}\n",
    "\n",
    "dt_hyperparameters = {\n",
    "    'max_depth': 10,\n",
    "    'max_leaf_nodes': 2,\n",
    "    'max_features': \"auto\",\n",
    "}\n",
    "\n",
    "rf_hyperparameters = {\n",
    "    'max_depth': 10,\n",
    "    'max_leaf_nodes': 2,\n",
    "    'n_estimators' : 100,\n",
    "    'max_features' : \"auto\",\n",
    "}\n",
    "\n",
    "svr_hyperparameters = {}\n",
    "\n",
    "# kn_hyperparameters = {}\n",
    "\n",
    "gb_hyperparameters = {\n",
    "    'n_estimators' : 100,\n",
    "    'learning_rate' : 0.1,\n",
    "    'max_depth' : 3,\n",
    "}\n",
    "\n",
    "nn_hyperparameters = {'hidden_layer_sizes' : (80,40,20,10)}\n",
    "\n",
    "hyperparameters = {\n",
    "#     'Linear Regression': lr_hyperparameters,\n",
    "    'Decision Tree': dt_hyperparameters,\n",
    "    'Random Forest': rf_hyperparameters,\n",
    "    'Support Vector Machine': svr_hyperparameters,\n",
    "#     'K Neighbors': kn_hyperparameters,\n",
    "    'Gradient Boost': gb_hyperparameters,\n",
    "    'Neural Network': nn_hyperparameters,\n",
    "}"
   ]
  },
  {
   "cell_type": "markdown",
   "id": "86644055",
   "metadata": {},
   "source": [
    "1. CROSS VAL SCORE"
   ]
  },
  {
   "cell_type": "code",
   "execution_count": 19,
   "id": "30c93ba3",
   "metadata": {
    "scrolled": false
   },
   "outputs": [
    {
     "name": "stdout",
     "output_type": "stream",
     "text": [
      "Linear Regression\n",
      "[-1.51291526e+22 -4.81135426e+25 -2.90285931e+25 -6.03386614e+19\n",
      " -1.26609072e+25]\n",
      "============================================================ \n",
      "\n",
      "Decision Tree\n",
      "[0.12227125 0.332035   0.09656257 0.41975381 0.25699808]\n",
      "============================================================ \n",
      "\n",
      "Random Forest\n",
      "[0.1223237  0.33202698 0.09512638 0.41911896 0.25703885]\n",
      "============================================================ \n",
      "\n",
      "Support Vector Machine\n"
     ]
    },
    {
     "ename": "KeyboardInterrupt",
     "evalue": "",
     "output_type": "error",
     "traceback": [
      "\u001b[1;31m---------------------------------------------------------------------------\u001b[0m",
      "\u001b[1;31mKeyboardInterrupt\u001b[0m                         Traceback (most recent call last)",
      "Input \u001b[1;32mIn [19]\u001b[0m, in \u001b[0;36m<cell line: 1>\u001b[1;34m()\u001b[0m\n\u001b[0;32m      3\u001b[0m model\u001b[38;5;241m.\u001b[39mset_params(\u001b[38;5;241m*\u001b[39m\u001b[38;5;241m*\u001b[39mhyperparameters[key])\n\u001b[0;32m      4\u001b[0m \u001b[38;5;28mprint\u001b[39m(key)\n\u001b[1;32m----> 5\u001b[0m \u001b[38;5;28mprint\u001b[39m(\u001b[43mcross_val_score\u001b[49m\u001b[43m(\u001b[49m\u001b[43mmodel\u001b[49m\u001b[43m,\u001b[49m\u001b[43m \u001b[49m\u001b[43msale_x\u001b[49m\u001b[43m,\u001b[49m\u001b[43m \u001b[49m\u001b[43msale_y\u001b[49m\u001b[43m,\u001b[49m\u001b[43m \u001b[49m\u001b[43mcv\u001b[49m\u001b[38;5;241;43m=\u001b[39;49m\u001b[38;5;241;43m5\u001b[39;49m\u001b[43m,\u001b[49m\u001b[43m \u001b[49m\u001b[43mn_jobs\u001b[49m\u001b[38;5;241;43m=\u001b[39;49m\u001b[38;5;241;43m-\u001b[39;49m\u001b[38;5;241;43m1\u001b[39;49m\u001b[43m)\u001b[49m)\n\u001b[0;32m      6\u001b[0m \u001b[38;5;28mprint\u001b[39m(\u001b[38;5;124m'\u001b[39m\u001b[38;5;124m===\u001b[39m\u001b[38;5;124m'\u001b[39m\u001b[38;5;241m*\u001b[39m\u001b[38;5;241m20\u001b[39m, \u001b[38;5;124m'\u001b[39m\u001b[38;5;130;01m\\n\u001b[39;00m\u001b[38;5;124m'\u001b[39m)\n",
      "File \u001b[1;32m~\\AppData\\Roaming\\Python\\Python39\\site-packages\\sklearn\\model_selection\\_validation.py:515\u001b[0m, in \u001b[0;36mcross_val_score\u001b[1;34m(estimator, X, y, groups, scoring, cv, n_jobs, verbose, fit_params, pre_dispatch, error_score)\u001b[0m\n\u001b[0;32m    512\u001b[0m \u001b[38;5;66;03m# To ensure multimetric format is not supported\u001b[39;00m\n\u001b[0;32m    513\u001b[0m scorer \u001b[38;5;241m=\u001b[39m check_scoring(estimator, scoring\u001b[38;5;241m=\u001b[39mscoring)\n\u001b[1;32m--> 515\u001b[0m cv_results \u001b[38;5;241m=\u001b[39m \u001b[43mcross_validate\u001b[49m\u001b[43m(\u001b[49m\n\u001b[0;32m    516\u001b[0m \u001b[43m    \u001b[49m\u001b[43mestimator\u001b[49m\u001b[38;5;241;43m=\u001b[39;49m\u001b[43mestimator\u001b[49m\u001b[43m,\u001b[49m\n\u001b[0;32m    517\u001b[0m \u001b[43m    \u001b[49m\u001b[43mX\u001b[49m\u001b[38;5;241;43m=\u001b[39;49m\u001b[43mX\u001b[49m\u001b[43m,\u001b[49m\n\u001b[0;32m    518\u001b[0m \u001b[43m    \u001b[49m\u001b[43my\u001b[49m\u001b[38;5;241;43m=\u001b[39;49m\u001b[43my\u001b[49m\u001b[43m,\u001b[49m\n\u001b[0;32m    519\u001b[0m \u001b[43m    \u001b[49m\u001b[43mgroups\u001b[49m\u001b[38;5;241;43m=\u001b[39;49m\u001b[43mgroups\u001b[49m\u001b[43m,\u001b[49m\n\u001b[0;32m    520\u001b[0m \u001b[43m    \u001b[49m\u001b[43mscoring\u001b[49m\u001b[38;5;241;43m=\u001b[39;49m\u001b[43m{\u001b[49m\u001b[38;5;124;43m\"\u001b[39;49m\u001b[38;5;124;43mscore\u001b[39;49m\u001b[38;5;124;43m\"\u001b[39;49m\u001b[43m:\u001b[49m\u001b[43m \u001b[49m\u001b[43mscorer\u001b[49m\u001b[43m}\u001b[49m\u001b[43m,\u001b[49m\n\u001b[0;32m    521\u001b[0m \u001b[43m    \u001b[49m\u001b[43mcv\u001b[49m\u001b[38;5;241;43m=\u001b[39;49m\u001b[43mcv\u001b[49m\u001b[43m,\u001b[49m\n\u001b[0;32m    522\u001b[0m \u001b[43m    \u001b[49m\u001b[43mn_jobs\u001b[49m\u001b[38;5;241;43m=\u001b[39;49m\u001b[43mn_jobs\u001b[49m\u001b[43m,\u001b[49m\n\u001b[0;32m    523\u001b[0m \u001b[43m    \u001b[49m\u001b[43mverbose\u001b[49m\u001b[38;5;241;43m=\u001b[39;49m\u001b[43mverbose\u001b[49m\u001b[43m,\u001b[49m\n\u001b[0;32m    524\u001b[0m \u001b[43m    \u001b[49m\u001b[43mfit_params\u001b[49m\u001b[38;5;241;43m=\u001b[39;49m\u001b[43mfit_params\u001b[49m\u001b[43m,\u001b[49m\n\u001b[0;32m    525\u001b[0m \u001b[43m    \u001b[49m\u001b[43mpre_dispatch\u001b[49m\u001b[38;5;241;43m=\u001b[39;49m\u001b[43mpre_dispatch\u001b[49m\u001b[43m,\u001b[49m\n\u001b[0;32m    526\u001b[0m \u001b[43m    \u001b[49m\u001b[43merror_score\u001b[49m\u001b[38;5;241;43m=\u001b[39;49m\u001b[43merror_score\u001b[49m\u001b[43m,\u001b[49m\n\u001b[0;32m    527\u001b[0m \u001b[43m\u001b[49m\u001b[43m)\u001b[49m\n\u001b[0;32m    528\u001b[0m \u001b[38;5;28;01mreturn\u001b[39;00m cv_results[\u001b[38;5;124m\"\u001b[39m\u001b[38;5;124mtest_score\u001b[39m\u001b[38;5;124m\"\u001b[39m]\n",
      "File \u001b[1;32m~\\AppData\\Roaming\\Python\\Python39\\site-packages\\sklearn\\model_selection\\_validation.py:266\u001b[0m, in \u001b[0;36mcross_validate\u001b[1;34m(estimator, X, y, groups, scoring, cv, n_jobs, verbose, fit_params, pre_dispatch, return_train_score, return_estimator, error_score)\u001b[0m\n\u001b[0;32m    263\u001b[0m \u001b[38;5;66;03m# We clone the estimator to make sure that all the folds are\u001b[39;00m\n\u001b[0;32m    264\u001b[0m \u001b[38;5;66;03m# independent, and that it is pickle-able.\u001b[39;00m\n\u001b[0;32m    265\u001b[0m parallel \u001b[38;5;241m=\u001b[39m Parallel(n_jobs\u001b[38;5;241m=\u001b[39mn_jobs, verbose\u001b[38;5;241m=\u001b[39mverbose, pre_dispatch\u001b[38;5;241m=\u001b[39mpre_dispatch)\n\u001b[1;32m--> 266\u001b[0m results \u001b[38;5;241m=\u001b[39m \u001b[43mparallel\u001b[49m\u001b[43m(\u001b[49m\n\u001b[0;32m    267\u001b[0m \u001b[43m    \u001b[49m\u001b[43mdelayed\u001b[49m\u001b[43m(\u001b[49m\u001b[43m_fit_and_score\u001b[49m\u001b[43m)\u001b[49m\u001b[43m(\u001b[49m\n\u001b[0;32m    268\u001b[0m \u001b[43m        \u001b[49m\u001b[43mclone\u001b[49m\u001b[43m(\u001b[49m\u001b[43mestimator\u001b[49m\u001b[43m)\u001b[49m\u001b[43m,\u001b[49m\n\u001b[0;32m    269\u001b[0m \u001b[43m        \u001b[49m\u001b[43mX\u001b[49m\u001b[43m,\u001b[49m\n\u001b[0;32m    270\u001b[0m \u001b[43m        \u001b[49m\u001b[43my\u001b[49m\u001b[43m,\u001b[49m\n\u001b[0;32m    271\u001b[0m \u001b[43m        \u001b[49m\u001b[43mscorers\u001b[49m\u001b[43m,\u001b[49m\n\u001b[0;32m    272\u001b[0m \u001b[43m        \u001b[49m\u001b[43mtrain\u001b[49m\u001b[43m,\u001b[49m\n\u001b[0;32m    273\u001b[0m \u001b[43m        \u001b[49m\u001b[43mtest\u001b[49m\u001b[43m,\u001b[49m\n\u001b[0;32m    274\u001b[0m \u001b[43m        \u001b[49m\u001b[43mverbose\u001b[49m\u001b[43m,\u001b[49m\n\u001b[0;32m    275\u001b[0m \u001b[43m        \u001b[49m\u001b[38;5;28;43;01mNone\u001b[39;49;00m\u001b[43m,\u001b[49m\n\u001b[0;32m    276\u001b[0m \u001b[43m        \u001b[49m\u001b[43mfit_params\u001b[49m\u001b[43m,\u001b[49m\n\u001b[0;32m    277\u001b[0m \u001b[43m        \u001b[49m\u001b[43mreturn_train_score\u001b[49m\u001b[38;5;241;43m=\u001b[39;49m\u001b[43mreturn_train_score\u001b[49m\u001b[43m,\u001b[49m\n\u001b[0;32m    278\u001b[0m \u001b[43m        \u001b[49m\u001b[43mreturn_times\u001b[49m\u001b[38;5;241;43m=\u001b[39;49m\u001b[38;5;28;43;01mTrue\u001b[39;49;00m\u001b[43m,\u001b[49m\n\u001b[0;32m    279\u001b[0m \u001b[43m        \u001b[49m\u001b[43mreturn_estimator\u001b[49m\u001b[38;5;241;43m=\u001b[39;49m\u001b[43mreturn_estimator\u001b[49m\u001b[43m,\u001b[49m\n\u001b[0;32m    280\u001b[0m \u001b[43m        \u001b[49m\u001b[43merror_score\u001b[49m\u001b[38;5;241;43m=\u001b[39;49m\u001b[43merror_score\u001b[49m\u001b[43m,\u001b[49m\n\u001b[0;32m    281\u001b[0m \u001b[43m    \u001b[49m\u001b[43m)\u001b[49m\n\u001b[0;32m    282\u001b[0m \u001b[43m    \u001b[49m\u001b[38;5;28;43;01mfor\u001b[39;49;00m\u001b[43m \u001b[49m\u001b[43mtrain\u001b[49m\u001b[43m,\u001b[49m\u001b[43m \u001b[49m\u001b[43mtest\u001b[49m\u001b[43m \u001b[49m\u001b[38;5;129;43;01min\u001b[39;49;00m\u001b[43m \u001b[49m\u001b[43mcv\u001b[49m\u001b[38;5;241;43m.\u001b[39;49m\u001b[43msplit\u001b[49m\u001b[43m(\u001b[49m\u001b[43mX\u001b[49m\u001b[43m,\u001b[49m\u001b[43m \u001b[49m\u001b[43my\u001b[49m\u001b[43m,\u001b[49m\u001b[43m \u001b[49m\u001b[43mgroups\u001b[49m\u001b[43m)\u001b[49m\n\u001b[0;32m    283\u001b[0m \u001b[43m\u001b[49m\u001b[43m)\u001b[49m\n\u001b[0;32m    285\u001b[0m _warn_or_raise_about_fit_failures(results, error_score)\n\u001b[0;32m    287\u001b[0m \u001b[38;5;66;03m# For callabe scoring, the return type is only know after calling. If the\u001b[39;00m\n\u001b[0;32m    288\u001b[0m \u001b[38;5;66;03m# return type is a dictionary, the error scores can now be inserted with\u001b[39;00m\n\u001b[0;32m    289\u001b[0m \u001b[38;5;66;03m# the correct key.\u001b[39;00m\n",
      "File \u001b[1;32mC:\\ProgramData\\Anaconda3\\lib\\site-packages\\joblib\\parallel.py:1056\u001b[0m, in \u001b[0;36mParallel.__call__\u001b[1;34m(self, iterable)\u001b[0m\n\u001b[0;32m   1053\u001b[0m     \u001b[38;5;28mself\u001b[39m\u001b[38;5;241m.\u001b[39m_iterating \u001b[38;5;241m=\u001b[39m \u001b[38;5;28;01mFalse\u001b[39;00m\n\u001b[0;32m   1055\u001b[0m \u001b[38;5;28;01mwith\u001b[39;00m \u001b[38;5;28mself\u001b[39m\u001b[38;5;241m.\u001b[39m_backend\u001b[38;5;241m.\u001b[39mretrieval_context():\n\u001b[1;32m-> 1056\u001b[0m     \u001b[38;5;28;43mself\u001b[39;49m\u001b[38;5;241;43m.\u001b[39;49m\u001b[43mretrieve\u001b[49m\u001b[43m(\u001b[49m\u001b[43m)\u001b[49m\n\u001b[0;32m   1057\u001b[0m \u001b[38;5;66;03m# Make sure that we get a last message telling us we are done\u001b[39;00m\n\u001b[0;32m   1058\u001b[0m elapsed_time \u001b[38;5;241m=\u001b[39m time\u001b[38;5;241m.\u001b[39mtime() \u001b[38;5;241m-\u001b[39m \u001b[38;5;28mself\u001b[39m\u001b[38;5;241m.\u001b[39m_start_time\n",
      "File \u001b[1;32mC:\\ProgramData\\Anaconda3\\lib\\site-packages\\joblib\\parallel.py:935\u001b[0m, in \u001b[0;36mParallel.retrieve\u001b[1;34m(self)\u001b[0m\n\u001b[0;32m    933\u001b[0m \u001b[38;5;28;01mtry\u001b[39;00m:\n\u001b[0;32m    934\u001b[0m     \u001b[38;5;28;01mif\u001b[39;00m \u001b[38;5;28mgetattr\u001b[39m(\u001b[38;5;28mself\u001b[39m\u001b[38;5;241m.\u001b[39m_backend, \u001b[38;5;124m'\u001b[39m\u001b[38;5;124msupports_timeout\u001b[39m\u001b[38;5;124m'\u001b[39m, \u001b[38;5;28;01mFalse\u001b[39;00m):\n\u001b[1;32m--> 935\u001b[0m         \u001b[38;5;28mself\u001b[39m\u001b[38;5;241m.\u001b[39m_output\u001b[38;5;241m.\u001b[39mextend(\u001b[43mjob\u001b[49m\u001b[38;5;241;43m.\u001b[39;49m\u001b[43mget\u001b[49m\u001b[43m(\u001b[49m\u001b[43mtimeout\u001b[49m\u001b[38;5;241;43m=\u001b[39;49m\u001b[38;5;28;43mself\u001b[39;49m\u001b[38;5;241;43m.\u001b[39;49m\u001b[43mtimeout\u001b[49m\u001b[43m)\u001b[49m)\n\u001b[0;32m    936\u001b[0m     \u001b[38;5;28;01melse\u001b[39;00m:\n\u001b[0;32m    937\u001b[0m         \u001b[38;5;28mself\u001b[39m\u001b[38;5;241m.\u001b[39m_output\u001b[38;5;241m.\u001b[39mextend(job\u001b[38;5;241m.\u001b[39mget())\n",
      "File \u001b[1;32mC:\\ProgramData\\Anaconda3\\lib\\site-packages\\joblib\\_parallel_backends.py:542\u001b[0m, in \u001b[0;36mLokyBackend.wrap_future_result\u001b[1;34m(future, timeout)\u001b[0m\n\u001b[0;32m    539\u001b[0m \u001b[38;5;124;03m\"\"\"Wrapper for Future.result to implement the same behaviour as\u001b[39;00m\n\u001b[0;32m    540\u001b[0m \u001b[38;5;124;03mAsyncResults.get from multiprocessing.\"\"\"\u001b[39;00m\n\u001b[0;32m    541\u001b[0m \u001b[38;5;28;01mtry\u001b[39;00m:\n\u001b[1;32m--> 542\u001b[0m     \u001b[38;5;28;01mreturn\u001b[39;00m \u001b[43mfuture\u001b[49m\u001b[38;5;241;43m.\u001b[39;49m\u001b[43mresult\u001b[49m\u001b[43m(\u001b[49m\u001b[43mtimeout\u001b[49m\u001b[38;5;241;43m=\u001b[39;49m\u001b[43mtimeout\u001b[49m\u001b[43m)\u001b[49m\n\u001b[0;32m    543\u001b[0m \u001b[38;5;28;01mexcept\u001b[39;00m CfTimeoutError \u001b[38;5;28;01mas\u001b[39;00m e:\n\u001b[0;32m    544\u001b[0m     \u001b[38;5;28;01mraise\u001b[39;00m \u001b[38;5;167;01mTimeoutError\u001b[39;00m \u001b[38;5;28;01mfrom\u001b[39;00m \u001b[38;5;21;01me\u001b[39;00m\n",
      "File \u001b[1;32mC:\\ProgramData\\Anaconda3\\lib\\concurrent\\futures\\_base.py:441\u001b[0m, in \u001b[0;36mFuture.result\u001b[1;34m(self, timeout)\u001b[0m\n\u001b[0;32m    438\u001b[0m \u001b[38;5;28;01melif\u001b[39;00m \u001b[38;5;28mself\u001b[39m\u001b[38;5;241m.\u001b[39m_state \u001b[38;5;241m==\u001b[39m FINISHED:\n\u001b[0;32m    439\u001b[0m     \u001b[38;5;28;01mreturn\u001b[39;00m \u001b[38;5;28mself\u001b[39m\u001b[38;5;241m.\u001b[39m__get_result()\n\u001b[1;32m--> 441\u001b[0m \u001b[38;5;28;43mself\u001b[39;49m\u001b[38;5;241;43m.\u001b[39;49m\u001b[43m_condition\u001b[49m\u001b[38;5;241;43m.\u001b[39;49m\u001b[43mwait\u001b[49m\u001b[43m(\u001b[49m\u001b[43mtimeout\u001b[49m\u001b[43m)\u001b[49m\n\u001b[0;32m    443\u001b[0m \u001b[38;5;28;01mif\u001b[39;00m \u001b[38;5;28mself\u001b[39m\u001b[38;5;241m.\u001b[39m_state \u001b[38;5;129;01min\u001b[39;00m [CANCELLED, CANCELLED_AND_NOTIFIED]:\n\u001b[0;32m    444\u001b[0m     \u001b[38;5;28;01mraise\u001b[39;00m CancelledError()\n",
      "File \u001b[1;32mC:\\ProgramData\\Anaconda3\\lib\\threading.py:312\u001b[0m, in \u001b[0;36mCondition.wait\u001b[1;34m(self, timeout)\u001b[0m\n\u001b[0;32m    310\u001b[0m \u001b[38;5;28;01mtry\u001b[39;00m:    \u001b[38;5;66;03m# restore state no matter what (e.g., KeyboardInterrupt)\u001b[39;00m\n\u001b[0;32m    311\u001b[0m     \u001b[38;5;28;01mif\u001b[39;00m timeout \u001b[38;5;129;01mis\u001b[39;00m \u001b[38;5;28;01mNone\u001b[39;00m:\n\u001b[1;32m--> 312\u001b[0m         \u001b[43mwaiter\u001b[49m\u001b[38;5;241;43m.\u001b[39;49m\u001b[43macquire\u001b[49m\u001b[43m(\u001b[49m\u001b[43m)\u001b[49m\n\u001b[0;32m    313\u001b[0m         gotit \u001b[38;5;241m=\u001b[39m \u001b[38;5;28;01mTrue\u001b[39;00m\n\u001b[0;32m    314\u001b[0m     \u001b[38;5;28;01melse\u001b[39;00m:\n",
      "\u001b[1;31mKeyboardInterrupt\u001b[0m: "
     ]
    }
   ],
   "source": [
    "for key, value in models.items():\n",
    "    model = value\n",
    "    model.set_params(**hyperparameters[key])\n",
    "    print(key)\n",
    "    print(cross_val_score(model, sale_x, sale_y, cv=5, n_jobs=-1))\n",
    "    print('==='*20, '\\n')"
   ]
  },
  {
   "cell_type": "code",
   "execution_count": 32,
   "id": "7d153dbe",
   "metadata": {},
   "outputs": [],
   "source": [
    "score_param = {\n",
    "    'score':['train','test','R2','RMSE','MAE','MAPE']\n",
    "}"
   ]
  },
  {
   "cell_type": "code",
   "execution_count": 33,
   "id": "77302e13",
   "metadata": {},
   "outputs": [
    {
     "name": "stderr",
     "output_type": "stream",
     "text": [
      "C:\\Users\\DS\\AppData\\Roaming\\Python\\Python39\\site-packages\\sklearn\\tree\\_classes.py:306: FutureWarning: `max_features='auto'` has been deprecated in 1.1 and will be removed in 1.3. To keep the past behaviour, explicitly set `max_features=1.0'`.\n",
      "  warnings.warn(\n",
      "C:\\Users\\DS\\AppData\\Roaming\\Python\\Python39\\site-packages\\sklearn\\ensemble\\_forest.py:416: FutureWarning: `max_features='auto'` has been deprecated in 1.1 and will be removed in 1.3. To keep the past behaviour, explicitly set `max_features=1.0` or remove this parameter as it is also the default value for RandomForestRegressors and ExtraTreesRegressors.\n",
      "  warn(\n"
     ]
    },
    {
     "name": "stdout",
     "output_type": "stream",
     "text": [
      "Decision Tree: Score is ready\n",
      "Random Forest: Score is ready\n",
      "Support Vector Machine: Score is ready\n",
      "Gradient Boost: Score is ready\n",
      "Neural Network: Score is ready\n"
     ]
    },
    {
     "name": "stderr",
     "output_type": "stream",
     "text": [
      "C:\\Users\\DS\\AppData\\Roaming\\Python\\Python39\\site-packages\\sklearn\\neural_network\\_multilayer_perceptron.py:702: ConvergenceWarning: Stochastic Optimizer: Maximum iterations (200) reached and the optimization hasn't converged yet.\n",
      "  warnings.warn(\n"
     ]
    }
   ],
   "source": [
    "for key, value in models.items():\n",
    "    model = value\n",
    "    model.set_params(**hyperparameters[key])\n",
    "    model.fit(sale_x_train,sale_y_train)\n",
    "    sale_y_pred = model.predict(sale_x_test)\n",
    "    \n",
    "    score_param[key] = []\n",
    "    score_param[key].append(model.score(sale_x_train,sale_y_train))\n",
    "    score_param[key].append(model.score(sale_x_test,sale_y_test))\n",
    "    score_param[key].append(r2_score(sale_y_test,sale_y_pred))\n",
    "    score_param[key].append(mean_squared_error(sale_y_test,sale_y_pred, squared=False))\n",
    "    score_param[key].append(mean_absolute_error(sale_y_test,sale_y_pred))\n",
    "    score_param[key].append(mean_absolute_percentage_error(sale_y_test,sale_y_pred))\n",
    "    print(key + ': Score is ready')"
   ]
  },
  {
   "cell_type": "code",
   "execution_count": 34,
   "id": "bfd80b7e",
   "metadata": {
    "scrolled": true
   },
   "outputs": [
    {
     "data": {
      "text/html": [
       "<div>\n",
       "<style scoped>\n",
       "    .dataframe tbody tr th:only-of-type {\n",
       "        vertical-align: middle;\n",
       "    }\n",
       "\n",
       "    .dataframe tbody tr th {\n",
       "        vertical-align: top;\n",
       "    }\n",
       "\n",
       "    .dataframe thead th {\n",
       "        text-align: right;\n",
       "    }\n",
       "</style>\n",
       "<table border=\"1\" class=\"dataframe\">\n",
       "  <thead>\n",
       "    <tr style=\"text-align: right;\">\n",
       "      <th>score</th>\n",
       "      <th>model</th>\n",
       "      <th>train</th>\n",
       "      <th>test</th>\n",
       "      <th>R2</th>\n",
       "      <th>RMSE</th>\n",
       "      <th>MAE</th>\n",
       "      <th>MAPE</th>\n",
       "    </tr>\n",
       "  </thead>\n",
       "  <tbody>\n",
       "    <tr>\n",
       "      <th>0</th>\n",
       "      <td>Decision Tree</td>\n",
       "      <td>0.361964</td>\n",
       "      <td>0.335084</td>\n",
       "      <td>0.335084</td>\n",
       "      <td>812374.17421</td>\n",
       "      <td>524817.630317</td>\n",
       "      <td>0.707971</td>\n",
       "    </tr>\n",
       "    <tr>\n",
       "      <th>1</th>\n",
       "      <td>Random Forest</td>\n",
       "      <td>0.361961</td>\n",
       "      <td>0.335342</td>\n",
       "      <td>0.335342</td>\n",
       "      <td>812216.302943</td>\n",
       "      <td>524607.095391</td>\n",
       "      <td>0.7077</td>\n",
       "    </tr>\n",
       "    <tr>\n",
       "      <th>2</th>\n",
       "      <td>Support Vector Machine</td>\n",
       "      <td>-0.12599</td>\n",
       "      <td>-0.130779</td>\n",
       "      <td>-0.130779</td>\n",
       "      <td>1059403.993619</td>\n",
       "      <td>594688.833186</td>\n",
       "      <td>0.605414</td>\n",
       "    </tr>\n",
       "    <tr>\n",
       "      <th>3</th>\n",
       "      <td>Gradient Boost</td>\n",
       "      <td>0.771321</td>\n",
       "      <td>0.711599</td>\n",
       "      <td>0.711599</td>\n",
       "      <td>535021.542419</td>\n",
       "      <td>314554.31775</td>\n",
       "      <td>0.354122</td>\n",
       "    </tr>\n",
       "    <tr>\n",
       "      <th>4</th>\n",
       "      <td>Neural Network</td>\n",
       "      <td>0.808803</td>\n",
       "      <td>0.759236</td>\n",
       "      <td>0.759236</td>\n",
       "      <td>488841.906521</td>\n",
       "      <td>267535.920043</td>\n",
       "      <td>0.264315</td>\n",
       "    </tr>\n",
       "  </tbody>\n",
       "</table>\n",
       "</div>"
      ],
      "text/plain": [
       "score                   model     train      test        R2            RMSE  \\\n",
       "0               Decision Tree  0.361964  0.335084  0.335084    812374.17421   \n",
       "1               Random Forest  0.361961  0.335342  0.335342   812216.302943   \n",
       "2      Support Vector Machine  -0.12599 -0.130779 -0.130779  1059403.993619   \n",
       "3              Gradient Boost  0.771321  0.711599  0.711599   535021.542419   \n",
       "4              Neural Network  0.808803  0.759236  0.759236   488841.906521   \n",
       "\n",
       "score            MAE      MAPE  \n",
       "0      524817.630317  0.707971  \n",
       "1      524607.095391    0.7077  \n",
       "2      594688.833186  0.605414  \n",
       "3       314554.31775  0.354122  \n",
       "4      267535.920043  0.264315  "
      ]
     },
     "execution_count": 34,
     "metadata": {},
     "output_type": "execute_result"
    }
   ],
   "source": [
    "param_df = pd.DataFrame(score_param).T\n",
    "param_df.columns = param_df.iloc[0]\n",
    "param_df = param_df[1:]\n",
    "param_df = param_df.reset_index()\n",
    "param_df.rename(columns={'index':'model'}, inplace=True)\n",
    "param_df"
   ]
  },
  {
   "cell_type": "code",
   "execution_count": 35,
   "id": "9c22c064",
   "metadata": {},
   "outputs": [
    {
     "data": {
      "text/plain": [
       "(array([0, 1, 2, 3, 4]),\n",
       " [Text(0, 0, 'Decision Tree'),\n",
       "  Text(1, 0, 'Random Forest'),\n",
       "  Text(2, 0, 'Support Vector Machine'),\n",
       "  Text(3, 0, 'Gradient Boost'),\n",
       "  Text(4, 0, 'Neural Network')])"
      ]
     },
     "execution_count": 35,
     "metadata": {},
     "output_type": "execute_result"
    },
    {
     "data": {
      "image/png": "[encoded data removed]",
      "text/plain": [
       "<Figure size 432x288 with 1 Axes>"
      ]
     },
     "metadata": {
      "needs_background": "light"
     },
     "output_type": "display_data"
    }
   ],
   "source": [
    "p = sns.barplot(data=param_df, x='model', y='train')\n",
    "p.set_title('Train Score')\n",
    "plt.xticks(rotation=-45)"
   ]
  },
  {
   "cell_type": "code",
   "execution_count": 36,
   "id": "84dfcd6f",
   "metadata": {},
   "outputs": [
    {
     "data": {
      "text/plain": [
       "(array([0, 1, 2, 3, 4]),\n",
       " [Text(0, 0, 'Decision Tree'),\n",
       "  Text(1, 0, 'Random Forest'),\n",
       "  Text(2, 0, 'Support Vector Machine'),\n",
       "  Text(3, 0, 'Gradient Boost'),\n",
       "  Text(4, 0, 'Neural Network')])"
      ]
     },
     "execution_count": 36,
     "metadata": {},
     "output_type": "execute_result"
    },
    {
     "data": {
      "image/png": "[encoded data removed]",
      "text/plain": [
       "<Figure size 432x288 with 1 Axes>"
      ]
     },
     "metadata": {
      "needs_background": "light"
     },
     "output_type": "display_data"
    }
   ],
   "source": [
    "p = sns.barplot(data=param_df, x='model', y='test')\n",
    "p.set_title('Test Score')\n",
    "plt.xticks(rotation=-45)"
   ]
  },
  {
   "cell_type": "code",
   "execution_count": 37,
   "id": "5431f039",
   "metadata": {},
   "outputs": [
    {
     "data": {
      "text/plain": [
       "(array([0, 1, 2, 3, 4]),\n",
       " [Text(0, 0, 'Decision Tree'),\n",
       "  Text(1, 0, 'Random Forest'),\n",
       "  Text(2, 0, 'Support Vector Machine'),\n",
       "  Text(3, 0, 'Gradient Boost'),\n",
       "  Text(4, 0, 'Neural Network')])"
      ]
     },
     "execution_count": 37,
     "metadata": {},
     "output_type": "execute_result"
    },
    {
     "data": {
      "image/png": "[encoded data removed]",
      "text/plain": [
       "<Figure size 432x288 with 1 Axes>"
      ]
     },
     "metadata": {
      "needs_background": "light"
     },
     "output_type": "display_data"
    }
   ],
   "source": [
    "p = sns.barplot(data=param_df, x='model', y='R2')\n",
    "p.set_title('R2 Score')\n",
    "plt.xticks(rotation=-45)"
   ]
  },
  {
   "cell_type": "code",
   "execution_count": 38,
   "id": "2d1f14b3",
   "metadata": {},
   "outputs": [
    {
     "data": {
      "text/plain": [
       "(array([0, 1, 2, 3, 4]),\n",
       " [Text(0, 0, 'Decision Tree'),\n",
       "  Text(1, 0, 'Random Forest'),\n",
       "  Text(2, 0, 'Support Vector Machine'),\n",
       "  Text(3, 0, 'Gradient Boost'),\n",
       "  Text(4, 0, 'Neural Network')])"
      ]
     },
     "execution_count": 38,
     "metadata": {},
     "output_type": "execute_result"
    },
    {
     "data": {
      "image/png": "[encoded data removed]",
      "text/plain": [
       "<Figure size 432x288 with 1 Axes>"
      ]
     },
     "metadata": {
      "needs_background": "light"
     },
     "output_type": "display_data"
    }
   ],
   "source": [
    "p = sns.barplot(data=param_df, x='model', y='RMSE')\n",
    "p.set_title('RMSE Score')\n",
    "plt.xticks(rotation=-45)"
   ]
  },
  {
   "cell_type": "code",
   "execution_count": 39,
   "id": "6fc93084",
   "metadata": {},
   "outputs": [
    {
     "data": {
      "text/plain": [
       "(array([0, 1, 2, 3, 4]),\n",
       " [Text(0, 0, 'Decision Tree'),\n",
       "  Text(1, 0, 'Random Forest'),\n",
       "  Text(2, 0, 'Support Vector Machine'),\n",
       "  Text(3, 0, 'Gradient Boost'),\n",
       "  Text(4, 0, 'Neural Network')])"
      ]
     },
     "execution_count": 39,
     "metadata": {},
     "output_type": "execute_result"
    },
    {
     "data": {
      "image/png": "[encoded data removed]",
      "text/plain": [
       "<Figure size 432x288 with 1 Axes>"
      ]
     },
     "metadata": {
      "needs_background": "light"
     },
     "output_type": "display_data"
    }
   ],
   "source": [
    "p = sns.barplot(data=param_df, x='model', y='MAE')\n",
    "p.set_title('MAE Score')\n",
    "plt.xticks(rotation=-45)"
   ]
  },
  {
   "cell_type": "code",
   "execution_count": 40,
   "id": "02eaca54",
   "metadata": {},
   "outputs": [
    {
     "data": {
      "text/plain": [
       "(array([0, 1, 2, 3, 4]),\n",
       " [Text(0, 0, 'Decision Tree'),\n",
       "  Text(1, 0, 'Random Forest'),\n",
       "  Text(2, 0, 'Support Vector Machine'),\n",
       "  Text(3, 0, 'Gradient Boost'),\n",
       "  Text(4, 0, 'Neural Network')])"
      ]
     },
     "execution_count": 40,
     "metadata": {},
     "output_type": "execute_result"
    },
    {
     "data": {
      "image/png": "[encoded data removed]",
      "text/plain": [
       "<Figure size 432x288 with 1 Axes>"
      ]
     },
     "metadata": {
      "needs_background": "light"
     },
     "output_type": "display_data"
    }
   ],
   "source": [
    "p = sns.barplot(data=param_df, x='model', y='MAPE')\n",
    "p.set_title('MAPE Score')\n",
    "plt.xticks(rotation=-45)"
   ]
  },
  {
   "cell_type": "code",
   "execution_count": null,
   "id": "750d492b",
   "metadata": {},
   "outputs": [],
   "source": []
  }
 ],
 "metadata": {
  "kernelspec": {
   "display_name": "Python 3 (ipykernel)",
   "language": "python",
   "name": "python3"
  },
  "language_info": {
   "codemirror_mode": {
    "name": "ipython",
    "version": 3
   },
   "file_extension": ".py",
   "mimetype": "text/x-python",
   "name": "python",
   "nbconvert_exporter": "python",
   "pygments_lexer": "ipython3",
   "version": "3.9.12"
  }
 },
 "nbformat": 4,
 "nbformat_minor": 5
}
