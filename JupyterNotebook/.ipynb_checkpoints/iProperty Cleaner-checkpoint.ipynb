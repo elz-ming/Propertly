{
 "cells": [
  {
   "cell_type": "code",
   "execution_count": 117,
   "id": "123cd7b1",
   "metadata": {},
   "outputs": [],
   "source": [
    "import pandas as pd"
   ]
  },
  {
   "cell_type": "code",
   "execution_count": 118,
   "id": "58ac6a8f",
   "metadata": {},
   "outputs": [],
   "source": [
    "df = pd.read_csv('./data/NS_iProperty_v2_cleaned.csv')"
   ]
  },
  {
   "cell_type": "code",
   "execution_count": 119,
   "id": "0310757c",
   "metadata": {},
   "outputs": [
    {
     "data": {
      "text/html": [
       "<div>\n",
       "<style scoped>\n",
       "    .dataframe tbody tr th:only-of-type {\n",
       "        vertical-align: middle;\n",
       "    }\n",
       "\n",
       "    .dataframe tbody tr th {\n",
       "        vertical-align: top;\n",
       "    }\n",
       "\n",
       "    .dataframe thead th {\n",
       "        text-align: right;\n",
       "    }\n",
       "</style>\n",
       "<table border=\"1\" class=\"dataframe\">\n",
       "  <thead>\n",
       "    <tr style=\"text-align: right;\">\n",
       "      <th></th>\n",
       "      <th>name</th>\n",
       "      <th>price</th>\n",
       "      <th>psf</th>\n",
       "      <th>address</th>\n",
       "      <th>description</th>\n",
       "      <th>bedroom</th>\n",
       "      <th>bathroom</th>\n",
       "      <th>carpark</th>\n",
       "    </tr>\n",
       "  </thead>\n",
       "  <tbody>\n",
       "    <tr>\n",
       "      <th>0</th>\n",
       "      <td>Green Street Homes, Seremban 2</td>\n",
       "      <td>RM 780,000</td>\n",
       "      <td>(RM 312 per sq. ft.)</td>\n",
       "      <td>Seremban 2, Negeri Sembilan</td>\n",
       "      <td>Semi-detached House | Intermediate  •  Built-u...</td>\n",
       "      <td>4</td>\n",
       "      <td>3.0</td>\n",
       "      <td>4.0</td>\n",
       "    </tr>\n",
       "    <tr>\n",
       "      <th>1</th>\n",
       "      <td>SEMI D di Senawang | Seremban | Rasah | Temian...</td>\n",
       "      <td>RM 500,000</td>\n",
       "      <td>(RM 301.2 per sq. ft.)</td>\n",
       "      <td>Seremban, Negeri Sembilan</td>\n",
       "      <td>Semi-detached House | Corner lot  •  Built-up ...</td>\n",
       "      <td>4</td>\n",
       "      <td>2.0</td>\n",
       "      <td>NaN</td>\n",
       "    </tr>\n",
       "    <tr>\n",
       "      <th>2</th>\n",
       "      <td>2 Sty Terrace | Gadong Jaya, Nilai, Sepang, KL...</td>\n",
       "      <td>RM 400,000</td>\n",
       "      <td>(RM 193.24 per sq. ft.)</td>\n",
       "      <td>Nilai, Negeri Sembilan</td>\n",
       "      <td>2-sty Terrace/Link House  •  Built-up : 2,070 ...</td>\n",
       "      <td>4</td>\n",
       "      <td>3.0</td>\n",
       "      <td>NaN</td>\n",
       "    </tr>\n",
       "    <tr>\n",
       "      <th>3</th>\n",
       "      <td>Double Storey Semi D | Seremban 2 [REDBRICKS],...</td>\n",
       "      <td>RM 914,000</td>\n",
       "      <td>(RM 300.46 per sq. ft.)</td>\n",
       "      <td>Seremban 2, Negeri Sembilan</td>\n",
       "      <td>Semi-detached House  •  Built-up : 3,042 sq. ft.</td>\n",
       "      <td>5</td>\n",
       "      <td>4.0</td>\n",
       "      <td>NaN</td>\n",
       "    </tr>\n",
       "    <tr>\n",
       "      <th>4</th>\n",
       "      <td>Rasah Seremban Single Storey Bangalow Renovate...</td>\n",
       "      <td>RM 560,000</td>\n",
       "      <td>(RM 302.7 per sq. ft.)</td>\n",
       "      <td>Rasah, Negeri Sembilan</td>\n",
       "      <td>Bungalow | Intermediate  •  Built-up : 1,850 s...</td>\n",
       "      <td>4</td>\n",
       "      <td>4.0</td>\n",
       "      <td>5.0</td>\n",
       "    </tr>\n",
       "  </tbody>\n",
       "</table>\n",
       "</div>"
      ],
      "text/plain": [
       "                                                name       price  \\\n",
       "0                     Green Street Homes, Seremban 2  RM 780,000   \n",
       "1  SEMI D di Senawang | Seremban | Rasah | Temian...  RM 500,000   \n",
       "2  2 Sty Terrace | Gadong Jaya, Nilai, Sepang, KL...  RM 400,000   \n",
       "3  Double Storey Semi D | Seremban 2 [REDBRICKS],...  RM 914,000   \n",
       "4  Rasah Seremban Single Storey Bangalow Renovate...  RM 560,000   \n",
       "\n",
       "                       psf                      address  \\\n",
       "0     (RM 312 per sq. ft.)  Seremban 2, Negeri Sembilan   \n",
       "1   (RM 301.2 per sq. ft.)    Seremban, Negeri Sembilan   \n",
       "2  (RM 193.24 per sq. ft.)       Nilai, Negeri Sembilan   \n",
       "3  (RM 300.46 per sq. ft.)  Seremban 2, Negeri Sembilan   \n",
       "4   (RM 302.7 per sq. ft.)       Rasah, Negeri Sembilan   \n",
       "\n",
       "                                         description bedroom  bathroom  \\\n",
       "0  Semi-detached House | Intermediate  •  Built-u...       4       3.0   \n",
       "1  Semi-detached House | Corner lot  •  Built-up ...       4       2.0   \n",
       "2  2-sty Terrace/Link House  •  Built-up : 2,070 ...       4       3.0   \n",
       "3   Semi-detached House  •  Built-up : 3,042 sq. ft.       5       4.0   \n",
       "4  Bungalow | Intermediate  •  Built-up : 1,850 s...       4       4.0   \n",
       "\n",
       "   carpark  \n",
       "0      4.0  \n",
       "1      NaN  \n",
       "2      NaN  \n",
       "3      NaN  \n",
       "4      5.0  "
      ]
     },
     "execution_count": 119,
     "metadata": {},
     "output_type": "execute_result"
    }
   ],
   "source": [
    "df.head()"
   ]
  },
  {
   "cell_type": "code",
   "execution_count": 120,
   "id": "6faad6eb",
   "metadata": {},
   "outputs": [
    {
     "name": "stdout",
     "output_type": "stream",
     "text": [
      "<class 'pandas.core.frame.DataFrame'>\n",
      "RangeIndex: 2000 entries, 0 to 1999\n",
      "Data columns (total 8 columns):\n",
      " #   Column       Non-Null Count  Dtype  \n",
      "---  ------       --------------  -----  \n",
      " 0   name         2000 non-null   object \n",
      " 1   price        2000 non-null   object \n",
      " 2   psf          1994 non-null   object \n",
      " 3   address      2000 non-null   object \n",
      " 4   description  2000 non-null   object \n",
      " 5   bedroom      1819 non-null   object \n",
      " 6   bathroom     1819 non-null   float64\n",
      " 7   carpark      1082 non-null   float64\n",
      "dtypes: float64(2), object(6)\n",
      "memory usage: 125.1+ KB\n"
     ]
    }
   ],
   "source": [
    "df.info()"
   ]
  },
  {
   "cell_type": "code",
   "execution_count": 121,
   "id": "6485d028",
   "metadata": {},
   "outputs": [],
   "source": [
    "df['carpark'].fillna(0, inplace=True)\n",
    "df = df.dropna()\n",
    "df = df.drop_duplicates()"
   ]
  },
  {
   "cell_type": "code",
   "execution_count": 122,
   "id": "92469fdd",
   "metadata": {
    "scrolled": true
   },
   "outputs": [
    {
     "name": "stdout",
     "output_type": "stream",
     "text": [
      "<class 'pandas.core.frame.DataFrame'>\n",
      "Int64Index: 1737 entries, 0 to 1999\n",
      "Data columns (total 8 columns):\n",
      " #   Column       Non-Null Count  Dtype  \n",
      "---  ------       --------------  -----  \n",
      " 0   name         1737 non-null   object \n",
      " 1   price        1737 non-null   object \n",
      " 2   psf          1737 non-null   object \n",
      " 3   address      1737 non-null   object \n",
      " 4   description  1737 non-null   object \n",
      " 5   bedroom      1737 non-null   object \n",
      " 6   bathroom     1737 non-null   float64\n",
      " 7   carpark      1737 non-null   float64\n",
      "dtypes: float64(2), object(6)\n",
      "memory usage: 122.1+ KB\n"
     ]
    }
   ],
   "source": [
    "df.info()"
   ]
  },
  {
   "cell_type": "code",
   "execution_count": 123,
   "id": "699ba5de",
   "metadata": {},
   "outputs": [
    {
     "data": {
      "text/html": [
       "<div>\n",
       "<style scoped>\n",
       "    .dataframe tbody tr th:only-of-type {\n",
       "        vertical-align: middle;\n",
       "    }\n",
       "\n",
       "    .dataframe tbody tr th {\n",
       "        vertical-align: top;\n",
       "    }\n",
       "\n",
       "    .dataframe thead th {\n",
       "        text-align: right;\n",
       "    }\n",
       "</style>\n",
       "<table border=\"1\" class=\"dataframe\">\n",
       "  <thead>\n",
       "    <tr style=\"text-align: right;\">\n",
       "      <th></th>\n",
       "      <th>name</th>\n",
       "      <th>price</th>\n",
       "      <th>psf</th>\n",
       "      <th>address</th>\n",
       "      <th>description</th>\n",
       "      <th>bedroom</th>\n",
       "      <th>bathroom</th>\n",
       "      <th>carpark</th>\n",
       "    </tr>\n",
       "  </thead>\n",
       "  <tbody>\n",
       "    <tr>\n",
       "      <th>0</th>\n",
       "      <td>Green Street Homes, Seremban 2</td>\n",
       "      <td>RM 780,000</td>\n",
       "      <td>(RM 312 per sq. ft.)</td>\n",
       "      <td>Seremban 2, Negeri Sembilan</td>\n",
       "      <td>Semi-detached House | Intermediate  •  Built-u...</td>\n",
       "      <td>4</td>\n",
       "      <td>3.0</td>\n",
       "      <td>4.0</td>\n",
       "    </tr>\n",
       "    <tr>\n",
       "      <th>1</th>\n",
       "      <td>SEMI D di Senawang | Seremban | Rasah | Temian...</td>\n",
       "      <td>RM 500,000</td>\n",
       "      <td>(RM 301.2 per sq. ft.)</td>\n",
       "      <td>Seremban, Negeri Sembilan</td>\n",
       "      <td>Semi-detached House | Corner lot  •  Built-up ...</td>\n",
       "      <td>4</td>\n",
       "      <td>2.0</td>\n",
       "      <td>0.0</td>\n",
       "    </tr>\n",
       "    <tr>\n",
       "      <th>2</th>\n",
       "      <td>2 Sty Terrace | Gadong Jaya, Nilai, Sepang, KL...</td>\n",
       "      <td>RM 400,000</td>\n",
       "      <td>(RM 193.24 per sq. ft.)</td>\n",
       "      <td>Nilai, Negeri Sembilan</td>\n",
       "      <td>2-sty Terrace/Link House  •  Built-up : 2,070 ...</td>\n",
       "      <td>4</td>\n",
       "      <td>3.0</td>\n",
       "      <td>0.0</td>\n",
       "    </tr>\n",
       "    <tr>\n",
       "      <th>3</th>\n",
       "      <td>Double Storey Semi D | Seremban 2 [REDBRICKS],...</td>\n",
       "      <td>RM 914,000</td>\n",
       "      <td>(RM 300.46 per sq. ft.)</td>\n",
       "      <td>Seremban 2, Negeri Sembilan</td>\n",
       "      <td>Semi-detached House  •  Built-up : 3,042 sq. ft.</td>\n",
       "      <td>5</td>\n",
       "      <td>4.0</td>\n",
       "      <td>0.0</td>\n",
       "    </tr>\n",
       "    <tr>\n",
       "      <th>4</th>\n",
       "      <td>Rasah Seremban Single Storey Bangalow Renovate...</td>\n",
       "      <td>RM 560,000</td>\n",
       "      <td>(RM 302.7 per sq. ft.)</td>\n",
       "      <td>Rasah, Negeri Sembilan</td>\n",
       "      <td>Bungalow | Intermediate  •  Built-up : 1,850 s...</td>\n",
       "      <td>4</td>\n",
       "      <td>4.0</td>\n",
       "      <td>5.0</td>\n",
       "    </tr>\n",
       "    <tr>\n",
       "      <th>...</th>\n",
       "      <td>...</td>\n",
       "      <td>...</td>\n",
       "      <td>...</td>\n",
       "      <td>...</td>\n",
       "      <td>...</td>\n",
       "      <td>...</td>\n",
       "      <td>...</td>\n",
       "      <td>...</td>\n",
       "    </tr>\n",
       "    <tr>\n",
       "      <th>1732</th>\n",
       "      <td>Green Street Homes Seremban 2, Seremban</td>\n",
       "      <td>RM 850,000</td>\n",
       "      <td>(RM 157.41 per sq. ft.)</td>\n",
       "      <td>Seremban, Negeri Sembilan</td>\n",
       "      <td>Semi-detached House  •  Built-up : 5,400 sq. f...</td>\n",
       "      <td>4</td>\n",
       "      <td>3.0</td>\n",
       "      <td>0.0</td>\n",
       "    </tr>\n",
       "    <tr>\n",
       "      <th>1733</th>\n",
       "      <td>Central Park, Seremban 2</td>\n",
       "      <td>RM 190,000</td>\n",
       "      <td>(RM 193.88 per sq. ft.)</td>\n",
       "      <td>Seremban 2, Negeri Sembilan</td>\n",
       "      <td>Apartment  •  Built-up : 980 sq. ft.  •  Unfur...</td>\n",
       "      <td>3</td>\n",
       "      <td>2.0</td>\n",
       "      <td>1.0</td>\n",
       "    </tr>\n",
       "    <tr>\n",
       "      <th>1734</th>\n",
       "      <td>Taman Bali Villa Rasah Kemayan, Seremban 2</td>\n",
       "      <td>RM 450,000</td>\n",
       "      <td>(RM 180 per sq. ft.)</td>\n",
       "      <td>Seremban 2, Negeri Sembilan</td>\n",
       "      <td>Semi-detached House  •  Built-up : 2,500 sq. ft.</td>\n",
       "      <td>4</td>\n",
       "      <td>2.0</td>\n",
       "      <td>2.0</td>\n",
       "    </tr>\n",
       "    <tr>\n",
       "      <th>1735</th>\n",
       "      <td>Bandar Springhill, Port Dickson</td>\n",
       "      <td>RM 212,000</td>\n",
       "      <td>(RM 265 per sq. ft.)</td>\n",
       "      <td>Port Dickson, Negeri Sembilan</td>\n",
       "      <td>2-sty Terrace/Link House | Intermediate  •  Bu...</td>\n",
       "      <td>3</td>\n",
       "      <td>3.0</td>\n",
       "      <td>0.0</td>\n",
       "    </tr>\n",
       "    <tr>\n",
       "      <th>1736</th>\n",
       "      <td>Seremban, Seremban 2</td>\n",
       "      <td>RM 285,000</td>\n",
       "      <td>(RM 237.5 per sq. ft.)</td>\n",
       "      <td>Seremban 2, Negeri Sembilan</td>\n",
       "      <td>1-sty Terrace/Link House | End lot  •  Built-u...</td>\n",
       "      <td>3</td>\n",
       "      <td>2.0</td>\n",
       "      <td>0.0</td>\n",
       "    </tr>\n",
       "  </tbody>\n",
       "</table>\n",
       "<p>1737 rows × 8 columns</p>\n",
       "</div>"
      ],
      "text/plain": [
       "                                                   name       price  \\\n",
       "0                        Green Street Homes, Seremban 2  RM 780,000   \n",
       "1     SEMI D di Senawang | Seremban | Rasah | Temian...  RM 500,000   \n",
       "2     2 Sty Terrace | Gadong Jaya, Nilai, Sepang, KL...  RM 400,000   \n",
       "3     Double Storey Semi D | Seremban 2 [REDBRICKS],...  RM 914,000   \n",
       "4     Rasah Seremban Single Storey Bangalow Renovate...  RM 560,000   \n",
       "...                                                 ...         ...   \n",
       "1732            Green Street Homes Seremban 2, Seremban  RM 850,000   \n",
       "1733                           Central Park, Seremban 2  RM 190,000   \n",
       "1734         Taman Bali Villa Rasah Kemayan, Seremban 2  RM 450,000   \n",
       "1735                    Bandar Springhill, Port Dickson  RM 212,000   \n",
       "1736                               Seremban, Seremban 2  RM 285,000   \n",
       "\n",
       "                          psf                        address  \\\n",
       "0        (RM 312 per sq. ft.)    Seremban 2, Negeri Sembilan   \n",
       "1      (RM 301.2 per sq. ft.)      Seremban, Negeri Sembilan   \n",
       "2     (RM 193.24 per sq. ft.)         Nilai, Negeri Sembilan   \n",
       "3     (RM 300.46 per sq. ft.)    Seremban 2, Negeri Sembilan   \n",
       "4      (RM 302.7 per sq. ft.)         Rasah, Negeri Sembilan   \n",
       "...                       ...                            ...   \n",
       "1732  (RM 157.41 per sq. ft.)      Seremban, Negeri Sembilan   \n",
       "1733  (RM 193.88 per sq. ft.)    Seremban 2, Negeri Sembilan   \n",
       "1734     (RM 180 per sq. ft.)    Seremban 2, Negeri Sembilan   \n",
       "1735     (RM 265 per sq. ft.)  Port Dickson, Negeri Sembilan   \n",
       "1736   (RM 237.5 per sq. ft.)    Seremban 2, Negeri Sembilan   \n",
       "\n",
       "                                            description bedroom  bathroom  \\\n",
       "0     Semi-detached House | Intermediate  •  Built-u...       4       3.0   \n",
       "1     Semi-detached House | Corner lot  •  Built-up ...       4       2.0   \n",
       "2     2-sty Terrace/Link House  •  Built-up : 2,070 ...       4       3.0   \n",
       "3      Semi-detached House  •  Built-up : 3,042 sq. ft.       5       4.0   \n",
       "4     Bungalow | Intermediate  •  Built-up : 1,850 s...       4       4.0   \n",
       "...                                                 ...     ...       ...   \n",
       "1732  Semi-detached House  •  Built-up : 5,400 sq. f...       4       3.0   \n",
       "1733  Apartment  •  Built-up : 980 sq. ft.  •  Unfur...       3       2.0   \n",
       "1734   Semi-detached House  •  Built-up : 2,500 sq. ft.       4       2.0   \n",
       "1735  2-sty Terrace/Link House | Intermediate  •  Bu...       3       3.0   \n",
       "1736  1-sty Terrace/Link House | End lot  •  Built-u...       3       2.0   \n",
       "\n",
       "      carpark  \n",
       "0         4.0  \n",
       "1         0.0  \n",
       "2         0.0  \n",
       "3         0.0  \n",
       "4         5.0  \n",
       "...       ...  \n",
       "1732      0.0  \n",
       "1733      1.0  \n",
       "1734      2.0  \n",
       "1735      0.0  \n",
       "1736      0.0  \n",
       "\n",
       "[1737 rows x 8 columns]"
      ]
     },
     "execution_count": 123,
     "metadata": {},
     "output_type": "execute_result"
    }
   ],
   "source": [
    "df.reset_index(drop=True, inplace=True)\n",
    "df"
   ]
  },
  {
   "cell_type": "code",
   "execution_count": 124,
   "id": "28bda942",
   "metadata": {},
   "outputs": [
    {
     "name": "stdout",
     "output_type": "stream",
     "text": [
      "bedroom has unique values of 25 , and here they are  ['4' '5' '8+2' 'Studio' '3' '6' '4+2' '4+1' '2+1' '7' '5+1' '2' '3+1'\n",
      " '6+1' '7+1' '1' '5+2' '6+2' '11+1' '1+1' '8' '9' '5+3' '10' '9+2'] \n",
      "\n",
      "bathroom has unique values of 9 , and here they are  [ 3.  2.  4.  8.  1.  7.  5.  6. 12.] \n",
      "\n",
      "carpark has unique values of 10 , and here they are  [ 4.  0.  5.  2.  3.  8.  1.  6. 10. 20.] \n",
      "\n"
     ]
    }
   ],
   "source": [
    "for a in ['bedroom','bathroom','carpark']:\n",
    "    print(a,'has unique values of',len(df[a].unique()),', and here they are ',df[a].unique(),'\\n')"
   ]
  },
  {
   "cell_type": "code",
   "execution_count": 125,
   "id": "403f80cb",
   "metadata": {},
   "outputs": [
    {
     "data": {
      "text/plain": [
       "1150"
      ]
     },
     "execution_count": 125,
     "metadata": {},
     "output_type": "execute_result"
    }
   ],
   "source": [
    "len(df['description'].unique())"
   ]
  },
  {
   "cell_type": "code",
   "execution_count": 126,
   "id": "61c54998",
   "metadata": {},
   "outputs": [
    {
     "data": {
      "text/plain": [
       "description                                                               \n",
       "2-sty Terrace/Link House  •  Built-up : 2,000 sq. ft.                         16\n",
       "2-sty Terrace/Link House  •  Built-up : 2,200 sq. ft.                         15\n",
       "2-sty Terrace/Link House  •  Built-up : 1,800 sq. ft.                          9\n",
       "2-sty Terrace/Link House | Intermediate  •  Built-up : 2,200 sq. ft.           9\n",
       "1-sty Terrace/Link House  •  Built-up : 1,300 sq. ft.                          9\n",
       "                                                                              ..\n",
       "2-sty Terrace/Link House  •  Built-up : 1,200 sq. ft.                          1\n",
       "2-sty Terrace/Link House  •  Built-up : 1,200 sq. ft.  •  Partly furnished     1\n",
       "2-sty Terrace/Link House  •  Built-up : 1,300 sq. ft.  •  Unfurnished          1\n",
       "2-sty Terrace/Link House  •  Built-up : 1,496 sq. ft.                          1\n",
       "Townhouse  •  Built-up : 720 sq. ft.                                           1\n",
       "Length: 1150, dtype: int64"
      ]
     },
     "execution_count": 126,
     "metadata": {},
     "output_type": "execute_result"
    }
   ],
   "source": [
    "df[['description']].value_counts()"
   ]
  },
  {
   "cell_type": "code",
   "execution_count": 127,
   "id": "8d233a1c",
   "metadata": {},
   "outputs": [],
   "source": [
    "if \"description_1\" not in df.columns: \n",
    "    df.insert(5, \"description_1\", None)\n",
    "if \"description_2\" not in df.columns: \n",
    "    df.insert(6, \"description_2\", None)\n",
    "if \"description_3\" not in df.columns: \n",
    "    df.insert(7, \"description_3\", None)"
   ]
  },
  {
   "cell_type": "code",
   "execution_count": 128,
   "id": "76eeabe4",
   "metadata": {},
   "outputs": [],
   "source": [
    "for x in df.index:\n",
    "    descriptions = df.loc[x,'description'].split('\\xa0•\\xa0')\n",
    "    if len(descriptions) >= 1:\n",
    "        df.loc[x,'description_1'] = descriptions[0]\n",
    "    if len(descriptions) >= 2:\n",
    "        df.loc[x,'description_2'] = descriptions[1]\n",
    "    if len(descriptions) >= 3:\n",
    "        df.loc[x,'description_3'] = descriptions[2]"
   ]
  },
  {
   "cell_type": "code",
   "execution_count": 156,
   "id": "b09a4dc4",
   "metadata": {},
   "outputs": [
    {
     "data": {
      "text/plain": [
       "875"
      ]
     },
     "execution_count": 156,
     "metadata": {},
     "output_type": "execute_result"
    }
   ],
   "source": [
    "df['description_3'].isnull().sum()"
   ]
  },
  {
   "cell_type": "code",
   "execution_count": 157,
   "id": "ea8b7c9a",
   "metadata": {},
   "outputs": [],
   "source": [
    "df.to_csv('test_view.csv')"
   ]
  },
  {
   "cell_type": "code",
   "execution_count": null,
   "id": "4258ec1b",
   "metadata": {},
   "outputs": [],
   "source": []
  }
 ],
 "metadata": {
  "kernelspec": {
   "display_name": "Python 3 (ipykernel)",
   "language": "python",
   "name": "python3"
  },
  "language_info": {
   "codemirror_mode": {
    "name": "ipython",
    "version": 3
   },
   "file_extension": ".py",
   "mimetype": "text/x-python",
   "name": "python",
   "nbconvert_exporter": "python",
   "pygments_lexer": "ipython3",
   "version": "3.9.12"
  }
 },
 "nbformat": 4,
 "nbformat_minor": 5
}
