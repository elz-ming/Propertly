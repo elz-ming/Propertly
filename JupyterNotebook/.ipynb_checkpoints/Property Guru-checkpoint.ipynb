{
 "cells": [
  {
   "cell_type": "markdown",
   "id": "a0c960d2",
   "metadata": {},
   "source": [
    "# IMPORT_ANTS"
   ]
  },
  {
   "cell_type": "code",
   "execution_count": 2,
   "id": "35bf5542",
   "metadata": {},
   "outputs": [],
   "source": [
    "import requests\n",
    "from bs4 import BeautifulSoup"
   ]
  },
  {
   "cell_type": "code",
   "execution_count": 3,
   "id": "45435d5f",
   "metadata": {},
   "outputs": [],
   "source": [
    "url_list = ['https://www.propertyguru.com.my/property-for-sale?search=true']"
   ]
  },
  {
   "cell_type": "code",
   "execution_count": null,
   "id": "c7fe7b06",
   "metadata": {},
   "outputs": [],
   "source": []
  },
  {
   "cell_type": "code",
   "execution_count": 4,
   "id": "05656830",
   "metadata": {},
   "outputs": [],
   "source": [
    "url = 'https://www.propertyguru.com.my/property-for-sale?search=true'"
   ]
  },
  {
   "cell_type": "code",
   "execution_count": 8,
   "id": "445a691b",
   "metadata": {},
   "outputs": [],
   "source": [
    "html = requests.get(url)\n",
    "soup = BeautifulSoup(html.content, 'html.parser')"
   ]
  },
  {
   "cell_type": "code",
   "execution_count": null,
   "id": "dfb6af85",
   "metadata": {},
   "outputs": [],
   "source": []
  }
 ],
 "metadata": {
  "kernelspec": {
   "display_name": "Python 3 (ipykernel)",
   "language": "python",
   "name": "python3"
  },
  "language_info": {
   "codemirror_mode": {
    "name": "ipython",
    "version": 3
   },
   "file_extension": ".py",
   "mimetype": "text/x-python",
   "name": "python",
   "nbconvert_exporter": "python",
   "pygments_lexer": "ipython3",
   "version": "3.9.12"
  }
 },
 "nbformat": 4,
 "nbformat_minor": 5
}
