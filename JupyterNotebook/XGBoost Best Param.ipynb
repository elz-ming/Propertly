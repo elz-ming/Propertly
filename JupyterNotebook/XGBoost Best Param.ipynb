{
 "cells": [
  {
   "cell_type": "markdown",
   "id": "39e5112d",
   "metadata": {},
   "source": [
    "This notebook exists to mainly find out the best model used for prediction."
   ]
  },
  {
   "cell_type": "code",
   "execution_count": 1,
   "id": "977c86a9",
   "metadata": {},
   "outputs": [
    {
     "name": "stderr",
     "output_type": "stream",
     "text": [
      "C:\\ProgramData\\Anaconda3\\lib\\site-packages\\scipy\\__init__.py:146: UserWarning: A NumPy version >=1.16.5 and <1.23.0 is required for this version of SciPy (detected version 1.23.3\n",
      "  warnings.warn(f\"A NumPy version >={np_minversion} and <{np_maxversion}\"\n"
     ]
    }
   ],
   "source": [
    "import pandas as pd\n",
    "\n",
    "from xgboost import XGBRegressor\n",
    "\n",
    "from sklearn.model_selection import train_test_split, GridSearchCV\n",
    "\n",
    "from sklearn.metrics import r2_score, mean_absolute_error, mean_squared_error, mean_absolute_percentage_error\n",
    "\n",
    "import seaborn as sns\n",
    "sns.set(font_scale=1.2)\n",
    "import matplotlib.pyplot as plt"
   ]
  },
  {
   "cell_type": "markdown",
   "id": "c183c9f2",
   "metadata": {},
   "source": [
    "SALE DATA"
   ]
  },
  {
   "cell_type": "code",
   "execution_count": 2,
   "id": "572ee84a",
   "metadata": {},
   "outputs": [],
   "source": [
    "sale_df = pd.read_csv('../data/iProperty_sale_to_be_trained.csv')\n",
    "\n",
    "sale_df.drop(['name','psf','area'], axis=1, inplace=True)\n",
    "\n",
    "for col in ['price']:\n",
    "    q_low = sale_df[col].quantile(0.01)\n",
    "    q_hi  = sale_df[col].quantile(0.99)\n",
    "    sale_df = sale_df[(sale_df[col] < q_hi) & (sale_df[col] > q_low)]\n",
    "    \n",
    "one_hot = pd.get_dummies(sale_df[['district','state','type','details']])\n",
    "sale_df = sale_df.join(one_hot).drop(['district','state','type','details'], axis=1)\n",
    "\n",
    "sale_x = sale_df.drop(['price'],axis=1)\n",
    "sale_y = sale_df['price']\n",
    "\n",
    "sale_x_train, sale_x_test, sale_y_train, sale_y_test = train_test_split(sale_x, sale_y, test_size=0.2)"
   ]
  },
  {
   "cell_type": "markdown",
   "id": "42dd2140",
   "metadata": {},
   "source": [
    "RENT DATA"
   ]
  },
  {
   "cell_type": "code",
   "execution_count": 3,
   "id": "3f2a4c17",
   "metadata": {},
   "outputs": [],
   "source": [
    "rent_df = pd.read_csv('../data/iProperty_rent_to_be_trained.csv')\n",
    "\n",
    "rent_df.drop(['name','psf','area'], axis=1, inplace=True)\n",
    "\n",
    "for col in ['price']:\n",
    "    q_low = rent_df[col].quantile(0.01)\n",
    "    q_hi  = rent_df[col].quantile(0.99)\n",
    "    rent_df = rent_df[(rent_df[col] < q_hi) & (rent_df[col] > q_low)]\n",
    "    \n",
    "one_hot = pd.get_dummies(rent_df[['district','state','type','details']])\n",
    "rent_df = rent_df.join(one_hot).drop(['district','state','type','details'], axis=1)\n",
    "\n",
    "rent_x = rent_df.drop(['price'],axis=1)\n",
    "rent_y = rent_df['price']\n",
    "\n",
    "rent_x_train, rent_x_test, rent_y_train, rent_y_test = train_test_split(rent_x, rent_y, test_size=0.2)"
   ]
  },
  {
   "cell_type": "markdown",
   "id": "69756cf4",
   "metadata": {},
   "source": [
    "### XGB Regressor"
   ]
  },
  {
   "cell_type": "code",
   "execution_count": 4,
   "id": "1bd5888f",
   "metadata": {},
   "outputs": [],
   "source": [
    "xg_hyperparameters = {\n",
    "    'n_estimators': [300],\n",
    "    'max_depth': [5],\n",
    "    'eta': [0.2],\n",
    "    'subsample': [0.8],\n",
    "    'colsample_bytree' : [0.9],\n",
    "    'alpha': [0.0,0.1,0.2],\n",
    "    'lambda': [1.0,1.1,1.2]\n",
    "}"
   ]
  },
  {
   "cell_type": "code",
   "execution_count": 5,
   "id": "93095bce",
   "metadata": {},
   "outputs": [],
   "source": [
    "xg_score = {\n",
    "    'score':['R2','RMSE','MAE','MAPE']\n",
    "}"
   ]
  },
  {
   "cell_type": "markdown",
   "id": "362f0bf3",
   "metadata": {},
   "source": [
    "on SALE DATA"
   ]
  },
  {
   "cell_type": "code",
   "execution_count": 6,
   "id": "8f068727",
   "metadata": {
    "scrolled": true
   },
   "outputs": [],
   "source": [
    "# model_s = GridSearchCV(estimator=XGBRegressor(), param_grid=xg_hyperparameters, cv=3, n_jobs=-1, verbose=4)\n",
    "# model_s.fit(sale_x_train, sale_y_train)\n",
    "\n",
    "# xgs_best_params = model_s.best_params_\n",
    "# display(xgs_best_params)\n",
    "\n",
    "# pd.DataFrame.from_dict(model_s.cv_results_).sort_values(['mean_test_score','std_test_score'],ascending=False).T"
   ]
  },
  {
   "cell_type": "code",
   "execution_count": 7,
   "id": "b8d97886",
   "metadata": {},
   "outputs": [],
   "source": [
    "xgs_best_params = {\n",
    "    'alpha': 0.2,\n",
    "    'colsample_bytree': 0.9,\n",
    "    'eta': 0.2,\n",
    "    'lambda': 1.0,\n",
    "    'max_depth': 5,\n",
    "    'n_estimators': 300,\n",
    "    'subsample': 0.8\n",
    "}"
   ]
  },
  {
   "cell_type": "code",
   "execution_count": 8,
   "id": "49aae81b",
   "metadata": {},
   "outputs": [
    {
     "data": {
      "text/plain": [
       "{'score': ['R2', 'RMSE', 'MAE', 'MAPE'],\n",
       " 'SALE': [0.7958840974619865,\n",
       "  468227.3531339466,\n",
       "  253888.48664020287,\n",
       "  0.2646105747647502]}"
      ]
     },
     "execution_count": 8,
     "metadata": {},
     "output_type": "execute_result"
    }
   ],
   "source": [
    "key = 'SALE'\n",
    "\n",
    "xgs = XGBRegressor()\n",
    "xgs.set_params(**xgs_best_params)\n",
    "xgs.fit(sale_x_train,sale_y_train)\n",
    "sale_y_pred = xgs.predict(sale_x_test)\n",
    "\n",
    "xg_score[key] = []\n",
    "xg_score[key].append(r2_score(sale_y_test,sale_y_pred))\n",
    "xg_score[key].append(mean_squared_error(sale_y_test,sale_y_pred, squared=False))\n",
    "xg_score[key].append(mean_absolute_error(sale_y_test,sale_y_pred))\n",
    "xg_score[key].append(mean_absolute_percentage_error(sale_y_test,sale_y_pred))\n",
    "\n",
    "xg_score"
   ]
  },
  {
   "cell_type": "markdown",
   "id": "eea42d0d",
   "metadata": {},
   "source": [
    "on RENT DATA"
   ]
  },
  {
   "cell_type": "code",
   "execution_count": 9,
   "id": "7ad32544",
   "metadata": {
    "scrolled": true
   },
   "outputs": [],
   "source": [
    "# model_r = GridSearchCV(estimator=XGBRegressor(), param_grid=xg_hyperparameters, cv=3, n_jobs=-1, verbose=4)\n",
    "# model_r.fit(sale_x_train, sale_y_train)\n",
    "\n",
    "# xgr_best_params = model_r.best_params_\n",
    "# display(xgr_best_params)\n",
    "\n",
    "# pd.DataFrame.from_dict(model_r.cv_results_).sort_values(['mean_test_score','std_test_score'],ascending=False).T"
   ]
  },
  {
   "cell_type": "code",
   "execution_count": 10,
   "id": "05e1781e",
   "metadata": {},
   "outputs": [],
   "source": [
    "xgr_best_params = {\n",
    "    'alpha': 0.2,\n",
    "    'colsample_bytree': 0.9,\n",
    "    'eta': 0.2,\n",
    "    'lambda': 1.0,\n",
    "    'max_depth': 5,\n",
    "    'n_estimators': 300,\n",
    "    'subsample': 0.8\n",
    "}"
   ]
  },
  {
   "cell_type": "code",
   "execution_count": 11,
   "id": "3a2a5b4e",
   "metadata": {},
   "outputs": [
    {
     "data": {
      "text/plain": [
       "{'score': ['R2', 'RMSE', 'MAE', 'MAPE'],\n",
       " 'SALE': [0.7958840974619865,\n",
       "  468227.3531339466,\n",
       "  253888.48664020287,\n",
       "  0.2646105747647502],\n",
       " 'RENT': [0.7758194789270214,\n",
       "  914.1527182953237,\n",
       "  549.049054206859,\n",
       "  0.23024466674764965]}"
      ]
     },
     "execution_count": 11,
     "metadata": {},
     "output_type": "execute_result"
    }
   ],
   "source": [
    "key = 'RENT'\n",
    "\n",
    "xgr = XGBRegressor()\n",
    "xgr.set_params(**xgr_best_params)\n",
    "xgr.fit(rent_x_train,rent_y_train)\n",
    "rent_y_pred = xgr.predict(rent_x_test)\n",
    "\n",
    "xg_score[key] = []\n",
    "xg_score[key].append(r2_score(rent_y_test,rent_y_pred))\n",
    "xg_score[key].append(mean_squared_error(rent_y_test,rent_y_pred, squared=False))\n",
    "xg_score[key].append(mean_absolute_error(rent_y_test,rent_y_pred))\n",
    "xg_score[key].append(mean_absolute_percentage_error(rent_y_test,rent_y_pred))\n",
    "\n",
    "xg_score"
   ]
  },
  {
   "cell_type": "code",
   "execution_count": 12,
   "id": "93a9175d",
   "metadata": {},
   "outputs": [
    {
     "data": {
      "text/html": [
       "<div>\n",
       "<style scoped>\n",
       "    .dataframe tbody tr th:only-of-type {\n",
       "        vertical-align: middle;\n",
       "    }\n",
       "\n",
       "    .dataframe tbody tr th {\n",
       "        vertical-align: top;\n",
       "    }\n",
       "\n",
       "    .dataframe thead th {\n",
       "        text-align: right;\n",
       "    }\n",
       "</style>\n",
       "<table border=\"1\" class=\"dataframe\">\n",
       "  <thead>\n",
       "    <tr style=\"text-align: right;\">\n",
       "      <th>score</th>\n",
       "      <th>data</th>\n",
       "      <th>R2</th>\n",
       "      <th>RMSE</th>\n",
       "      <th>MAE</th>\n",
       "      <th>MAPE</th>\n",
       "    </tr>\n",
       "  </thead>\n",
       "  <tbody>\n",
       "    <tr>\n",
       "      <th>0</th>\n",
       "      <td>SALE</td>\n",
       "      <td>0.795884</td>\n",
       "      <td>468227.353134</td>\n",
       "      <td>253888.48664</td>\n",
       "      <td>0.264611</td>\n",
       "    </tr>\n",
       "    <tr>\n",
       "      <th>1</th>\n",
       "      <td>RENT</td>\n",
       "      <td>0.775819</td>\n",
       "      <td>914.152718</td>\n",
       "      <td>549.049054</td>\n",
       "      <td>0.230245</td>\n",
       "    </tr>\n",
       "  </tbody>\n",
       "</table>\n",
       "</div>"
      ],
      "text/plain": [
       "score  data        R2           RMSE           MAE      MAPE\n",
       "0      SALE  0.795884  468227.353134  253888.48664  0.264611\n",
       "1      RENT  0.775819     914.152718    549.049054  0.230245"
      ]
     },
     "execution_count": 12,
     "metadata": {},
     "output_type": "execute_result"
    }
   ],
   "source": [
    "xg_df = pd.DataFrame(xg_score).T\n",
    "xg_df.columns = xg_df.iloc[0]\n",
    "xg_df = xg_df[1:]\n",
    "xg_df = xg_df.reset_index()\n",
    "xg_df.rename(columns={'index':'data'}, inplace=True)\n",
    "xg_df"
   ]
  },
  {
   "cell_type": "code",
   "execution_count": 17,
   "id": "a3f3c7bb",
   "metadata": {},
   "outputs": [
    {
     "data": {
      "text/plain": [
       "(array([0, 1]), [Text(0, 0, 'SALE'), Text(1, 0, 'RENT')])"
      ]
     },
     "execution_count": 17,
     "metadata": {},
     "output_type": "execute_result"
    },
    {
     "data": {
      "image/png": "[encoded data removed]",
      "text/plain": [
       "<Figure size 432x288 with 1 Axes>"
      ]
     },
     "metadata": {},
     "output_type": "display_data"
    }
   ],
   "source": [
    "metric = 'R2'\n",
    "p = sns.barplot(data=xg_df, x='data', y='R2')\n",
    "p.set_title('{} Score'.format(metric))\n",
    "for i in range(len(xg_df)):\n",
    "    p.text(i,xg_df[metric][i]/2,str(round(xg_df[metric][i],2)),\n",
    "           fontdict=dict(color='black'),\n",
    "          horizontalalignment='center')\n",
    "plt.xticks(rotation=-20)"
   ]
  },
  {
   "cell_type": "code",
   "execution_count": 18,
   "id": "ca2f75c9",
   "metadata": {},
   "outputs": [
    {
     "data": {
      "text/plain": [
       "(array([0, 1]), [Text(0, 0, 'SALE'), Text(1, 0, 'RENT')])"
      ]
     },
     "execution_count": 18,
     "metadata": {},
     "output_type": "execute_result"
    },
    {
     "data": {
      "image/png": "[encoded data removed]",
      "text/plain": [
       "<Figure size 432x288 with 1 Axes>"
      ]
     },
     "metadata": {},
     "output_type": "display_data"
    }
   ],
   "source": [
    "metric = 'RMSE'\n",
    "p = sns.barplot(data=xg_df, x='data', y=metric)\n",
    "p.set_title('{} Score'.format(metric))\n",
    "for i in range(len(xg_df)):\n",
    "    p.text(i,xg_df[metric][i]/2,str(round(xg_df[metric][i])),\n",
    "           fontdict=dict(color='black'),\n",
    "          horizontalalignment='center')\n",
    "plt.xticks(rotation=-20)"
   ]
  },
  {
   "cell_type": "code",
   "execution_count": 19,
   "id": "b7cf14a1",
   "metadata": {},
   "outputs": [
    {
     "data": {
      "text/plain": [
       "(array([0, 1]), [Text(0, 0, 'SALE'), Text(1, 0, 'RENT')])"
      ]
     },
     "execution_count": 19,
     "metadata": {},
     "output_type": "execute_result"
    },
    {
     "data": {
      "image/png": "[encoded data removed]",
      "text/plain": [
       "<Figure size 432x288 with 1 Axes>"
      ]
     },
     "metadata": {},
     "output_type": "display_data"
    }
   ],
   "source": [
    "metric = 'MAE'\n",
    "p = sns.barplot(data=xg_df, x='data', y=metric)\n",
    "p.set_title('{} Score'.format(metric))\n",
    "for i in range(len(xg_df)):\n",
    "    p.text(i,xg_df[metric][i]/2,str(round(xg_df[metric][i])),\n",
    "           fontdict=dict(color='black'),\n",
    "          horizontalalignment='center')\n",
    "plt.xticks(rotation=-20)"
   ]
  },
  {
   "cell_type": "code",
   "execution_count": 20,
   "id": "8d9a0482",
   "metadata": {},
   "outputs": [
    {
     "data": {
      "text/plain": [
       "(array([0, 1]), [Text(0, 0, 'SALE'), Text(1, 0, 'RENT')])"
      ]
     },
     "execution_count": 20,
     "metadata": {},
     "output_type": "execute_result"
    },
    {
     "data": {
      "image/png": "[encoded data removed]",
      "text/plain": [
       "<Figure size 432x288 with 1 Axes>"
      ]
     },
     "metadata": {},
     "output_type": "display_data"
    }
   ],
   "source": [
    "metric = 'MAPE'\n",
    "p = sns.barplot(data=xg_df, x='data', y=metric)\n",
    "p.set_title('{} Score'.format(metric))\n",
    "for i in range(len(xg_df)):\n",
    "    p.text(i,xg_df[metric][i]/2,str(round(xg_df[metric][i],2)),\n",
    "           fontdict=dict(color='black'),\n",
    "          horizontalalignment='center')\n",
    "plt.xticks(rotation=-20)"
   ]
  },
  {
   "cell_type": "code",
   "execution_count": null,
   "id": "2414f6b3",
   "metadata": {},
   "outputs": [],
   "source": []
  }
 ],
 "metadata": {
  "kernelspec": {
   "display_name": "Python 3 (ipykernel)",
   "language": "python",
   "name": "python3"
  },
  "language_info": {
   "codemirror_mode": {
    "name": "ipython",
    "version": 3
   },
   "file_extension": ".py",
   "mimetype": "text/x-python",
   "name": "python",
   "nbconvert_exporter": "python",
   "pygments_lexer": "ipython3",
   "version": "3.9.12"
  }
 },
 "nbformat": 4,
 "nbformat_minor": 5
}
