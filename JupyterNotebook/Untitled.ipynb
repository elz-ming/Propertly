{
 "cells": [
  {
   "cell_type": "code",
   "execution_count": 51,
   "id": "835da680",
   "metadata": {},
   "outputs": [],
   "source": [
    "import pandas as pd\n",
    "import numpy as np\n",
    "import csv\n",
    "import pickle"
   ]
  },
  {
   "cell_type": "code",
   "execution_count": 2,
   "id": "95facd3c",
   "metadata": {
    "scrolled": true
   },
   "outputs": [],
   "source": [
    "df_rent = pd.read_csv('../data/iProperty_rent_to_be_trained.csv')\n",
    "df_sale = pd.read_csv('../data/iProperty_sale_to_be_trained.csv')\n",
    "df = pd.concat([df_rent,df_sale])"
   ]
  },
  {
   "cell_type": "code",
   "execution_count": 8,
   "id": "7ccb1b63",
   "metadata": {},
   "outputs": [
    {
     "data": {
      "text/html": [
       "<div>\n",
       "<style scoped>\n",
       "    .dataframe tbody tr th:only-of-type {\n",
       "        vertical-align: middle;\n",
       "    }\n",
       "\n",
       "    .dataframe tbody tr th {\n",
       "        vertical-align: top;\n",
       "    }\n",
       "\n",
       "    .dataframe thead th {\n",
       "        text-align: right;\n",
       "    }\n",
       "</style>\n",
       "<table border=\"1\" class=\"dataframe\">\n",
       "  <thead>\n",
       "    <tr style=\"text-align: right;\">\n",
       "      <th></th>\n",
       "      <th>name</th>\n",
       "      <th>price</th>\n",
       "      <th>psf</th>\n",
       "      <th>district</th>\n",
       "      <th>state</th>\n",
       "      <th>type</th>\n",
       "      <th>details</th>\n",
       "      <th>area</th>\n",
       "      <th>bedroom</th>\n",
       "      <th>bathroom</th>\n",
       "      <th>carpark</th>\n",
       "    </tr>\n",
       "  </thead>\n",
       "  <tbody>\n",
       "    <tr>\n",
       "      <th>0</th>\n",
       "      <td>M Vertica, Taman Maluri, Cheras</td>\n",
       "      <td>1400</td>\n",
       "      <td>1.65</td>\n",
       "      <td>Cheras</td>\n",
       "      <td>Kuala Lumpur</td>\n",
       "      <td>Condominium</td>\n",
       "      <td>Default</td>\n",
       "      <td>850</td>\n",
       "      <td>3</td>\n",
       "      <td>2</td>\n",
       "      <td>1</td>\n",
       "    </tr>\n",
       "    <tr>\n",
       "      <th>1</th>\n",
       "      <td>M Vertica, Taman Maluri, Cheras</td>\n",
       "      <td>1700</td>\n",
       "      <td>2.00</td>\n",
       "      <td>Cheras</td>\n",
       "      <td>Kuala Lumpur</td>\n",
       "      <td>Condominium</td>\n",
       "      <td>Default</td>\n",
       "      <td>850</td>\n",
       "      <td>3</td>\n",
       "      <td>2</td>\n",
       "      <td>2</td>\n",
       "    </tr>\n",
       "    <tr>\n",
       "      <th>2</th>\n",
       "      <td>Desa Green, Taman Desa</td>\n",
       "      <td>1800</td>\n",
       "      <td>2.52</td>\n",
       "      <td>Taman Desa</td>\n",
       "      <td>Kuala Lumpur</td>\n",
       "      <td>Serviced Residence</td>\n",
       "      <td>Studio</td>\n",
       "      <td>715</td>\n",
       "      <td>2</td>\n",
       "      <td>2</td>\n",
       "      <td>1</td>\n",
       "    </tr>\n",
       "    <tr>\n",
       "      <th>3</th>\n",
       "      <td>Arcoris Residences, Mont Kiara</td>\n",
       "      <td>5000</td>\n",
       "      <td>5.51</td>\n",
       "      <td>Mont Kiara</td>\n",
       "      <td>Kuala Lumpur</td>\n",
       "      <td>Serviced Residence</td>\n",
       "      <td>Intermediate</td>\n",
       "      <td>907</td>\n",
       "      <td>2</td>\n",
       "      <td>2</td>\n",
       "      <td>1</td>\n",
       "    </tr>\n",
       "    <tr>\n",
       "      <th>4</th>\n",
       "      <td>Desa Green, Taman Desa</td>\n",
       "      <td>1400</td>\n",
       "      <td>2.42</td>\n",
       "      <td>Taman Desa</td>\n",
       "      <td>Kuala Lumpur</td>\n",
       "      <td>Serviced Residence</td>\n",
       "      <td>Default</td>\n",
       "      <td>578</td>\n",
       "      <td>1</td>\n",
       "      <td>1</td>\n",
       "      <td>1</td>\n",
       "    </tr>\n",
       "  </tbody>\n",
       "</table>\n",
       "</div>"
      ],
      "text/plain": [
       "                              name  price   psf    district         state  \\\n",
       "0  M Vertica, Taman Maluri, Cheras   1400  1.65      Cheras  Kuala Lumpur   \n",
       "1  M Vertica, Taman Maluri, Cheras   1700  2.00      Cheras  Kuala Lumpur   \n",
       "2           Desa Green, Taman Desa   1800  2.52  Taman Desa  Kuala Lumpur   \n",
       "3   Arcoris Residences, Mont Kiara   5000  5.51  Mont Kiara  Kuala Lumpur   \n",
       "4           Desa Green, Taman Desa   1400  2.42  Taman Desa  Kuala Lumpur   \n",
       "\n",
       "                 type       details  area  bedroom  bathroom  carpark  \n",
       "0         Condominium       Default   850        3         2        1  \n",
       "1         Condominium       Default   850        3         2        2  \n",
       "2  Serviced Residence        Studio   715        2         2        1  \n",
       "3  Serviced Residence  Intermediate   907        2         2        1  \n",
       "4  Serviced Residence       Default   578        1         1        1  "
      ]
     },
     "execution_count": 8,
     "metadata": {},
     "output_type": "execute_result"
    }
   ],
   "source": [
    "df.head()"
   ]
  },
  {
   "cell_type": "markdown",
   "id": "e6ec0968",
   "metadata": {},
   "source": [
    "DISTRICT"
   ]
  },
  {
   "cell_type": "code",
   "execution_count": 3,
   "id": "45506836",
   "metadata": {
    "scrolled": true
   },
   "outputs": [],
   "source": [
    "df_district = df[['district']].drop_duplicates()\n",
    "df_district.reset_index(drop=True,inplace=True)"
   ]
  },
  {
   "cell_type": "code",
   "execution_count": 9,
   "id": "1228f7b2",
   "metadata": {},
   "outputs": [
    {
     "data": {
      "text/html": [
       "<div>\n",
       "<style scoped>\n",
       "    .dataframe tbody tr th:only-of-type {\n",
       "        vertical-align: middle;\n",
       "    }\n",
       "\n",
       "    .dataframe tbody tr th {\n",
       "        vertical-align: top;\n",
       "    }\n",
       "\n",
       "    .dataframe thead th {\n",
       "        text-align: right;\n",
       "    }\n",
       "</style>\n",
       "<table border=\"1\" class=\"dataframe\">\n",
       "  <thead>\n",
       "    <tr style=\"text-align: right;\">\n",
       "      <th></th>\n",
       "      <th>district</th>\n",
       "      <th>district_copy</th>\n",
       "    </tr>\n",
       "  </thead>\n",
       "  <tbody>\n",
       "    <tr>\n",
       "      <th>0</th>\n",
       "      <td>Cheras</td>\n",
       "      <td>Cheras</td>\n",
       "    </tr>\n",
       "    <tr>\n",
       "      <th>1</th>\n",
       "      <td>Taman Desa</td>\n",
       "      <td>Taman Desa</td>\n",
       "    </tr>\n",
       "    <tr>\n",
       "      <th>2</th>\n",
       "      <td>Mont Kiara</td>\n",
       "      <td>Mont Kiara</td>\n",
       "    </tr>\n",
       "    <tr>\n",
       "      <th>3</th>\n",
       "      <td>KL City</td>\n",
       "      <td>KL City</td>\n",
       "    </tr>\n",
       "    <tr>\n",
       "      <th>4</th>\n",
       "      <td>Bukit Jalil</td>\n",
       "      <td>Bukit Jalil</td>\n",
       "    </tr>\n",
       "  </tbody>\n",
       "</table>\n",
       "</div>"
      ],
      "text/plain": [
       "      district district_copy\n",
       "0       Cheras        Cheras\n",
       "1   Taman Desa    Taman Desa\n",
       "2   Mont Kiara    Mont Kiara\n",
       "3      KL City       KL City\n",
       "4  Bukit Jalil   Bukit Jalil"
      ]
     },
     "execution_count": 9,
     "metadata": {},
     "output_type": "execute_result"
    }
   ],
   "source": [
    "df_district['district_copy'] = df_district.loc[:,'district']\n",
    "df_district.head()"
   ]
  },
  {
   "cell_type": "code",
   "execution_count": 99,
   "id": "e425f9b3",
   "metadata": {},
   "outputs": [],
   "source": [
    "df_district.to_csv('district.csv', quotechar='\"', quoting=csv.QUOTE_ALL, index=False)"
   ]
  },
  {
   "cell_type": "markdown",
   "id": "7da45aed",
   "metadata": {},
   "source": [
    "TYPE"
   ]
  },
  {
   "cell_type": "code",
   "execution_count": 5,
   "id": "1d04f8ca",
   "metadata": {},
   "outputs": [],
   "source": [
    "df_type = df[['type']].drop_duplicates()\n",
    "df_type.reset_index(drop=True,inplace=True)"
   ]
  },
  {
   "cell_type": "code",
   "execution_count": 10,
   "id": "daa382c7",
   "metadata": {},
   "outputs": [
    {
     "data": {
      "text/html": [
       "<div>\n",
       "<style scoped>\n",
       "    .dataframe tbody tr th:only-of-type {\n",
       "        vertical-align: middle;\n",
       "    }\n",
       "\n",
       "    .dataframe tbody tr th {\n",
       "        vertical-align: top;\n",
       "    }\n",
       "\n",
       "    .dataframe thead th {\n",
       "        text-align: right;\n",
       "    }\n",
       "</style>\n",
       "<table border=\"1\" class=\"dataframe\">\n",
       "  <thead>\n",
       "    <tr style=\"text-align: right;\">\n",
       "      <th></th>\n",
       "      <th>type</th>\n",
       "      <th>type_copy</th>\n",
       "    </tr>\n",
       "  </thead>\n",
       "  <tbody>\n",
       "    <tr>\n",
       "      <th>0</th>\n",
       "      <td>Condominium</td>\n",
       "      <td>Condominium</td>\n",
       "    </tr>\n",
       "    <tr>\n",
       "      <th>1</th>\n",
       "      <td>Serviced Residence</td>\n",
       "      <td>Serviced Residence</td>\n",
       "    </tr>\n",
       "    <tr>\n",
       "      <th>2</th>\n",
       "      <td>Bungalow</td>\n",
       "      <td>Bungalow</td>\n",
       "    </tr>\n",
       "    <tr>\n",
       "      <th>3</th>\n",
       "      <td>3-sty Terrace/Link House</td>\n",
       "      <td>3-sty Terrace/Link House</td>\n",
       "    </tr>\n",
       "    <tr>\n",
       "      <th>4</th>\n",
       "      <td>Apartment</td>\n",
       "      <td>Apartment</td>\n",
       "    </tr>\n",
       "  </tbody>\n",
       "</table>\n",
       "</div>"
      ],
      "text/plain": [
       "                       type                 type_copy\n",
       "0               Condominium               Condominium\n",
       "1        Serviced Residence        Serviced Residence\n",
       "2                  Bungalow                  Bungalow\n",
       "3  3-sty Terrace/Link House  3-sty Terrace/Link House\n",
       "4                 Apartment                 Apartment"
      ]
     },
     "execution_count": 10,
     "metadata": {},
     "output_type": "execute_result"
    }
   ],
   "source": [
    "df_type['type_copy'] = df_type.loc[:,'type']\n",
    "df_type.head()"
   ]
  },
  {
   "cell_type": "code",
   "execution_count": 7,
   "id": "bda39091",
   "metadata": {},
   "outputs": [],
   "source": [
    "df_type.to_csv('type.csv', quotechar='\"', quoting=csv.QUOTE_ALL, index=False)"
   ]
  },
  {
   "cell_type": "markdown",
   "id": "0782cf04",
   "metadata": {},
   "source": [
    "DETAIL"
   ]
  },
  {
   "cell_type": "code",
   "execution_count": 14,
   "id": "427e0182",
   "metadata": {},
   "outputs": [],
   "source": [
    "df_detail = df[['details']].drop_duplicates()\n",
    "df_detail.reset_index(drop=True,inplace=True)"
   ]
  },
  {
   "cell_type": "code",
   "execution_count": 15,
   "id": "f13cd6e2",
   "metadata": {},
   "outputs": [
    {
     "data": {
      "text/html": [
       "<div>\n",
       "<style scoped>\n",
       "    .dataframe tbody tr th:only-of-type {\n",
       "        vertical-align: middle;\n",
       "    }\n",
       "\n",
       "    .dataframe tbody tr th {\n",
       "        vertical-align: top;\n",
       "    }\n",
       "\n",
       "    .dataframe thead th {\n",
       "        text-align: right;\n",
       "    }\n",
       "</style>\n",
       "<table border=\"1\" class=\"dataframe\">\n",
       "  <thead>\n",
       "    <tr style=\"text-align: right;\">\n",
       "      <th></th>\n",
       "      <th>details</th>\n",
       "      <th>details_copy</th>\n",
       "    </tr>\n",
       "  </thead>\n",
       "  <tbody>\n",
       "    <tr>\n",
       "      <th>0</th>\n",
       "      <td>Default</td>\n",
       "      <td>Default</td>\n",
       "    </tr>\n",
       "    <tr>\n",
       "      <th>1</th>\n",
       "      <td>Studio</td>\n",
       "      <td>Studio</td>\n",
       "    </tr>\n",
       "    <tr>\n",
       "      <th>2</th>\n",
       "      <td>Intermediate</td>\n",
       "      <td>Intermediate</td>\n",
       "    </tr>\n",
       "    <tr>\n",
       "      <th>3</th>\n",
       "      <td>Corner lot</td>\n",
       "      <td>Corner lot</td>\n",
       "    </tr>\n",
       "    <tr>\n",
       "      <th>4</th>\n",
       "      <td>End lot</td>\n",
       "      <td>End lot</td>\n",
       "    </tr>\n",
       "  </tbody>\n",
       "</table>\n",
       "</div>"
      ],
      "text/plain": [
       "        details  details_copy\n",
       "0       Default       Default\n",
       "1        Studio        Studio\n",
       "2  Intermediate  Intermediate\n",
       "3    Corner lot    Corner lot\n",
       "4       End lot       End lot"
      ]
     },
     "execution_count": 15,
     "metadata": {},
     "output_type": "execute_result"
    }
   ],
   "source": [
    "df_detail['details_copy'] = df_detail.loc[:,'details']\n",
    "df_detail.head()"
   ]
  },
  {
   "cell_type": "code",
   "execution_count": 16,
   "id": "1a0087cb",
   "metadata": {},
   "outputs": [],
   "source": [
    "df_detail.to_csv('detail.csv', quotechar='\"', quoting=csv.QUOTE_ALL, index=False)"
   ]
  },
  {
   "cell_type": "code",
   "execution_count": 42,
   "id": "4e72ba74",
   "metadata": {},
   "outputs": [],
   "source": [
    "input_dict = {\n",
    "    'choice'  :'rent',\n",
    "    'district':'Sentul',\n",
    "    'state'   :'Selangor',\n",
    "    'type'    :'Bungalow',\n",
    "    'details'  :'Soho',\n",
    "    'bedroom' :8,\n",
    "    'bathroom':5,\n",
    "    'carpark' :3,\n",
    "}"
   ]
  },
  {
   "cell_type": "code",
   "execution_count": 43,
   "id": "6e49dc69",
   "metadata": {},
   "outputs": [],
   "source": [
    "num_arr = [[input_dict['bedroom'],input_dict['bathroom'],input_dict['carpark']]]"
   ]
  },
  {
   "cell_type": "code",
   "execution_count": 44,
   "id": "51ad7475",
   "metadata": {},
   "outputs": [
    {
     "data": {
      "text/plain": [
       "[[8, 5, 3]]"
      ]
     },
     "execution_count": 44,
     "metadata": {},
     "output_type": "execute_result"
    }
   ],
   "source": [
    "num_arr"
   ]
  },
  {
   "cell_type": "code",
   "execution_count": 45,
   "id": "56387f24",
   "metadata": {},
   "outputs": [
    {
     "data": {
      "text/plain": [
       "[array(['Air Tawar', 'Alam Impian', 'Alma', 'Aman Perdana',\n",
       "        'Ambang Botanic', 'Ampang', 'Ampang Hilir', 'Ampangan',\n",
       "        'Ara Damansara', 'Arau', 'Asajaya', 'Ayer Itam', 'Ayer Tawar',\n",
       "        'Bachok', 'Bagan Serai', 'Bahau', 'Balakong', 'Balik Pulau',\n",
       "        'Bandar Botanic', 'Bandar Bukit Raja', 'Bandar Bukit Tinggi',\n",
       "        'Bandar Damai Perdana', 'Bandar Enstek', 'Bandar Kinrara',\n",
       "        'Bandar Mahkota Cheras', 'Bandar Menjalara', 'Bandar Puncak Alam',\n",
       "        'Bandar Puteri Klang', 'Bandar Puteri Puchong',\n",
       "        'Bandar Saujana Putra', 'Bandar Sri Damansara',\n",
       "        'Bandar Sri Sendayan', 'Bandar Sungai Long', 'Bandar Sunway',\n",
       "        'Bandar Utama', 'Bangi', 'Bangsar', 'Batang Kali', 'Batu Caves',\n",
       "        'Batu Ferringhi', 'Batu Gajah', 'Batu Kawan', 'Batu Kikir',\n",
       "        'Batu Maung', 'Batu Pahat', 'Batu Uban', 'Bau', 'Bayan Baru',\n",
       "        'Bayan Lepas', 'Beaufort', 'Bertam', 'Bidor', 'Bintagor',\n",
       "        'Bintulu', 'Bota', 'Brickfields', 'Bukit Bintang', 'Bukit Jalil',\n",
       "        'Bukit Jambul', 'Bukit Jelutong', 'Bukit Kepayang',\n",
       "        'Bukit Mertajam', 'Bukit Minyak', 'Bukit Tambun', 'Bukit Tengah',\n",
       "        'Bukit Tunku (Kenny Hills)', 'Butterworth', 'Chemor',\n",
       "        'Cherang Ruku', 'Cheras', 'City Centre', 'Country Heights',\n",
       "        'Country Heights Damansara', 'Cyberjaya', 'Damansara Damai',\n",
       "        'Damansara Heights', 'Damansara Jaya', 'Damansara Kim',\n",
       "        'Damansara Perdana', 'Damansara Utama', 'Denai Alam', 'Dengkil',\n",
       "        'Desa Pandan', 'Desa ParkCity', 'Desa Petaling', 'Dutamas',\n",
       "        'Gelang Patah', 'Gelugor', 'Gemencheh', 'Georgetown', 'Gerik',\n",
       "        'Glenmarie', 'Gombak', 'Gopeng', 'Greenlane', 'Gurney',\n",
       "        'Horizon Hills', 'Hutan Melintang', 'I-City', 'Ipoh',\n",
       "        'Iskandar Puteri (Nusajaya)', 'Jade Hills', 'Jalan Ipoh',\n",
       "        'Jalan Klang Lama (Old Klang Road)', 'Jalan Kuching',\n",
       "        'Jalan Sultan Ismail', 'Jawi', 'Jelutong', 'Jenjarom', 'Jeram',\n",
       "        'Johor Bahru', 'Juru', 'KL City', 'KL Eco City', 'KL Sentral',\n",
       "        'KLCC', 'Kajang', 'Kaki Bukit', 'Kampar',\n",
       "        'Kampung Kerinchi (Bangsar South)', 'Kamunting', 'Kangar', 'Kapar',\n",
       "        'Kelana Jaya', 'Kem Desa Pahwalan', 'Kenali', 'Kepala Batas',\n",
       "        'Kepong', 'Keramat', 'Ketereh', 'Klang', 'Kluang', 'Kota Bharu',\n",
       "        'Kota Damansara', 'Kota Kemuning', 'Kota Kinabalu',\n",
       "        'Kota Kinabatangan', 'Kota Samarahan', 'Kota Tinggi',\n",
       "        'Kuala Kangsar', 'Kuala Kerai', 'Kuala Klawang', 'Kuala Kurau',\n",
       "        'Kuala Langat', 'Kuala Perlis', 'Kuala Pilah', 'Kuala Selangor',\n",
       "        'Kuchai Lama', 'Kuching', 'Kulai', 'Labu', 'Labuan', 'Lahad Datu',\n",
       "        'Lahat', 'Lenggeng', 'Likas', 'Lukut', 'Lumut', 'Lundu', 'Machang',\n",
       "        'Malim Nawar', 'Mambang Diawan', 'Mantin', 'Masai', 'Melor',\n",
       "        'Menglembu', 'Minden Heights', 'Miri', 'Mont Kiara', 'Muar',\n",
       "        'Mutiara Damansara', 'Nibong Tebal', 'Nilai', 'OUG',\n",
       "        'Padang Besar', 'Pandan Indah', 'Pandan Jaya', 'Pantai',\n",
       "        'Pantai Remis', 'Papar', 'Parit Buntar', 'Pasir Gudang',\n",
       "        'Pasir Mas', 'Pasir Puteh', 'Pauh', 'Paya Terubong', 'Penaga',\n",
       "        'Penampang', 'Pengerang', 'Pengkalan Chepa', 'Pengkalan Hulu',\n",
       "        'Perai', 'Perling', 'Permas Jaya', 'Permatang Pauh',\n",
       "        'Petaling Jaya', 'Plentong', 'Port Dickson', 'Port Klang',\n",
       "        'Puchong', 'Puchong South', 'Pulau  Indah ( Pulau Lumut)',\n",
       "        'Pulau Tikus', 'Puncak Jalil', 'Pusing', 'Putatan',\n",
       "        'Puteri Harbour', 'Putra Heights', 'Putrajaya', 'Raja Uda',\n",
       "        'Ranau', 'Rantau', 'Rantau Panjang', 'Rasah', 'Rawang', 'Relau',\n",
       "        'Rembau', 'SS2', 'Salak Selatan', 'Sandakan', 'Saujana',\n",
       "        'Saujana Utama', 'Seberang Jaya', 'Seberang Perai', 'Segambut',\n",
       "        'Selama', 'Selayang', 'Selising', 'Semenyih', 'Senai', 'Senawang',\n",
       "        'Senibong', 'Sentul', 'Sepang', 'Seputeh', 'Serdang', 'Seremban',\n",
       "        'Seremban 2', 'Serendah', 'Seri Iskandar', 'Seri Kembangan',\n",
       "        'Seri Manjong', 'Serian', 'Setapak', 'Setia Alam',\n",
       "        'Setia Eco Park', 'Setia Indah', 'Setia Tropika', 'Setiawangsa',\n",
       "        'Shah Alam', 'Sibu', 'SierraMas', 'Sikamat', 'Simpang Ampat',\n",
       "        'Simpang Pulai', 'Sitiawan', 'Skudai', 'Sri Aman', 'Sri Hartamas',\n",
       "        'Sri Petaling', 'Sri Rusa', 'Subang Heights', 'Subang Jaya',\n",
       "        'Sungai Ara', 'Sungai Bakap', 'Sungai Besi', 'Sungai Buloh',\n",
       "        'Sungai Dua', 'Sungai Jawi', 'Sungai Nibong', 'Sungai Siput',\n",
       "        'Sunway SPK', 'Taiping', 'Taman Desa', 'Taman Melawati',\n",
       "        'Taman Tun Dr Ismail', 'Tambun', 'Tambunan', 'Tampin', 'Tampoi',\n",
       "        'Tanah Merah', 'Tanjong Duabelas', 'Tanjong Karang',\n",
       "        'Tanjong Rambutan', 'Tanjong Tokong', 'Tanjung Bungah',\n",
       "        'Tanjung Malim', 'Tapah', 'Tawau', 'Tebrau', 'Telok',\n",
       "        'Telok Kemang', 'Telok Panglima Garang', 'Teluk Bahang',\n",
       "        'Teluk Intan', 'Teluk Kumbar', 'Titi Tinggi', 'Titiwangsa',\n",
       "        'Tronoh', 'Tropicana', 'Tuaran', 'Tumpat', 'USJ', 'USJ Heights',\n",
       "        'Ulu Kinta', 'Ulu Klang', 'Ulu Tiram', 'Valdor', 'Valencia',\n",
       "        'Wakaf Baru', 'Wangsa Maju'], dtype=object),\n",
       " array(['Johor', 'Kelantan', 'Kuala Lumpur', 'Labuan', 'Negeri Sembilan',\n",
       "        'Penang', 'Perak', 'Perlis', 'Putrajaya', 'Sabah', 'Sarawak',\n",
       "        'Selangor'], dtype=object),\n",
       " array(['1-sty Terrace/Link House', '1.5-sty Terrace/Link House',\n",
       "        '2-sty Terrace/Link House', '2.5-sty Terrace/Link House',\n",
       "        '3-sty Terrace/Link House', '3.5-sty Terrace/Link House',\n",
       "        '4-sty Terrace/Link House', 'Apartment', 'Bungalow',\n",
       "        'Cluster House', 'Condominium', 'Flat', 'Semi-detached House',\n",
       "        'Serviced Residence', 'Townhouse'], dtype=object),\n",
       " array(['Corner lot', 'Default', 'Dual key', 'Duplex', 'End lot',\n",
       "        'Intermediate', 'Penthouse', 'Soho', 'Studio', 'Triplex'],\n",
       "       dtype=object)]"
      ]
     },
     "execution_count": 45,
     "metadata": {},
     "output_type": "execute_result"
    }
   ],
   "source": [
    "sale_ohe = pickle.load(open('sale_ohe.pkl','rb'))\n",
    "sale_ohe.categories_"
   ]
  },
  {
   "cell_type": "code",
   "execution_count": 46,
   "id": "66135b4b",
   "metadata": {},
   "outputs": [
    {
     "data": {
      "text/html": [
       "<div>\n",
       "<style scoped>\n",
       "    .dataframe tbody tr th:only-of-type {\n",
       "        vertical-align: middle;\n",
       "    }\n",
       "\n",
       "    .dataframe tbody tr th {\n",
       "        vertical-align: top;\n",
       "    }\n",
       "\n",
       "    .dataframe thead th {\n",
       "        text-align: right;\n",
       "    }\n",
       "</style>\n",
       "<table border=\"1\" class=\"dataframe\">\n",
       "  <thead>\n",
       "    <tr style=\"text-align: right;\">\n",
       "      <th></th>\n",
       "      <th>district</th>\n",
       "      <th>state</th>\n",
       "      <th>type</th>\n",
       "      <th>details</th>\n",
       "    </tr>\n",
       "  </thead>\n",
       "  <tbody>\n",
       "    <tr>\n",
       "      <th>0</th>\n",
       "      <td>Sentul</td>\n",
       "      <td>Selangor</td>\n",
       "      <td>Bungalow</td>\n",
       "      <td>Soho</td>\n",
       "    </tr>\n",
       "  </tbody>\n",
       "</table>\n",
       "</div>"
      ],
      "text/plain": [
       "  district     state      type details\n",
       "0   Sentul  Selangor  Bungalow    Soho"
      ]
     },
     "execution_count": 46,
     "metadata": {},
     "output_type": "execute_result"
    }
   ],
   "source": [
    "cat_df = pd.DataFrame(data=input_dict, index=[0]).drop(['choice','bedroom','bathroom','carpark'],axis=1)\n",
    "cat_df"
   ]
  },
  {
   "cell_type": "code",
   "execution_count": 55,
   "id": "4f0e3af5",
   "metadata": {
    "scrolled": true
   },
   "outputs": [
    {
     "data": {
      "text/plain": [
       "array([[0., 0., 0., 0., 0., 0., 0., 0., 0., 0., 0., 0., 0., 0., 0., 0.,\n",
       "        0., 0., 0., 0., 0., 0., 0., 0., 0., 0., 0., 0., 0., 0., 0., 0.,\n",
       "        0., 0., 0., 0., 0., 0., 0., 0., 0., 0., 0., 0., 0., 0., 0., 0.,\n",
       "        0., 0., 0., 0., 0., 0., 0., 0., 0., 0., 0., 0., 0., 0., 0., 0.,\n",
       "        0., 0., 0., 0., 0., 0., 0., 0., 0., 0., 0., 0., 0., 0., 0., 0.,\n",
       "        0., 0., 0., 0., 0., 0., 0., 0., 0., 0., 0., 0., 0., 0., 0., 0.,\n",
       "        0., 0., 0., 0., 0., 0., 0., 0., 0., 0., 0., 0., 0., 0., 0., 0.,\n",
       "        0., 0., 0., 0., 0., 0., 0., 0., 0., 0., 0., 0., 0., 0., 0., 0.,\n",
       "        0., 0., 0., 0., 0., 0., 0., 0., 0., 0., 0., 0., 0., 0., 0., 0.,\n",
       "        0., 0., 0., 0., 0., 0., 0., 0., 0., 0., 0., 0., 0., 0., 0., 0.,\n",
       "        0., 0., 0., 0., 0., 0., 0., 0., 0., 0., 0., 0., 0., 0., 0., 0.,\n",
       "        0., 0., 0., 0., 0., 0., 0., 0., 0., 0., 0., 0., 0., 0., 0., 0.,\n",
       "        0., 0., 0., 0., 0., 0., 0., 0., 0., 0., 0., 0., 0., 0., 0., 0.,\n",
       "        0., 0., 0., 0., 0., 0., 0., 0., 0., 0., 0., 0., 0., 0., 0., 0.,\n",
       "        0., 0., 0., 0., 0., 0., 0., 0., 1., 0., 0., 0., 0., 0., 0., 0.,\n",
       "        0., 0., 0., 0., 0., 0., 0., 0., 0., 0., 0., 0., 0., 0., 0., 0.,\n",
       "        0., 0., 0., 0., 0., 0., 0., 0., 0., 0., 0., 0., 0., 0., 0., 0.,\n",
       "        0., 0., 0., 0., 0., 0., 0., 0., 0., 0., 0., 0., 0., 0., 0., 0.,\n",
       "        0., 0., 0., 0., 0., 0., 0., 0., 0., 0., 0., 0., 0., 0., 0., 0.,\n",
       "        0., 0., 0., 0., 0., 0., 0., 0., 0., 0., 0., 0., 0., 0., 0., 0.,\n",
       "        0., 0., 1., 0., 0., 0., 0., 0., 0., 0., 0., 1., 0., 0., 0., 0.,\n",
       "        0., 0., 0., 0., 0., 0., 0., 0., 0., 1., 0., 0.]])"
      ]
     },
     "execution_count": 55,
     "metadata": {},
     "output_type": "execute_result"
    }
   ],
   "source": [
    "cat_arr = sale_ohe.transform(cat_df).toarray()\n",
    "cat_arr"
   ]
  },
  {
   "cell_type": "code",
   "execution_count": 57,
   "id": "b23c3df3",
   "metadata": {},
   "outputs": [
    {
     "data": {
      "text/plain": [
       "array([[8., 5., 3., 0., 0., 0., 0., 0., 0., 0., 0., 0., 0., 0., 0., 0.,\n",
       "        0., 0., 0., 0., 0., 0., 0., 0., 0., 0., 0., 0., 0., 0., 0., 0.,\n",
       "        0., 0., 0., 0., 0., 0., 0., 0., 0., 0., 0., 0., 0., 0., 0., 0.,\n",
       "        0., 0., 0., 0., 0., 0., 0., 0., 0., 0., 0., 0., 0., 0., 0., 0.,\n",
       "        0., 0., 0., 0., 0., 0., 0., 0., 0., 0., 0., 0., 0., 0., 0., 0.,\n",
       "        0., 0., 0., 0., 0., 0., 0., 0., 0., 0., 0., 0., 0., 0., 0., 0.,\n",
       "        0., 0., 0., 0., 0., 0., 0., 0., 0., 0., 0., 0., 0., 0., 0., 0.,\n",
       "        0., 0., 0., 0., 0., 0., 0., 0., 0., 0., 0., 0., 0., 0., 0., 0.,\n",
       "        0., 0., 0., 0., 0., 0., 0., 0., 0., 0., 0., 0., 0., 0., 0., 0.,\n",
       "        0., 0., 0., 0., 0., 0., 0., 0., 0., 0., 0., 0., 0., 0., 0., 0.,\n",
       "        0., 0., 0., 0., 0., 0., 0., 0., 0., 0., 0., 0., 0., 0., 0., 0.,\n",
       "        0., 0., 0., 0., 0., 0., 0., 0., 0., 0., 0., 0., 0., 0., 0., 0.,\n",
       "        0., 0., 0., 0., 0., 0., 0., 0., 0., 0., 0., 0., 0., 0., 0., 0.,\n",
       "        0., 0., 0., 0., 0., 0., 0., 0., 0., 0., 0., 0., 0., 0., 0., 0.,\n",
       "        0., 0., 0., 0., 0., 0., 0., 0., 0., 0., 0., 1., 0., 0., 0., 0.,\n",
       "        0., 0., 0., 0., 0., 0., 0., 0., 0., 0., 0., 0., 0., 0., 0., 0.,\n",
       "        0., 0., 0., 0., 0., 0., 0., 0., 0., 0., 0., 0., 0., 0., 0., 0.,\n",
       "        0., 0., 0., 0., 0., 0., 0., 0., 0., 0., 0., 0., 0., 0., 0., 0.,\n",
       "        0., 0., 0., 0., 0., 0., 0., 0., 0., 0., 0., 0., 0., 0., 0., 0.,\n",
       "        0., 0., 0., 0., 0., 0., 0., 0., 0., 0., 0., 0., 0., 0., 0., 0.,\n",
       "        0., 0., 0., 0., 0., 1., 0., 0., 0., 0., 0., 0., 0., 0., 1., 0.,\n",
       "        0., 0., 0., 0., 0., 0., 0., 0., 0., 0., 0., 0., 1., 0., 0.]])"
      ]
     },
     "execution_count": 57,
     "metadata": {},
     "output_type": "execute_result"
    }
   ],
   "source": [
    "train_arr = np.concatenate((num_arr,cat_arr),axis=1)\n",
    "train_arr"
   ]
  },
  {
   "cell_type": "code",
   "execution_count": null,
   "id": "29337d36",
   "metadata": {},
   "outputs": [],
   "source": []
  }
 ],
 "metadata": {
  "kernelspec": {
   "display_name": "Python 3 (ipykernel)",
   "language": "python",
   "name": "python3"
  },
  "language_info": {
   "codemirror_mode": {
    "name": "ipython",
    "version": 3
   },
   "file_extension": ".py",
   "mimetype": "text/x-python",
   "name": "python",
   "nbconvert_exporter": "python",
   "pygments_lexer": "ipython3",
   "version": "3.9.12"
  }
 },
 "nbformat": 4,
 "nbformat_minor": 5
}
