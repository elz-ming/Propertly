{
 "cells": [
  {
   "cell_type": "code",
   "execution_count": 1,
   "id": "977c86a9",
   "metadata": {},
   "outputs": [],
   "source": [
    "model_dict = {\n",
    "    'lr' : 'Linear Regressor',\n",
    "    'dt' : 'Decision Tree Regressor',\n",
    "    'rf' : 'Random Forest Regressor',\n",
    "    'svm': 'Support Vector Machine Regressor',\n",
    "    'kn' : 'K Neigbors Regressor',\n",
    "    'gb' : 'Gradient Boosting Regressor',\n",
    "    'nn' : 'Neural Network Regressor',\n",
    "}"
   ]
  },
  {
   "cell_type": "code",
   "execution_count": null,
   "id": "89f4952c",
   "metadata": {},
   "outputs": [],
   "source": [
    "for key, value in m"
   ]
  }
 ],
 "metadata": {
  "kernelspec": {
   "display_name": "Python 3 (ipykernel)",
   "language": "python",
   "name": "python3"
  },
  "language_info": {
   "codemirror_mode": {
    "name": "ipython",
    "version": 3
   },
   "file_extension": ".py",
   "mimetype": "text/x-python",
   "name": "python",
   "nbconvert_exporter": "python",
   "pygments_lexer": "ipython3",
   "version": "3.9.12"
  }
 },
 "nbformat": 4,
 "nbformat_minor": 5
}
