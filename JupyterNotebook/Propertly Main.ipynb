{
 "cells": [
  {
   "cell_type": "markdown",
   "id": "d222d44f",
   "metadata": {},
   "source": [
    "# Propertly\n",
    "\n",
    "This notebook will be demonstrating my work."
   ]
  },
  {
   "cell_type": "markdown",
   "id": "0b5e8ef4",
   "metadata": {},
   "source": [
    "## #0.0 Import Libraries & Data"
   ]
  },
  {
   "cell_type": "code",
   "execution_count": 1,
   "id": "3d02cf15",
   "metadata": {},
   "outputs": [
    {
     "name": "stderr",
     "output_type": "stream",
     "text": [
      "C:\\ProgramData\\Anaconda3\\lib\\site-packages\\scipy\\__init__.py:146: UserWarning: A NumPy version >=1.16.5 and <1.23.0 is required for this version of SciPy (detected version 1.23.3\n",
      "  warnings.warn(f\"A NumPy version >={np_minversion} and <{np_maxversion}\"\n"
     ]
    }
   ],
   "source": [
    "import pandas as pd\n",
    "import numpy as np\n",
    "\n",
    "import re\n",
    "\n",
    "import matplotlib.pyplot as plt\n",
    "%matplotlib inline\n",
    "\n",
    "import seaborn as sns\n",
    "sns.set_style('darkgrid')"
   ]
  },
  {
   "cell_type": "code",
   "execution_count": 2,
   "id": "b17bb9d3",
   "metadata": {},
   "outputs": [],
   "source": [
    "df_init = pd.read_csv('../data/iProperty_sale_to_be_cleaned.csv')"
   ]
  },
  {
   "cell_type": "markdown",
   "id": "0b752f2d",
   "metadata": {},
   "source": [
    "## #1a Exploratory Data Analysis"
   ]
  },
  {
   "cell_type": "code",
   "execution_count": 3,
   "id": "d635dd2e",
   "metadata": {
    "scrolled": true
   },
   "outputs": [
    {
     "name": "stdout",
     "output_type": "stream",
     "text": [
      "\u001b[1m DataFrame : \u001b[0m\n"
     ]
    },
    {
     "data": {
      "text/html": [
       "<div>\n",
       "<style scoped>\n",
       "    .dataframe tbody tr th:only-of-type {\n",
       "        vertical-align: middle;\n",
       "    }\n",
       "\n",
       "    .dataframe tbody tr th {\n",
       "        vertical-align: top;\n",
       "    }\n",
       "\n",
       "    .dataframe thead th {\n",
       "        text-align: right;\n",
       "    }\n",
       "</style>\n",
       "<table border=\"1\" class=\"dataframe\">\n",
       "  <thead>\n",
       "    <tr style=\"text-align: right;\">\n",
       "      <th></th>\n",
       "      <th>name</th>\n",
       "      <th>price</th>\n",
       "      <th>psf</th>\n",
       "      <th>address</th>\n",
       "      <th>description</th>\n",
       "      <th>bedroom</th>\n",
       "      <th>bathroom</th>\n",
       "      <th>carpark</th>\n",
       "    </tr>\n",
       "  </thead>\n",
       "  <tbody>\n",
       "    <tr>\n",
       "      <th>0</th>\n",
       "      <td>The Park Sky Residence, Bukit Jalil</td>\n",
       "      <td>RM1,150,000</td>\n",
       "      <td>(RM 1042.61 per sq. ft.)</td>\n",
       "      <td>Bukit Jalil, Kuala Lumpur</td>\n",
       "      <td>Serviced Residence | Corner lot  •  Built-up :...</td>\n",
       "      <td>3</td>\n",
       "      <td>2.0</td>\n",
       "      <td>2.0</td>\n",
       "    </tr>\n",
       "    <tr>\n",
       "      <th>1</th>\n",
       "      <td>Bukit Damansara, Damansara Heights</td>\n",
       "      <td>RM1,650,000</td>\n",
       "      <td>(RM 717.39 per sq. ft.)</td>\n",
       "      <td>Damansara Heights, Kuala Lumpur</td>\n",
       "      <td>2-sty Terrace/Link House | Intermediate  •  Bu...</td>\n",
       "      <td>4</td>\n",
       "      <td>3.0</td>\n",
       "      <td>2.0</td>\n",
       "    </tr>\n",
       "    <tr>\n",
       "      <th>2</th>\n",
       "      <td>The Binjai on the Park, KL City Centre, KLCC</td>\n",
       "      <td>RM6,888,888</td>\n",
       "      <td>(RM 2140.74 per sq. ft.)</td>\n",
       "      <td>KLCC, Kuala Lumpur</td>\n",
       "      <td>Condominium | Corner lot  •  Built-up : 3,218 ...</td>\n",
       "      <td>3+1</td>\n",
       "      <td>4.0</td>\n",
       "      <td>3.0</td>\n",
       "    </tr>\n",
       "    <tr>\n",
       "      <th>3</th>\n",
       "      <td>AMELIA, DESA PARKCITY, Desa ParkCity</td>\n",
       "      <td>RM2,700,000</td>\n",
       "      <td>(RM 1026.62 per sq. ft.)</td>\n",
       "      <td>Desa ParkCity, Kuala Lumpur</td>\n",
       "      <td>2-sty Terrace/Link House  •  Built-up : 2,630 ...</td>\n",
       "      <td>3+1</td>\n",
       "      <td>4.0</td>\n",
       "      <td>2.0</td>\n",
       "    </tr>\n",
       "    <tr>\n",
       "      <th>4</th>\n",
       "      <td>AMELIA, DESA PARKCITY, Desa ParkCity</td>\n",
       "      <td>RM2,800,000</td>\n",
       "      <td>(RM 1076.92 per sq. ft.)</td>\n",
       "      <td>Desa ParkCity, Kuala Lumpur</td>\n",
       "      <td>2-sty Terrace/Link House  •  Built-up : 2,600 ...</td>\n",
       "      <td>3+1</td>\n",
       "      <td>4.0</td>\n",
       "      <td>2.0</td>\n",
       "    </tr>\n",
       "  </tbody>\n",
       "</table>\n",
       "</div>"
      ],
      "text/plain": [
       "                                           name        price  \\\n",
       "0           The Park Sky Residence, Bukit Jalil  RM1,150,000   \n",
       "1            Bukit Damansara, Damansara Heights  RM1,650,000   \n",
       "2  The Binjai on the Park, KL City Centre, KLCC  RM6,888,888   \n",
       "3          AMELIA, DESA PARKCITY, Desa ParkCity  RM2,700,000   \n",
       "4          AMELIA, DESA PARKCITY, Desa ParkCity  RM2,800,000   \n",
       "\n",
       "                        psf                          address  \\\n",
       "0  (RM 1042.61 per sq. ft.)        Bukit Jalil, Kuala Lumpur   \n",
       "1   (RM 717.39 per sq. ft.)  Damansara Heights, Kuala Lumpur   \n",
       "2  (RM 2140.74 per sq. ft.)               KLCC, Kuala Lumpur   \n",
       "3  (RM 1026.62 per sq. ft.)      Desa ParkCity, Kuala Lumpur   \n",
       "4  (RM 1076.92 per sq. ft.)      Desa ParkCity, Kuala Lumpur   \n",
       "\n",
       "                                         description bedroom  bathroom  \\\n",
       "0  Serviced Residence | Corner lot  •  Built-up :...       3       2.0   \n",
       "1  2-sty Terrace/Link House | Intermediate  •  Bu...       4       3.0   \n",
       "2  Condominium | Corner lot  •  Built-up : 3,218 ...     3+1       4.0   \n",
       "3  2-sty Terrace/Link House  •  Built-up : 2,630 ...     3+1       4.0   \n",
       "4  2-sty Terrace/Link House  •  Built-up : 2,600 ...     3+1       4.0   \n",
       "\n",
       "   carpark  \n",
       "0      2.0  \n",
       "1      2.0  \n",
       "2      3.0  \n",
       "3      2.0  \n",
       "4      2.0  "
      ]
     },
     "execution_count": 3,
     "metadata": {},
     "output_type": "execute_result"
    }
   ],
   "source": [
    "print(\"\\033[1m\", 'DataFrame :', \"\\033[0m\")\n",
    "df_init.head()"
   ]
  },
  {
   "cell_type": "code",
   "execution_count": 4,
   "id": "a11af081",
   "metadata": {
    "scrolled": true
   },
   "outputs": [
    {
     "name": "stdout",
     "output_type": "stream",
     "text": [
      "\u001b[1m Shape of DataFrame : \u001b[0m (14599, 8)\n"
     ]
    }
   ],
   "source": [
    "print(\"\\033[1m\", 'Shape of DataFrame :', \"\\033[0m\", df_init.shape)"
   ]
  },
  {
   "cell_type": "code",
   "execution_count": 5,
   "id": "a1a6d326",
   "metadata": {},
   "outputs": [
    {
     "name": "stdout",
     "output_type": "stream",
     "text": [
      "\u001b[1m DataFrame data types : \u001b[0m\n"
     ]
    },
    {
     "data": {
      "text/plain": [
       "name            object\n",
       "price           object\n",
       "psf             object\n",
       "address         object\n",
       "description     object\n",
       "bedroom         object\n",
       "bathroom       float64\n",
       "carpark        float64\n",
       "dtype: object"
      ]
     },
     "execution_count": 5,
     "metadata": {},
     "output_type": "execute_result"
    }
   ],
   "source": [
    "print(\"\\033[1m\", 'DataFrame data types :', \"\\033[0m\")\n",
    "df_init.dtypes"
   ]
  },
  {
   "cell_type": "code",
   "execution_count": 6,
   "id": "a1ce1844",
   "metadata": {
    "scrolled": true
   },
   "outputs": [
    {
     "name": "stdout",
     "output_type": "stream",
     "text": [
      "\u001b[1m DataFrame empty cells : \u001b[0m\n"
     ]
    },
    {
     "data": {
      "text/plain": [
       "name             15\n",
       "price            15\n",
       "psf              22\n",
       "address          15\n",
       "description       0\n",
       "bedroom         555\n",
       "bathroom        558\n",
       "carpark        4461\n",
       "dtype: int64"
      ]
     },
     "execution_count": 6,
     "metadata": {},
     "output_type": "execute_result"
    }
   ],
   "source": [
    "print(\"\\033[1m\", 'DataFrame empty cells :', \"\\033[0m\")\n",
    "df_init.isnull().sum()"
   ]
  },
  {
   "cell_type": "code",
   "execution_count": 7,
   "id": "8ba76446",
   "metadata": {
    "scrolled": true
   },
   "outputs": [
    {
     "name": "stdout",
     "output_type": "stream",
     "text": [
      "\u001b[1m DataFrame duplicate rows : \u001b[0m 811\n"
     ]
    }
   ],
   "source": [
    "print(\"\\033[1m\", 'DataFrame duplicate rows :', \"\\033[0m\", len(df_init)-len(df_init.drop_duplicates()))"
   ]
  },
  {
   "cell_type": "code",
   "execution_count": 8,
   "id": "43375b40",
   "metadata": {},
   "outputs": [
    {
     "name": "stdout",
     "output_type": "stream",
     "text": [
      "\u001b[1m name \u001b[0m\n",
      "Kuching                                                    196\n",
      "Putrajaya                                                  121\n",
      "Miri                                                       105\n",
      "Jesselton Twin Towers, Kota Kinabalu                        92\n",
      "Dwiputra Residences, Putrajaya                              74\n",
      "                                                          ... \n",
      "Lapangan Hamorni Freehold Single Storey Semi-D , Ipoh        1\n",
      "(Fully Furnished) Pengkalan Tiara Gated Guarded, Ipoh        1\n",
      "Bercham Ipoh, Ipoh                                           1\n",
      "Gunung Rapat Ampang Big Double Storey House 22x75, Ipoh      1\n",
      "Kampung Bukit Tiu, Machang                                   1\n",
      "Name: name, Length: 8022, dtype: int64 \n",
      "\n",
      "\u001b[1m price \u001b[0m\n",
      "RM 850,000     107\n",
      "RM650,000      101\n",
      "RM 450,000      97\n",
      "RM 550,000      93\n",
      "RM1,500,000     82\n",
      "              ... \n",
      "RM418,500        1\n",
      "RM477,800        1\n",
      "RM479,400        1\n",
      "RM194,000        1\n",
      "RM 258,999       1\n",
      "Name: price, Length: 2683, dtype: int64 \n",
      "\n",
      "\u001b[1m psf \u001b[0m\n",
      "(RM 500 per sq. ft.)       87\n",
      "(RM 400 per sq. ft.)       77\n",
      "(RM 250 per sq. ft.)       57\n",
      "(RM 300 per sq. ft.)       47\n",
      "(RM 1000 per sq. ft.)      46\n",
      "                           ..\n",
      "(RM 171 per sq. ft.)        1\n",
      "(RM 167.25 per sq. ft.)     1\n",
      "(RM 240.06 per sq. ft.)     1\n",
      "(RM 227.96 per sq. ft.)     1\n",
      "(RM 34.7 per sq. ft.)       1\n",
      "Name: psf, Length: 8551, dtype: int64 \n",
      "\n",
      "\u001b[1m address \u001b[0m\n",
      "Putrajaya, Putrajaya        1386\n",
      "Ipoh, Perak                 1144\n",
      "Kuching, Sarawak            1030\n",
      "Kota Kinabalu, Sabah         989\n",
      "Johor Bahru, Johor           667\n",
      "                            ... \n",
      "Kuala Selangor, Selangor       1\n",
      "Kuala Langat, Selangor         1\n",
      "Ulu Kinta, Perak               1\n",
      "Jeram, Selangor                1\n",
      "Selising, Kelantan             1\n",
      "Name: address, Length: 326, dtype: int64 \n",
      "\n",
      "\u001b[1m description \u001b[0m\n",
      "2-sty Terrace/Link House | Intermediate  •  Built-up : 2,200 sq. ft.  •  Partly furnished    58\n",
      "2-sty Terrace/Link House | Intermediate  •  Built-up : 2,000 sq. ft.  •  Partly furnished    56\n",
      "2-sty Terrace/Link House  •  Built-up : 2,000 sq. ft.                                        53\n",
      "Semi-detached House  •  Built-up : 1 sq. ft.                                                 46\n",
      "1-sty Terrace/Link House  •  Built-up : 1,000 sq. ft.                                        45\n",
      "                                                                                             ..\n",
      "2-sty Terrace/Link House | Intermediate  •  Built-up : 1,440 sq. ft.                          1\n",
      "Bungalow  •  Built-up : 6,776 sq. ft.                                                         1\n",
      "Bungalow  •  Built-up : 15,280 sq. ft.                                                        1\n",
      "2-sty Terrace/Link House  •  Built-up : 1,144 sq. ft.                                         1\n",
      "Residential Land  •  Land area : 5,188 sq. ft.                                                1\n",
      "Name: description, Length: 8478, dtype: int64 \n",
      "\n",
      "\u001b[1m bedroom \u001b[0m\n",
      "3         4057\n",
      "4         3970\n",
      "5         1156\n",
      "4+1       1021\n",
      "2          831\n",
      "3+1        678\n",
      "6          531\n",
      "5+1        453\n",
      "1          250\n",
      "6+1        196\n",
      "2+1        149\n",
      "Studio     109\n",
      "7          109\n",
      "4+2         90\n",
      "5+2         71\n",
      "8           60\n",
      "1+1         58\n",
      "3+2         42\n",
      "7+1         42\n",
      "6+2         23\n",
      "7+2         16\n",
      "11          15\n",
      "5+3         11\n",
      "8+1         11\n",
      "9           10\n",
      "6+3          9\n",
      "10           8\n",
      "9+1          8\n",
      "8+2          6\n",
      "3+3          6\n",
      "4+3          5\n",
      "11+2         5\n",
      "13           4\n",
      "7+3          4\n",
      "8+3          3\n",
      "11+1         2\n",
      "10+1         2\n",
      "2+2          2\n",
      "7+6          2\n",
      "5+4          2\n",
      "7+7          2\n",
      "4+17         1\n",
      "18           1\n",
      "14           1\n",
      "15           1\n",
      "9+2          1\n",
      "1+3          1\n",
      "15+10        1\n",
      "4+4          1\n",
      "12           1\n",
      "7+4          1\n",
      "12+4         1\n",
      "8+5          1\n",
      "5+5          1\n",
      "6+4          1\n",
      "8+8          1\n",
      "Name: bedroom, dtype: int64 \n",
      "\n",
      "\u001b[1m bathroom \u001b[0m\n",
      "2.0     4811\n",
      "3.0     3930\n",
      "4.0     2058\n",
      "5.0     1281\n",
      "6.0      831\n",
      "1.0      683\n",
      "7.0      255\n",
      "8.0      117\n",
      "9.0       48\n",
      "10.0       9\n",
      "11.0       6\n",
      "13.0       6\n",
      "12.0       4\n",
      "20.0       1\n",
      "18.0       1\n",
      "Name: bathroom, dtype: int64 \n",
      "\n",
      "\u001b[1m carpark \u001b[0m\n",
      "2.0     5292\n",
      "1.0     2366\n",
      "3.0     1011\n",
      "4.0      872\n",
      "5.0      288\n",
      "6.0      175\n",
      "8.0       57\n",
      "10.0      48\n",
      "7.0       11\n",
      "15.0       7\n",
      "12.0       4\n",
      "9.0        3\n",
      "20.0       2\n",
      "11.0       1\n",
      "18.0       1\n",
      "Name: carpark, dtype: int64 \n",
      "\n"
     ]
    }
   ],
   "source": [
    "for col in df_init.columns:\n",
    "    print(\"\\033[1m\", col, \"\\033[0m\")\n",
    "    print(df_init[col].value_counts(),'\\n')"
   ]
  },
  {
   "cell_type": "markdown",
   "id": "b8cd5403",
   "metadata": {},
   "source": [
    "**Notes**\n",
    "1. 'Address' column can be further split into 'District'(eg. Ipoh, Johor Bahru) and 'State'(eg. Selangor, Sarawak).\n",
    "2. 'Description' column can be further split into 'Type'(eg. Bungalow, Terrace), 'Details'(eg. Intermediate, Corner Lot), 'Area'(eg. 2,200 sqft, 1000sqft) and 'Furnish'(eg. Unfurnished, Partly furnished).\n",
    "3. 'Bedroom' column should add up the numbers between the '+' sign and 'Studio' value should be handled carefully.\n",
    "4. 'Carpark' column that are empty should be filled with 0.\n",
    "5. Drop all other empty cells and duplicated cells.\n",
    "6. Numerical columns ['price', 'psf', 'area', 'bedroom', 'bathroom', 'carpark'] should be formatted to int64 or float64 dtype.\n",
    "7. String columns ['district','state','type','details','furnish'] should be one hot encoded."
   ]
  },
  {
   "cell_type": "markdown",
   "id": "9a0a8024",
   "metadata": {},
   "source": [
    "## #2 Data Cleaning\n",
    "For purpose, I've created a single function that cleans everything and placed it below under 'Archive'.\n",
    "\n",
    "Run that cell on a DataFrame and it will returned a cleaned DataFrame for you."
   ]
  },
  {
   "cell_type": "markdown",
   "id": "4194b452",
   "metadata": {},
   "source": [
    "### #2.0 Create a copy of DataFrame"
   ]
  },
  {
   "cell_type": "code",
   "execution_count": 9,
   "id": "be37f35a",
   "metadata": {},
   "outputs": [],
   "source": [
    "df_cleaned = df_init.copy()"
   ]
  },
  {
   "cell_type": "markdown",
   "id": "d4c21ddf",
   "metadata": {},
   "source": [
    "### #2.1 Dealing with empty values"
   ]
  },
  {
   "cell_type": "code",
   "execution_count": 10,
   "id": "7c9c1cb5",
   "metadata": {},
   "outputs": [
    {
     "name": "stdout",
     "output_type": "stream",
     "text": [
      "\u001b[1m Before : \u001b[0m\n"
     ]
    },
    {
     "data": {
      "text/plain": [
       "name             15\n",
       "price            15\n",
       "psf              22\n",
       "address          15\n",
       "description       0\n",
       "bedroom         555\n",
       "bathroom        558\n",
       "carpark        4461\n",
       "dtype: int64"
      ]
     },
     "execution_count": 10,
     "metadata": {},
     "output_type": "execute_result"
    }
   ],
   "source": [
    "print(\"\\033[1m\", 'Before :', \"\\033[0m\")\n",
    "df_cleaned.isnull().sum()"
   ]
  },
  {
   "cell_type": "code",
   "execution_count": 11,
   "id": "1101d005",
   "metadata": {},
   "outputs": [
    {
     "name": "stdout",
     "output_type": "stream",
     "text": [
      "\u001b[1m After1 : \u001b[0m\n"
     ]
    },
    {
     "data": {
      "text/plain": [
       "name            15\n",
       "price           15\n",
       "psf             22\n",
       "address         15\n",
       "description      0\n",
       "bedroom        555\n",
       "bathroom       558\n",
       "carpark          0\n",
       "dtype: int64"
      ]
     },
     "execution_count": 11,
     "metadata": {},
     "output_type": "execute_result"
    }
   ],
   "source": [
    "print(\"\\033[1m\", 'After1 :', \"\\033[0m\")\n",
    "df_cleaned.carpark.fillna(0, inplace=True)\n",
    "df_cleaned.isnull().sum()"
   ]
  },
  {
   "cell_type": "code",
   "execution_count": 12,
   "id": "6c3095a4",
   "metadata": {},
   "outputs": [
    {
     "name": "stdout",
     "output_type": "stream",
     "text": [
      "\u001b[1m After2 : \u001b[0m\n"
     ]
    },
    {
     "data": {
      "text/plain": [
       "name           0\n",
       "price          0\n",
       "psf            0\n",
       "address        0\n",
       "description    0\n",
       "bedroom        0\n",
       "bathroom       0\n",
       "carpark        0\n",
       "dtype: int64"
      ]
     },
     "execution_count": 12,
     "metadata": {},
     "output_type": "execute_result"
    }
   ],
   "source": [
    "print(\"\\033[1m\", 'After2 :', \"\\033[0m\")\n",
    "df_cleaned.dropna(inplace=True)\n",
    "df_cleaned.isnull().sum()"
   ]
  },
  {
   "cell_type": "markdown",
   "id": "6caac13a",
   "metadata": {},
   "source": [
    "### #2.2 Dealing with duplicate values"
   ]
  },
  {
   "cell_type": "code",
   "execution_count": 13,
   "id": "8b3035dc",
   "metadata": {},
   "outputs": [
    {
     "name": "stdout",
     "output_type": "stream",
     "text": [
      "\u001b[1m Before : \u001b[0m (14024, 8)\n"
     ]
    }
   ],
   "source": [
    "print(\"\\033[1m\", 'Before :', \"\\033[0m\", df_cleaned.shape)"
   ]
  },
  {
   "cell_type": "code",
   "execution_count": 14,
   "id": "c74fdeaa",
   "metadata": {},
   "outputs": [
    {
     "name": "stdout",
     "output_type": "stream",
     "text": [
      "\u001b[1m After : \u001b[0m (13222, 8)\n"
     ]
    }
   ],
   "source": [
    "df_cleaned.drop_duplicates(inplace=True)\n",
    "print(\"\\033[1m\", 'After :', \"\\033[0m\", df_cleaned.shape)"
   ]
  },
  {
   "cell_type": "code",
   "execution_count": 15,
   "id": "bd282f98",
   "metadata": {},
   "outputs": [],
   "source": [
    "df_cleaned.reset_index(drop=True, inplace=True)"
   ]
  },
  {
   "cell_type": "markdown",
   "id": "d05ad8d4",
   "metadata": {},
   "source": [
    "### #2.3 Dealing with 'address' column"
   ]
  },
  {
   "cell_type": "code",
   "execution_count": 16,
   "id": "155f8d1d",
   "metadata": {},
   "outputs": [
    {
     "name": "stdout",
     "output_type": "stream",
     "text": [
      "\u001b[1m Before : \u001b[0m (13222, 8)\n"
     ]
    },
    {
     "data": {
      "text/html": [
       "<div>\n",
       "<style scoped>\n",
       "    .dataframe tbody tr th:only-of-type {\n",
       "        vertical-align: middle;\n",
       "    }\n",
       "\n",
       "    .dataframe tbody tr th {\n",
       "        vertical-align: top;\n",
       "    }\n",
       "\n",
       "    .dataframe thead th {\n",
       "        text-align: right;\n",
       "    }\n",
       "</style>\n",
       "<table border=\"1\" class=\"dataframe\">\n",
       "  <thead>\n",
       "    <tr style=\"text-align: right;\">\n",
       "      <th></th>\n",
       "      <th>name</th>\n",
       "      <th>price</th>\n",
       "      <th>psf</th>\n",
       "      <th>address</th>\n",
       "      <th>description</th>\n",
       "      <th>bedroom</th>\n",
       "      <th>bathroom</th>\n",
       "      <th>carpark</th>\n",
       "    </tr>\n",
       "  </thead>\n",
       "  <tbody>\n",
       "    <tr>\n",
       "      <th>0</th>\n",
       "      <td>The Park Sky Residence, Bukit Jalil</td>\n",
       "      <td>RM1,150,000</td>\n",
       "      <td>(RM 1042.61 per sq. ft.)</td>\n",
       "      <td>Bukit Jalil, Kuala Lumpur</td>\n",
       "      <td>Serviced Residence | Corner lot  •  Built-up :...</td>\n",
       "      <td>3</td>\n",
       "      <td>2.0</td>\n",
       "      <td>2.0</td>\n",
       "    </tr>\n",
       "    <tr>\n",
       "      <th>1</th>\n",
       "      <td>Bukit Damansara, Damansara Heights</td>\n",
       "      <td>RM1,650,000</td>\n",
       "      <td>(RM 717.39 per sq. ft.)</td>\n",
       "      <td>Damansara Heights, Kuala Lumpur</td>\n",
       "      <td>2-sty Terrace/Link House | Intermediate  •  Bu...</td>\n",
       "      <td>4</td>\n",
       "      <td>3.0</td>\n",
       "      <td>2.0</td>\n",
       "    </tr>\n",
       "    <tr>\n",
       "      <th>2</th>\n",
       "      <td>The Binjai on the Park, KL City Centre, KLCC</td>\n",
       "      <td>RM6,888,888</td>\n",
       "      <td>(RM 2140.74 per sq. ft.)</td>\n",
       "      <td>KLCC, Kuala Lumpur</td>\n",
       "      <td>Condominium | Corner lot  •  Built-up : 3,218 ...</td>\n",
       "      <td>3+1</td>\n",
       "      <td>4.0</td>\n",
       "      <td>3.0</td>\n",
       "    </tr>\n",
       "    <tr>\n",
       "      <th>3</th>\n",
       "      <td>AMELIA, DESA PARKCITY, Desa ParkCity</td>\n",
       "      <td>RM2,700,000</td>\n",
       "      <td>(RM 1026.62 per sq. ft.)</td>\n",
       "      <td>Desa ParkCity, Kuala Lumpur</td>\n",
       "      <td>2-sty Terrace/Link House  •  Built-up : 2,630 ...</td>\n",
       "      <td>3+1</td>\n",
       "      <td>4.0</td>\n",
       "      <td>2.0</td>\n",
       "    </tr>\n",
       "    <tr>\n",
       "      <th>4</th>\n",
       "      <td>AMELIA, DESA PARKCITY, Desa ParkCity</td>\n",
       "      <td>RM2,800,000</td>\n",
       "      <td>(RM 1076.92 per sq. ft.)</td>\n",
       "      <td>Desa ParkCity, Kuala Lumpur</td>\n",
       "      <td>2-sty Terrace/Link House  •  Built-up : 2,600 ...</td>\n",
       "      <td>3+1</td>\n",
       "      <td>4.0</td>\n",
       "      <td>2.0</td>\n",
       "    </tr>\n",
       "  </tbody>\n",
       "</table>\n",
       "</div>"
      ],
      "text/plain": [
       "                                           name        price  \\\n",
       "0           The Park Sky Residence, Bukit Jalil  RM1,150,000   \n",
       "1            Bukit Damansara, Damansara Heights  RM1,650,000   \n",
       "2  The Binjai on the Park, KL City Centre, KLCC  RM6,888,888   \n",
       "3          AMELIA, DESA PARKCITY, Desa ParkCity  RM2,700,000   \n",
       "4          AMELIA, DESA PARKCITY, Desa ParkCity  RM2,800,000   \n",
       "\n",
       "                        psf                          address  \\\n",
       "0  (RM 1042.61 per sq. ft.)        Bukit Jalil, Kuala Lumpur   \n",
       "1   (RM 717.39 per sq. ft.)  Damansara Heights, Kuala Lumpur   \n",
       "2  (RM 2140.74 per sq. ft.)               KLCC, Kuala Lumpur   \n",
       "3  (RM 1026.62 per sq. ft.)      Desa ParkCity, Kuala Lumpur   \n",
       "4  (RM 1076.92 per sq. ft.)      Desa ParkCity, Kuala Lumpur   \n",
       "\n",
       "                                         description bedroom  bathroom  \\\n",
       "0  Serviced Residence | Corner lot  •  Built-up :...       3       2.0   \n",
       "1  2-sty Terrace/Link House | Intermediate  •  Bu...       4       3.0   \n",
       "2  Condominium | Corner lot  •  Built-up : 3,218 ...     3+1       4.0   \n",
       "3  2-sty Terrace/Link House  •  Built-up : 2,630 ...     3+1       4.0   \n",
       "4  2-sty Terrace/Link House  •  Built-up : 2,600 ...     3+1       4.0   \n",
       "\n",
       "   carpark  \n",
       "0      2.0  \n",
       "1      2.0  \n",
       "2      3.0  \n",
       "3      2.0  \n",
       "4      2.0  "
      ]
     },
     "execution_count": 16,
     "metadata": {},
     "output_type": "execute_result"
    }
   ],
   "source": [
    "print(\"\\033[1m\", 'Before :', \"\\033[0m\", df_cleaned.shape)\n",
    "df_cleaned.head()"
   ]
  },
  {
   "cell_type": "code",
   "execution_count": 17,
   "id": "7cb95e1f",
   "metadata": {
    "scrolled": true
   },
   "outputs": [
    {
     "name": "stdout",
     "output_type": "stream",
     "text": [
      "\u001b[1m After : \u001b[0m (13222, 9)\n"
     ]
    },
    {
     "data": {
      "text/html": [
       "<div>\n",
       "<style scoped>\n",
       "    .dataframe tbody tr th:only-of-type {\n",
       "        vertical-align: middle;\n",
       "    }\n",
       "\n",
       "    .dataframe tbody tr th {\n",
       "        vertical-align: top;\n",
       "    }\n",
       "\n",
       "    .dataframe thead th {\n",
       "        text-align: right;\n",
       "    }\n",
       "</style>\n",
       "<table border=\"1\" class=\"dataframe\">\n",
       "  <thead>\n",
       "    <tr style=\"text-align: right;\">\n",
       "      <th></th>\n",
       "      <th>name</th>\n",
       "      <th>price</th>\n",
       "      <th>psf</th>\n",
       "      <th>district</th>\n",
       "      <th>state</th>\n",
       "      <th>description</th>\n",
       "      <th>bedroom</th>\n",
       "      <th>bathroom</th>\n",
       "      <th>carpark</th>\n",
       "    </tr>\n",
       "  </thead>\n",
       "  <tbody>\n",
       "    <tr>\n",
       "      <th>0</th>\n",
       "      <td>The Park Sky Residence, Bukit Jalil</td>\n",
       "      <td>RM1,150,000</td>\n",
       "      <td>(RM 1042.61 per sq. ft.)</td>\n",
       "      <td>Bukit Jalil</td>\n",
       "      <td>Kuala Lumpur</td>\n",
       "      <td>Serviced Residence | Corner lot  •  Built-up :...</td>\n",
       "      <td>3</td>\n",
       "      <td>2.0</td>\n",
       "      <td>2.0</td>\n",
       "    </tr>\n",
       "    <tr>\n",
       "      <th>1</th>\n",
       "      <td>Bukit Damansara, Damansara Heights</td>\n",
       "      <td>RM1,650,000</td>\n",
       "      <td>(RM 717.39 per sq. ft.)</td>\n",
       "      <td>Damansara Heights</td>\n",
       "      <td>Kuala Lumpur</td>\n",
       "      <td>2-sty Terrace/Link House | Intermediate  •  Bu...</td>\n",
       "      <td>4</td>\n",
       "      <td>3.0</td>\n",
       "      <td>2.0</td>\n",
       "    </tr>\n",
       "    <tr>\n",
       "      <th>2</th>\n",
       "      <td>The Binjai on the Park, KL City Centre, KLCC</td>\n",
       "      <td>RM6,888,888</td>\n",
       "      <td>(RM 2140.74 per sq. ft.)</td>\n",
       "      <td>KLCC</td>\n",
       "      <td>Kuala Lumpur</td>\n",
       "      <td>Condominium | Corner lot  •  Built-up : 3,218 ...</td>\n",
       "      <td>3+1</td>\n",
       "      <td>4.0</td>\n",
       "      <td>3.0</td>\n",
       "    </tr>\n",
       "    <tr>\n",
       "      <th>3</th>\n",
       "      <td>AMELIA, DESA PARKCITY, Desa ParkCity</td>\n",
       "      <td>RM2,700,000</td>\n",
       "      <td>(RM 1026.62 per sq. ft.)</td>\n",
       "      <td>Desa ParkCity</td>\n",
       "      <td>Kuala Lumpur</td>\n",
       "      <td>2-sty Terrace/Link House  •  Built-up : 2,630 ...</td>\n",
       "      <td>3+1</td>\n",
       "      <td>4.0</td>\n",
       "      <td>2.0</td>\n",
       "    </tr>\n",
       "    <tr>\n",
       "      <th>4</th>\n",
       "      <td>AMELIA, DESA PARKCITY, Desa ParkCity</td>\n",
       "      <td>RM2,800,000</td>\n",
       "      <td>(RM 1076.92 per sq. ft.)</td>\n",
       "      <td>Desa ParkCity</td>\n",
       "      <td>Kuala Lumpur</td>\n",
       "      <td>2-sty Terrace/Link House  •  Built-up : 2,600 ...</td>\n",
       "      <td>3+1</td>\n",
       "      <td>4.0</td>\n",
       "      <td>2.0</td>\n",
       "    </tr>\n",
       "  </tbody>\n",
       "</table>\n",
       "</div>"
      ],
      "text/plain": [
       "                                           name        price  \\\n",
       "0           The Park Sky Residence, Bukit Jalil  RM1,150,000   \n",
       "1            Bukit Damansara, Damansara Heights  RM1,650,000   \n",
       "2  The Binjai on the Park, KL City Centre, KLCC  RM6,888,888   \n",
       "3          AMELIA, DESA PARKCITY, Desa ParkCity  RM2,700,000   \n",
       "4          AMELIA, DESA PARKCITY, Desa ParkCity  RM2,800,000   \n",
       "\n",
       "                        psf           district         state  \\\n",
       "0  (RM 1042.61 per sq. ft.)        Bukit Jalil  Kuala Lumpur   \n",
       "1   (RM 717.39 per sq. ft.)  Damansara Heights  Kuala Lumpur   \n",
       "2  (RM 2140.74 per sq. ft.)               KLCC  Kuala Lumpur   \n",
       "3  (RM 1026.62 per sq. ft.)      Desa ParkCity  Kuala Lumpur   \n",
       "4  (RM 1076.92 per sq. ft.)      Desa ParkCity  Kuala Lumpur   \n",
       "\n",
       "                                         description bedroom  bathroom  \\\n",
       "0  Serviced Residence | Corner lot  •  Built-up :...       3       2.0   \n",
       "1  2-sty Terrace/Link House | Intermediate  •  Bu...       4       3.0   \n",
       "2  Condominium | Corner lot  •  Built-up : 3,218 ...     3+1       4.0   \n",
       "3  2-sty Terrace/Link House  •  Built-up : 2,630 ...     3+1       4.0   \n",
       "4  2-sty Terrace/Link House  •  Built-up : 2,600 ...     3+1       4.0   \n",
       "\n",
       "   carpark  \n",
       "0      2.0  \n",
       "1      2.0  \n",
       "2      3.0  \n",
       "3      2.0  \n",
       "4      2.0  "
      ]
     },
     "execution_count": 17,
     "metadata": {},
     "output_type": "execute_result"
    }
   ],
   "source": [
    "if \"district\" not in df_cleaned.columns: \n",
    "    df_cleaned.insert(4, \"district\", None)\n",
    "if \"state\" not in df_cleaned.columns: \n",
    "    df_cleaned.insert(5, \"state\", None)\n",
    "\n",
    "if \"address\" in df_cleaned.columns:\n",
    "    for x in df_cleaned.index:\n",
    "        addr = df_cleaned.loc[x,'address'].split(',')\n",
    "        df_cleaned.loc[x,'district'] = addr[0].strip()\n",
    "        df_cleaned.loc[x,'state'] = addr[1].strip()\n",
    "        \n",
    "    df_cleaned.drop(['address'], axis=1, inplace=True)\n",
    "\n",
    "print(\"\\033[1m\", 'After :', \"\\033[0m\", df_cleaned.shape)\n",
    "df_cleaned.head()"
   ]
  },
  {
   "cell_type": "markdown",
   "id": "beea00bb",
   "metadata": {},
   "source": [
    "### #2.4 Dealing with 'description' column"
   ]
  },
  {
   "cell_type": "code",
   "execution_count": 18,
   "id": "a7f86574",
   "metadata": {},
   "outputs": [
    {
     "name": "stdout",
     "output_type": "stream",
     "text": [
      "\u001b[1m Before : \u001b[0m (13222, 9)\n"
     ]
    },
    {
     "data": {
      "text/html": [
       "<div>\n",
       "<style scoped>\n",
       "    .dataframe tbody tr th:only-of-type {\n",
       "        vertical-align: middle;\n",
       "    }\n",
       "\n",
       "    .dataframe tbody tr th {\n",
       "        vertical-align: top;\n",
       "    }\n",
       "\n",
       "    .dataframe thead th {\n",
       "        text-align: right;\n",
       "    }\n",
       "</style>\n",
       "<table border=\"1\" class=\"dataframe\">\n",
       "  <thead>\n",
       "    <tr style=\"text-align: right;\">\n",
       "      <th></th>\n",
       "      <th>name</th>\n",
       "      <th>price</th>\n",
       "      <th>psf</th>\n",
       "      <th>district</th>\n",
       "      <th>state</th>\n",
       "      <th>description</th>\n",
       "      <th>bedroom</th>\n",
       "      <th>bathroom</th>\n",
       "      <th>carpark</th>\n",
       "    </tr>\n",
       "  </thead>\n",
       "  <tbody>\n",
       "    <tr>\n",
       "      <th>0</th>\n",
       "      <td>The Park Sky Residence, Bukit Jalil</td>\n",
       "      <td>RM1,150,000</td>\n",
       "      <td>(RM 1042.61 per sq. ft.)</td>\n",
       "      <td>Bukit Jalil</td>\n",
       "      <td>Kuala Lumpur</td>\n",
       "      <td>Serviced Residence | Corner lot  •  Built-up :...</td>\n",
       "      <td>3</td>\n",
       "      <td>2.0</td>\n",
       "      <td>2.0</td>\n",
       "    </tr>\n",
       "    <tr>\n",
       "      <th>1</th>\n",
       "      <td>Bukit Damansara, Damansara Heights</td>\n",
       "      <td>RM1,650,000</td>\n",
       "      <td>(RM 717.39 per sq. ft.)</td>\n",
       "      <td>Damansara Heights</td>\n",
       "      <td>Kuala Lumpur</td>\n",
       "      <td>2-sty Terrace/Link House | Intermediate  •  Bu...</td>\n",
       "      <td>4</td>\n",
       "      <td>3.0</td>\n",
       "      <td>2.0</td>\n",
       "    </tr>\n",
       "    <tr>\n",
       "      <th>2</th>\n",
       "      <td>The Binjai on the Park, KL City Centre, KLCC</td>\n",
       "      <td>RM6,888,888</td>\n",
       "      <td>(RM 2140.74 per sq. ft.)</td>\n",
       "      <td>KLCC</td>\n",
       "      <td>Kuala Lumpur</td>\n",
       "      <td>Condominium | Corner lot  •  Built-up : 3,218 ...</td>\n",
       "      <td>3+1</td>\n",
       "      <td>4.0</td>\n",
       "      <td>3.0</td>\n",
       "    </tr>\n",
       "    <tr>\n",
       "      <th>3</th>\n",
       "      <td>AMELIA, DESA PARKCITY, Desa ParkCity</td>\n",
       "      <td>RM2,700,000</td>\n",
       "      <td>(RM 1026.62 per sq. ft.)</td>\n",
       "      <td>Desa ParkCity</td>\n",
       "      <td>Kuala Lumpur</td>\n",
       "      <td>2-sty Terrace/Link House  •  Built-up : 2,630 ...</td>\n",
       "      <td>3+1</td>\n",
       "      <td>4.0</td>\n",
       "      <td>2.0</td>\n",
       "    </tr>\n",
       "    <tr>\n",
       "      <th>4</th>\n",
       "      <td>AMELIA, DESA PARKCITY, Desa ParkCity</td>\n",
       "      <td>RM2,800,000</td>\n",
       "      <td>(RM 1076.92 per sq. ft.)</td>\n",
       "      <td>Desa ParkCity</td>\n",
       "      <td>Kuala Lumpur</td>\n",
       "      <td>2-sty Terrace/Link House  •  Built-up : 2,600 ...</td>\n",
       "      <td>3+1</td>\n",
       "      <td>4.0</td>\n",
       "      <td>2.0</td>\n",
       "    </tr>\n",
       "  </tbody>\n",
       "</table>\n",
       "</div>"
      ],
      "text/plain": [
       "                                           name        price  \\\n",
       "0           The Park Sky Residence, Bukit Jalil  RM1,150,000   \n",
       "1            Bukit Damansara, Damansara Heights  RM1,650,000   \n",
       "2  The Binjai on the Park, KL City Centre, KLCC  RM6,888,888   \n",
       "3          AMELIA, DESA PARKCITY, Desa ParkCity  RM2,700,000   \n",
       "4          AMELIA, DESA PARKCITY, Desa ParkCity  RM2,800,000   \n",
       "\n",
       "                        psf           district         state  \\\n",
       "0  (RM 1042.61 per sq. ft.)        Bukit Jalil  Kuala Lumpur   \n",
       "1   (RM 717.39 per sq. ft.)  Damansara Heights  Kuala Lumpur   \n",
       "2  (RM 2140.74 per sq. ft.)               KLCC  Kuala Lumpur   \n",
       "3  (RM 1026.62 per sq. ft.)      Desa ParkCity  Kuala Lumpur   \n",
       "4  (RM 1076.92 per sq. ft.)      Desa ParkCity  Kuala Lumpur   \n",
       "\n",
       "                                         description bedroom  bathroom  \\\n",
       "0  Serviced Residence | Corner lot  •  Built-up :...       3       2.0   \n",
       "1  2-sty Terrace/Link House | Intermediate  •  Bu...       4       3.0   \n",
       "2  Condominium | Corner lot  •  Built-up : 3,218 ...     3+1       4.0   \n",
       "3  2-sty Terrace/Link House  •  Built-up : 2,630 ...     3+1       4.0   \n",
       "4  2-sty Terrace/Link House  •  Built-up : 2,600 ...     3+1       4.0   \n",
       "\n",
       "   carpark  \n",
       "0      2.0  \n",
       "1      2.0  \n",
       "2      3.0  \n",
       "3      2.0  \n",
       "4      2.0  "
      ]
     },
     "execution_count": 18,
     "metadata": {},
     "output_type": "execute_result"
    }
   ],
   "source": [
    "print(\"\\033[1m\", 'Before :', \"\\033[0m\", df_cleaned.shape)\n",
    "df_cleaned.head()"
   ]
  },
  {
   "cell_type": "code",
   "execution_count": 19,
   "id": "028410e8",
   "metadata": {
    "scrolled": false
   },
   "outputs": [
    {
     "name": "stdout",
     "output_type": "stream",
     "text": [
      "\u001b[1m After : \u001b[0m (13222, 11)\n"
     ]
    },
    {
     "data": {
      "text/html": [
       "<div>\n",
       "<style scoped>\n",
       "    .dataframe tbody tr th:only-of-type {\n",
       "        vertical-align: middle;\n",
       "    }\n",
       "\n",
       "    .dataframe tbody tr th {\n",
       "        vertical-align: top;\n",
       "    }\n",
       "\n",
       "    .dataframe thead th {\n",
       "        text-align: right;\n",
       "    }\n",
       "</style>\n",
       "<table border=\"1\" class=\"dataframe\">\n",
       "  <thead>\n",
       "    <tr style=\"text-align: right;\">\n",
       "      <th></th>\n",
       "      <th>name</th>\n",
       "      <th>price</th>\n",
       "      <th>psf</th>\n",
       "      <th>district</th>\n",
       "      <th>state</th>\n",
       "      <th>type</th>\n",
       "      <th>details</th>\n",
       "      <th>area</th>\n",
       "      <th>bedroom</th>\n",
       "      <th>bathroom</th>\n",
       "      <th>carpark</th>\n",
       "    </tr>\n",
       "  </thead>\n",
       "  <tbody>\n",
       "    <tr>\n",
       "      <th>0</th>\n",
       "      <td>The Park Sky Residence, Bukit Jalil</td>\n",
       "      <td>RM1,150,000</td>\n",
       "      <td>(RM 1042.61 per sq. ft.)</td>\n",
       "      <td>Bukit Jalil</td>\n",
       "      <td>Kuala Lumpur</td>\n",
       "      <td>Serviced Residence</td>\n",
       "      <td>Corner lot</td>\n",
       "      <td>Built-up : 1,103 sq. ft.</td>\n",
       "      <td>3</td>\n",
       "      <td>2.0</td>\n",
       "      <td>2.0</td>\n",
       "    </tr>\n",
       "    <tr>\n",
       "      <th>1</th>\n",
       "      <td>Bukit Damansara, Damansara Heights</td>\n",
       "      <td>RM1,650,000</td>\n",
       "      <td>(RM 717.39 per sq. ft.)</td>\n",
       "      <td>Damansara Heights</td>\n",
       "      <td>Kuala Lumpur</td>\n",
       "      <td>2-sty Terrace/Link House</td>\n",
       "      <td>Intermediate</td>\n",
       "      <td>Built-up : 2,300 sq. ft.</td>\n",
       "      <td>4</td>\n",
       "      <td>3.0</td>\n",
       "      <td>2.0</td>\n",
       "    </tr>\n",
       "    <tr>\n",
       "      <th>2</th>\n",
       "      <td>The Binjai on the Park, KL City Centre, KLCC</td>\n",
       "      <td>RM6,888,888</td>\n",
       "      <td>(RM 2140.74 per sq. ft.)</td>\n",
       "      <td>KLCC</td>\n",
       "      <td>Kuala Lumpur</td>\n",
       "      <td>Condominium</td>\n",
       "      <td>Corner lot</td>\n",
       "      <td>Built-up : 3,218 sq. ft.</td>\n",
       "      <td>3+1</td>\n",
       "      <td>4.0</td>\n",
       "      <td>3.0</td>\n",
       "    </tr>\n",
       "    <tr>\n",
       "      <th>3</th>\n",
       "      <td>AMELIA, DESA PARKCITY, Desa ParkCity</td>\n",
       "      <td>RM2,700,000</td>\n",
       "      <td>(RM 1026.62 per sq. ft.)</td>\n",
       "      <td>Desa ParkCity</td>\n",
       "      <td>Kuala Lumpur</td>\n",
       "      <td>2-sty Terrace/Link House</td>\n",
       "      <td>None</td>\n",
       "      <td>Built-up : 2,630 sq. ft.</td>\n",
       "      <td>3+1</td>\n",
       "      <td>4.0</td>\n",
       "      <td>2.0</td>\n",
       "    </tr>\n",
       "    <tr>\n",
       "      <th>4</th>\n",
       "      <td>AMELIA, DESA PARKCITY, Desa ParkCity</td>\n",
       "      <td>RM2,800,000</td>\n",
       "      <td>(RM 1076.92 per sq. ft.)</td>\n",
       "      <td>Desa ParkCity</td>\n",
       "      <td>Kuala Lumpur</td>\n",
       "      <td>2-sty Terrace/Link House</td>\n",
       "      <td>None</td>\n",
       "      <td>Built-up : 2,600 sq. ft.</td>\n",
       "      <td>3+1</td>\n",
       "      <td>4.0</td>\n",
       "      <td>2.0</td>\n",
       "    </tr>\n",
       "  </tbody>\n",
       "</table>\n",
       "</div>"
      ],
      "text/plain": [
       "                                           name        price  \\\n",
       "0           The Park Sky Residence, Bukit Jalil  RM1,150,000   \n",
       "1            Bukit Damansara, Damansara Heights  RM1,650,000   \n",
       "2  The Binjai on the Park, KL City Centre, KLCC  RM6,888,888   \n",
       "3          AMELIA, DESA PARKCITY, Desa ParkCity  RM2,700,000   \n",
       "4          AMELIA, DESA PARKCITY, Desa ParkCity  RM2,800,000   \n",
       "\n",
       "                        psf           district         state  \\\n",
       "0  (RM 1042.61 per sq. ft.)        Bukit Jalil  Kuala Lumpur   \n",
       "1   (RM 717.39 per sq. ft.)  Damansara Heights  Kuala Lumpur   \n",
       "2  (RM 2140.74 per sq. ft.)               KLCC  Kuala Lumpur   \n",
       "3  (RM 1026.62 per sq. ft.)      Desa ParkCity  Kuala Lumpur   \n",
       "4  (RM 1076.92 per sq. ft.)      Desa ParkCity  Kuala Lumpur   \n",
       "\n",
       "                       type       details                      area bedroom  \\\n",
       "0        Serviced Residence    Corner lot  Built-up : 1,103 sq. ft.       3   \n",
       "1  2-sty Terrace/Link House  Intermediate  Built-up : 2,300 sq. ft.       4   \n",
       "2               Condominium    Corner lot  Built-up : 3,218 sq. ft.     3+1   \n",
       "3  2-sty Terrace/Link House          None  Built-up : 2,630 sq. ft.     3+1   \n",
       "4  2-sty Terrace/Link House          None  Built-up : 2,600 sq. ft.     3+1   \n",
       "\n",
       "   bathroom  carpark  \n",
       "0       2.0      2.0  \n",
       "1       3.0      2.0  \n",
       "2       4.0      3.0  \n",
       "3       4.0      2.0  \n",
       "4       4.0      2.0  "
      ]
     },
     "execution_count": 19,
     "metadata": {},
     "output_type": "execute_result"
    }
   ],
   "source": [
    "if \"type\" not in df_cleaned.columns: \n",
    "    df_cleaned.insert(5, \"type\", None)\n",
    "if \"details\" not in df_cleaned.columns: \n",
    "    df_cleaned.insert(6, \"details\", None)\n",
    "if \"area\" not in df_cleaned.columns: \n",
    "    df_cleaned.insert(7, \"area\", None)\n",
    "\n",
    "if \"description\" in df_cleaned.columns:\n",
    "    for x in df_cleaned.index:\n",
    "        desc = df_cleaned.loc[x,'description'].split('\\xa0•\\xa0')\n",
    "        df_cleaned.loc[x,'area'] = desc[1].strip()\n",
    "        \n",
    "        h_type = desc[0].strip().split(' | ')\n",
    "        if len(h_type) >= 1:\n",
    "            df_cleaned.loc[x,'type'] = h_type[0].strip()\n",
    "        if len(h_type) >= 2:\n",
    "            df_cleaned.loc[x,'details'] = h_type[1].strip()\n",
    "        \n",
    "    df_cleaned.drop(['description'], axis=1, inplace=True)\n",
    "\n",
    "print(\"\\033[1m\", 'After :', \"\\033[0m\", df_cleaned.shape)\n",
    "df_cleaned.head()"
   ]
  },
  {
   "cell_type": "markdown",
   "id": "c8b52b81",
   "metadata": {},
   "source": [
    "### #2.5 Dealing with 'Studio' cells"
   ]
  },
  {
   "cell_type": "code",
   "execution_count": 20,
   "id": "fe3947ce",
   "metadata": {},
   "outputs": [
    {
     "name": "stdout",
     "output_type": "stream",
     "text": [
      "\u001b[1m Before : \u001b[0m\n"
     ]
    },
    {
     "data": {
      "text/html": [
       "<div>\n",
       "<style scoped>\n",
       "    .dataframe tbody tr th:only-of-type {\n",
       "        vertical-align: middle;\n",
       "    }\n",
       "\n",
       "    .dataframe tbody tr th {\n",
       "        vertical-align: top;\n",
       "    }\n",
       "\n",
       "    .dataframe thead th {\n",
       "        text-align: right;\n",
       "    }\n",
       "</style>\n",
       "<table border=\"1\" class=\"dataframe\">\n",
       "  <thead>\n",
       "    <tr style=\"text-align: right;\">\n",
       "      <th></th>\n",
       "      <th>name</th>\n",
       "      <th>price</th>\n",
       "      <th>psf</th>\n",
       "      <th>district</th>\n",
       "      <th>state</th>\n",
       "      <th>type</th>\n",
       "      <th>details</th>\n",
       "      <th>area</th>\n",
       "      <th>bedroom</th>\n",
       "      <th>bathroom</th>\n",
       "      <th>carpark</th>\n",
       "    </tr>\n",
       "  </thead>\n",
       "  <tbody>\n",
       "    <tr>\n",
       "      <th>598</th>\n",
       "      <td>Arte Mont Kiara, Mont Kiara</td>\n",
       "      <td>RM380,000</td>\n",
       "      <td>(RM 859.73 per sq. ft.)</td>\n",
       "      <td>Mont Kiara</td>\n",
       "      <td>Kuala Lumpur</td>\n",
       "      <td>Serviced Residence</td>\n",
       "      <td>Intermediate</td>\n",
       "      <td>Built-up : 442 sq. ft.</td>\n",
       "      <td>Studio</td>\n",
       "      <td>1.0</td>\n",
       "      <td>1.0</td>\n",
       "    </tr>\n",
       "    <tr>\n",
       "      <th>699</th>\n",
       "      <td>Verve Suites, Mont Kiara</td>\n",
       "      <td>RM500,000</td>\n",
       "      <td>(RM 1082.25 per sq. ft.)</td>\n",
       "      <td>Mont Kiara</td>\n",
       "      <td>Kuala Lumpur</td>\n",
       "      <td>Serviced Residence</td>\n",
       "      <td>None</td>\n",
       "      <td>Built-up : 462 sq. ft.</td>\n",
       "      <td>Studio</td>\n",
       "      <td>1.0</td>\n",
       "      <td>1.0</td>\n",
       "    </tr>\n",
       "    <tr>\n",
       "      <th>849</th>\n",
       "      <td>Arcoris Soho, Mont Kiara</td>\n",
       "      <td>RM570,000</td>\n",
       "      <td>(RM 1149.19 per sq. ft.)</td>\n",
       "      <td>Mont Kiara</td>\n",
       "      <td>Kuala Lumpur</td>\n",
       "      <td>Serviced Residence</td>\n",
       "      <td>None</td>\n",
       "      <td>Built-up : 496 sq. ft.</td>\n",
       "      <td>Studio</td>\n",
       "      <td>1.0</td>\n",
       "      <td>1.0</td>\n",
       "    </tr>\n",
       "    <tr>\n",
       "      <th>956</th>\n",
       "      <td>So Sofitel @ Oxley Towers, KLCC</td>\n",
       "      <td>RM1,332,000</td>\n",
       "      <td>(RM 2304.5 per sq. ft.)</td>\n",
       "      <td>KLCC</td>\n",
       "      <td>Kuala Lumpur</td>\n",
       "      <td>Serviced Residence</td>\n",
       "      <td>None</td>\n",
       "      <td>Built-up : 578 sq. ft.</td>\n",
       "      <td>Studio</td>\n",
       "      <td>1.0</td>\n",
       "      <td>1.0</td>\n",
       "    </tr>\n",
       "    <tr>\n",
       "      <th>1004</th>\n",
       "      <td>Lucentia Residences, Bukit Bintang</td>\n",
       "      <td>RM700,000</td>\n",
       "      <td>(RM 1541.85 per sq. ft.)</td>\n",
       "      <td>Bukit Bintang</td>\n",
       "      <td>Kuala Lumpur</td>\n",
       "      <td>Serviced Residence</td>\n",
       "      <td>Intermediate</td>\n",
       "      <td>Built-up : 454 sq. ft.</td>\n",
       "      <td>Studio</td>\n",
       "      <td>1.0</td>\n",
       "      <td>1.0</td>\n",
       "    </tr>\n",
       "    <tr>\n",
       "      <th>...</th>\n",
       "      <td>...</td>\n",
       "      <td>...</td>\n",
       "      <td>...</td>\n",
       "      <td>...</td>\n",
       "      <td>...</td>\n",
       "      <td>...</td>\n",
       "      <td>...</td>\n",
       "      <td>...</td>\n",
       "      <td>...</td>\n",
       "      <td>...</td>\n",
       "      <td>...</td>\n",
       "    </tr>\n",
       "    <tr>\n",
       "      <th>12609</th>\n",
       "      <td>Riverine Diamond, Kuching</td>\n",
       "      <td>RM 388,783</td>\n",
       "      <td>(RM 722.64 per sq. ft.)</td>\n",
       "      <td>Kuching</td>\n",
       "      <td>Sarawak</td>\n",
       "      <td>Condominium</td>\n",
       "      <td>None</td>\n",
       "      <td>Built-up : 538 sq. ft.</td>\n",
       "      <td>Studio</td>\n",
       "      <td>1.0</td>\n",
       "      <td>1.0</td>\n",
       "    </tr>\n",
       "    <tr>\n",
       "      <th>12928</th>\n",
       "      <td>Troika Residences, Kota Bharu</td>\n",
       "      <td>RM 398,000</td>\n",
       "      <td>(RM 786.56 per sq. ft.)</td>\n",
       "      <td>Kota Bharu</td>\n",
       "      <td>Kelantan</td>\n",
       "      <td>Serviced Residence</td>\n",
       "      <td>None</td>\n",
       "      <td>Built-up : 506 sq. ft.</td>\n",
       "      <td>Studio</td>\n",
       "      <td>1.0</td>\n",
       "      <td>1.0</td>\n",
       "    </tr>\n",
       "    <tr>\n",
       "      <th>12947</th>\n",
       "      <td>Anjung Vista, Kenali</td>\n",
       "      <td>RM 210,000</td>\n",
       "      <td>(RM 420 per sq. ft.)</td>\n",
       "      <td>Kenali</td>\n",
       "      <td>Kelantan</td>\n",
       "      <td>Condominium</td>\n",
       "      <td>Studio</td>\n",
       "      <td>Built-up : 500 sq. ft.</td>\n",
       "      <td>Studio</td>\n",
       "      <td>1.0</td>\n",
       "      <td>0.0</td>\n",
       "    </tr>\n",
       "    <tr>\n",
       "      <th>13043</th>\n",
       "      <td>Kota Bharu City Point, Bandar Kota Bharu, Kota...</td>\n",
       "      <td>RM 220,000</td>\n",
       "      <td>(RM 469.08 per sq. ft.)</td>\n",
       "      <td>Kota Bharu</td>\n",
       "      <td>Kelantan</td>\n",
       "      <td>Apartment</td>\n",
       "      <td>None</td>\n",
       "      <td>Built-up : 469 sq. ft.</td>\n",
       "      <td>Studio</td>\n",
       "      <td>1.0</td>\n",
       "      <td>1.0</td>\n",
       "    </tr>\n",
       "    <tr>\n",
       "      <th>13094</th>\n",
       "      <td>Kota Bharu City Point, Bandar Kota Bharu, Kota...</td>\n",
       "      <td>RM 225,000</td>\n",
       "      <td>(RM 540.87 per sq. ft.)</td>\n",
       "      <td>Kota Bharu</td>\n",
       "      <td>Kelantan</td>\n",
       "      <td>Apartment</td>\n",
       "      <td>None</td>\n",
       "      <td>Built-up : 416 sq. ft.</td>\n",
       "      <td>Studio</td>\n",
       "      <td>1.0</td>\n",
       "      <td>1.0</td>\n",
       "    </tr>\n",
       "  </tbody>\n",
       "</table>\n",
       "<p>103 rows × 11 columns</p>\n",
       "</div>"
      ],
      "text/plain": [
       "                                                    name        price  \\\n",
       "598                          Arte Mont Kiara, Mont Kiara    RM380,000   \n",
       "699                             Verve Suites, Mont Kiara    RM500,000   \n",
       "849                             Arcoris Soho, Mont Kiara    RM570,000   \n",
       "956                      So Sofitel @ Oxley Towers, KLCC  RM1,332,000   \n",
       "1004                  Lucentia Residences, Bukit Bintang    RM700,000   \n",
       "...                                                  ...          ...   \n",
       "12609                          Riverine Diamond, Kuching   RM 388,783   \n",
       "12928                      Troika Residences, Kota Bharu   RM 398,000   \n",
       "12947                               Anjung Vista, Kenali   RM 210,000   \n",
       "13043  Kota Bharu City Point, Bandar Kota Bharu, Kota...   RM 220,000   \n",
       "13094  Kota Bharu City Point, Bandar Kota Bharu, Kota...   RM 225,000   \n",
       "\n",
       "                            psf       district         state  \\\n",
       "598     (RM 859.73 per sq. ft.)     Mont Kiara  Kuala Lumpur   \n",
       "699    (RM 1082.25 per sq. ft.)     Mont Kiara  Kuala Lumpur   \n",
       "849    (RM 1149.19 per sq. ft.)     Mont Kiara  Kuala Lumpur   \n",
       "956     (RM 2304.5 per sq. ft.)           KLCC  Kuala Lumpur   \n",
       "1004   (RM 1541.85 per sq. ft.)  Bukit Bintang  Kuala Lumpur   \n",
       "...                         ...            ...           ...   \n",
       "12609   (RM 722.64 per sq. ft.)        Kuching       Sarawak   \n",
       "12928   (RM 786.56 per sq. ft.)     Kota Bharu      Kelantan   \n",
       "12947      (RM 420 per sq. ft.)         Kenali      Kelantan   \n",
       "13043   (RM 469.08 per sq. ft.)     Kota Bharu      Kelantan   \n",
       "13094   (RM 540.87 per sq. ft.)     Kota Bharu      Kelantan   \n",
       "\n",
       "                     type       details                    area bedroom  \\\n",
       "598    Serviced Residence  Intermediate  Built-up : 442 sq. ft.  Studio   \n",
       "699    Serviced Residence          None  Built-up : 462 sq. ft.  Studio   \n",
       "849    Serviced Residence          None  Built-up : 496 sq. ft.  Studio   \n",
       "956    Serviced Residence          None  Built-up : 578 sq. ft.  Studio   \n",
       "1004   Serviced Residence  Intermediate  Built-up : 454 sq. ft.  Studio   \n",
       "...                   ...           ...                     ...     ...   \n",
       "12609         Condominium          None  Built-up : 538 sq. ft.  Studio   \n",
       "12928  Serviced Residence          None  Built-up : 506 sq. ft.  Studio   \n",
       "12947         Condominium        Studio  Built-up : 500 sq. ft.  Studio   \n",
       "13043           Apartment          None  Built-up : 469 sq. ft.  Studio   \n",
       "13094           Apartment          None  Built-up : 416 sq. ft.  Studio   \n",
       "\n",
       "       bathroom  carpark  \n",
       "598         1.0      1.0  \n",
       "699         1.0      1.0  \n",
       "849         1.0      1.0  \n",
       "956         1.0      1.0  \n",
       "1004        1.0      1.0  \n",
       "...         ...      ...  \n",
       "12609       1.0      1.0  \n",
       "12928       1.0      1.0  \n",
       "12947       1.0      0.0  \n",
       "13043       1.0      1.0  \n",
       "13094       1.0      1.0  \n",
       "\n",
       "[103 rows x 11 columns]"
      ]
     },
     "execution_count": 20,
     "metadata": {},
     "output_type": "execute_result"
    }
   ],
   "source": [
    "print(\"\\033[1m\", 'Before :', \"\\033[0m\")\n",
    "df_cleaned[(df_cleaned['bedroom'] == 'Studio') | (df_cleaned['details'] == 'Studio')][:]"
   ]
  },
  {
   "cell_type": "code",
   "execution_count": 21,
   "id": "9c619fa3",
   "metadata": {},
   "outputs": [
    {
     "name": "stdout",
     "output_type": "stream",
     "text": [
      "\u001b[1m After : \u001b[0m\n"
     ]
    },
    {
     "data": {
      "text/html": [
       "<div>\n",
       "<style scoped>\n",
       "    .dataframe tbody tr th:only-of-type {\n",
       "        vertical-align: middle;\n",
       "    }\n",
       "\n",
       "    .dataframe tbody tr th {\n",
       "        vertical-align: top;\n",
       "    }\n",
       "\n",
       "    .dataframe thead th {\n",
       "        text-align: right;\n",
       "    }\n",
       "</style>\n",
       "<table border=\"1\" class=\"dataframe\">\n",
       "  <thead>\n",
       "    <tr style=\"text-align: right;\">\n",
       "      <th></th>\n",
       "      <th>name</th>\n",
       "      <th>price</th>\n",
       "      <th>psf</th>\n",
       "      <th>district</th>\n",
       "      <th>state</th>\n",
       "      <th>type</th>\n",
       "      <th>details</th>\n",
       "      <th>area</th>\n",
       "      <th>bedroom</th>\n",
       "      <th>bathroom</th>\n",
       "      <th>carpark</th>\n",
       "    </tr>\n",
       "  </thead>\n",
       "  <tbody>\n",
       "    <tr>\n",
       "      <th>598</th>\n",
       "      <td>Arte Mont Kiara, Mont Kiara</td>\n",
       "      <td>RM380,000</td>\n",
       "      <td>(RM 859.73 per sq. ft.)</td>\n",
       "      <td>Mont Kiara</td>\n",
       "      <td>Kuala Lumpur</td>\n",
       "      <td>Serviced Residence</td>\n",
       "      <td>Studio</td>\n",
       "      <td>Built-up : 442 sq. ft.</td>\n",
       "      <td>1</td>\n",
       "      <td>1.0</td>\n",
       "      <td>1.0</td>\n",
       "    </tr>\n",
       "    <tr>\n",
       "      <th>699</th>\n",
       "      <td>Verve Suites, Mont Kiara</td>\n",
       "      <td>RM500,000</td>\n",
       "      <td>(RM 1082.25 per sq. ft.)</td>\n",
       "      <td>Mont Kiara</td>\n",
       "      <td>Kuala Lumpur</td>\n",
       "      <td>Serviced Residence</td>\n",
       "      <td>Studio</td>\n",
       "      <td>Built-up : 462 sq. ft.</td>\n",
       "      <td>1</td>\n",
       "      <td>1.0</td>\n",
       "      <td>1.0</td>\n",
       "    </tr>\n",
       "    <tr>\n",
       "      <th>849</th>\n",
       "      <td>Arcoris Soho, Mont Kiara</td>\n",
       "      <td>RM570,000</td>\n",
       "      <td>(RM 1149.19 per sq. ft.)</td>\n",
       "      <td>Mont Kiara</td>\n",
       "      <td>Kuala Lumpur</td>\n",
       "      <td>Serviced Residence</td>\n",
       "      <td>Studio</td>\n",
       "      <td>Built-up : 496 sq. ft.</td>\n",
       "      <td>1</td>\n",
       "      <td>1.0</td>\n",
       "      <td>1.0</td>\n",
       "    </tr>\n",
       "    <tr>\n",
       "      <th>956</th>\n",
       "      <td>So Sofitel @ Oxley Towers, KLCC</td>\n",
       "      <td>RM1,332,000</td>\n",
       "      <td>(RM 2304.5 per sq. ft.)</td>\n",
       "      <td>KLCC</td>\n",
       "      <td>Kuala Lumpur</td>\n",
       "      <td>Serviced Residence</td>\n",
       "      <td>Studio</td>\n",
       "      <td>Built-up : 578 sq. ft.</td>\n",
       "      <td>1</td>\n",
       "      <td>1.0</td>\n",
       "      <td>1.0</td>\n",
       "    </tr>\n",
       "    <tr>\n",
       "      <th>1004</th>\n",
       "      <td>Lucentia Residences, Bukit Bintang</td>\n",
       "      <td>RM700,000</td>\n",
       "      <td>(RM 1541.85 per sq. ft.)</td>\n",
       "      <td>Bukit Bintang</td>\n",
       "      <td>Kuala Lumpur</td>\n",
       "      <td>Serviced Residence</td>\n",
       "      <td>Studio</td>\n",
       "      <td>Built-up : 454 sq. ft.</td>\n",
       "      <td>1</td>\n",
       "      <td>1.0</td>\n",
       "      <td>1.0</td>\n",
       "    </tr>\n",
       "    <tr>\n",
       "      <th>...</th>\n",
       "      <td>...</td>\n",
       "      <td>...</td>\n",
       "      <td>...</td>\n",
       "      <td>...</td>\n",
       "      <td>...</td>\n",
       "      <td>...</td>\n",
       "      <td>...</td>\n",
       "      <td>...</td>\n",
       "      <td>...</td>\n",
       "      <td>...</td>\n",
       "      <td>...</td>\n",
       "    </tr>\n",
       "    <tr>\n",
       "      <th>12609</th>\n",
       "      <td>Riverine Diamond, Kuching</td>\n",
       "      <td>RM 388,783</td>\n",
       "      <td>(RM 722.64 per sq. ft.)</td>\n",
       "      <td>Kuching</td>\n",
       "      <td>Sarawak</td>\n",
       "      <td>Condominium</td>\n",
       "      <td>Studio</td>\n",
       "      <td>Built-up : 538 sq. ft.</td>\n",
       "      <td>1</td>\n",
       "      <td>1.0</td>\n",
       "      <td>1.0</td>\n",
       "    </tr>\n",
       "    <tr>\n",
       "      <th>12928</th>\n",
       "      <td>Troika Residences, Kota Bharu</td>\n",
       "      <td>RM 398,000</td>\n",
       "      <td>(RM 786.56 per sq. ft.)</td>\n",
       "      <td>Kota Bharu</td>\n",
       "      <td>Kelantan</td>\n",
       "      <td>Serviced Residence</td>\n",
       "      <td>Studio</td>\n",
       "      <td>Built-up : 506 sq. ft.</td>\n",
       "      <td>1</td>\n",
       "      <td>1.0</td>\n",
       "      <td>1.0</td>\n",
       "    </tr>\n",
       "    <tr>\n",
       "      <th>12947</th>\n",
       "      <td>Anjung Vista, Kenali</td>\n",
       "      <td>RM 210,000</td>\n",
       "      <td>(RM 420 per sq. ft.)</td>\n",
       "      <td>Kenali</td>\n",
       "      <td>Kelantan</td>\n",
       "      <td>Condominium</td>\n",
       "      <td>Studio</td>\n",
       "      <td>Built-up : 500 sq. ft.</td>\n",
       "      <td>1</td>\n",
       "      <td>1.0</td>\n",
       "      <td>0.0</td>\n",
       "    </tr>\n",
       "    <tr>\n",
       "      <th>13043</th>\n",
       "      <td>Kota Bharu City Point, Bandar Kota Bharu, Kota...</td>\n",
       "      <td>RM 220,000</td>\n",
       "      <td>(RM 469.08 per sq. ft.)</td>\n",
       "      <td>Kota Bharu</td>\n",
       "      <td>Kelantan</td>\n",
       "      <td>Apartment</td>\n",
       "      <td>Studio</td>\n",
       "      <td>Built-up : 469 sq. ft.</td>\n",
       "      <td>1</td>\n",
       "      <td>1.0</td>\n",
       "      <td>1.0</td>\n",
       "    </tr>\n",
       "    <tr>\n",
       "      <th>13094</th>\n",
       "      <td>Kota Bharu City Point, Bandar Kota Bharu, Kota...</td>\n",
       "      <td>RM 225,000</td>\n",
       "      <td>(RM 540.87 per sq. ft.)</td>\n",
       "      <td>Kota Bharu</td>\n",
       "      <td>Kelantan</td>\n",
       "      <td>Apartment</td>\n",
       "      <td>Studio</td>\n",
       "      <td>Built-up : 416 sq. ft.</td>\n",
       "      <td>1</td>\n",
       "      <td>1.0</td>\n",
       "      <td>1.0</td>\n",
       "    </tr>\n",
       "  </tbody>\n",
       "</table>\n",
       "<p>103 rows × 11 columns</p>\n",
       "</div>"
      ],
      "text/plain": [
       "                                                    name        price  \\\n",
       "598                          Arte Mont Kiara, Mont Kiara    RM380,000   \n",
       "699                             Verve Suites, Mont Kiara    RM500,000   \n",
       "849                             Arcoris Soho, Mont Kiara    RM570,000   \n",
       "956                      So Sofitel @ Oxley Towers, KLCC  RM1,332,000   \n",
       "1004                  Lucentia Residences, Bukit Bintang    RM700,000   \n",
       "...                                                  ...          ...   \n",
       "12609                          Riverine Diamond, Kuching   RM 388,783   \n",
       "12928                      Troika Residences, Kota Bharu   RM 398,000   \n",
       "12947                               Anjung Vista, Kenali   RM 210,000   \n",
       "13043  Kota Bharu City Point, Bandar Kota Bharu, Kota...   RM 220,000   \n",
       "13094  Kota Bharu City Point, Bandar Kota Bharu, Kota...   RM 225,000   \n",
       "\n",
       "                            psf       district         state  \\\n",
       "598     (RM 859.73 per sq. ft.)     Mont Kiara  Kuala Lumpur   \n",
       "699    (RM 1082.25 per sq. ft.)     Mont Kiara  Kuala Lumpur   \n",
       "849    (RM 1149.19 per sq. ft.)     Mont Kiara  Kuala Lumpur   \n",
       "956     (RM 2304.5 per sq. ft.)           KLCC  Kuala Lumpur   \n",
       "1004   (RM 1541.85 per sq. ft.)  Bukit Bintang  Kuala Lumpur   \n",
       "...                         ...            ...           ...   \n",
       "12609   (RM 722.64 per sq. ft.)        Kuching       Sarawak   \n",
       "12928   (RM 786.56 per sq. ft.)     Kota Bharu      Kelantan   \n",
       "12947      (RM 420 per sq. ft.)         Kenali      Kelantan   \n",
       "13043   (RM 469.08 per sq. ft.)     Kota Bharu      Kelantan   \n",
       "13094   (RM 540.87 per sq. ft.)     Kota Bharu      Kelantan   \n",
       "\n",
       "                     type details                    area bedroom  bathroom  \\\n",
       "598    Serviced Residence  Studio  Built-up : 442 sq. ft.       1       1.0   \n",
       "699    Serviced Residence  Studio  Built-up : 462 sq. ft.       1       1.0   \n",
       "849    Serviced Residence  Studio  Built-up : 496 sq. ft.       1       1.0   \n",
       "956    Serviced Residence  Studio  Built-up : 578 sq. ft.       1       1.0   \n",
       "1004   Serviced Residence  Studio  Built-up : 454 sq. ft.       1       1.0   \n",
       "...                   ...     ...                     ...     ...       ...   \n",
       "12609         Condominium  Studio  Built-up : 538 sq. ft.       1       1.0   \n",
       "12928  Serviced Residence  Studio  Built-up : 506 sq. ft.       1       1.0   \n",
       "12947         Condominium  Studio  Built-up : 500 sq. ft.       1       1.0   \n",
       "13043           Apartment  Studio  Built-up : 469 sq. ft.       1       1.0   \n",
       "13094           Apartment  Studio  Built-up : 416 sq. ft.       1       1.0   \n",
       "\n",
       "       carpark  \n",
       "598        1.0  \n",
       "699        1.0  \n",
       "849        1.0  \n",
       "956        1.0  \n",
       "1004       1.0  \n",
       "...        ...  \n",
       "12609      1.0  \n",
       "12928      1.0  \n",
       "12947      0.0  \n",
       "13043      1.0  \n",
       "13094      1.0  \n",
       "\n",
       "[103 rows x 11 columns]"
      ]
     },
     "execution_count": 21,
     "metadata": {},
     "output_type": "execute_result"
    }
   ],
   "source": [
    "for x in df_cleaned.index:\n",
    "    if 'Studio' in df_cleaned.loc[x,'bedroom']:\n",
    "        df_cleaned.loc[x,'details'] = 'Studio'\n",
    "        df_cleaned.loc[x,'bedroom'] = '1'\n",
    "print(\"\\033[1m\", 'After :', \"\\033[0m\")\n",
    "df_cleaned[(df_cleaned['bedroom'] == 'Studio') | (df_cleaned['details'] == 'Studio')][:]"
   ]
  },
  {
   "cell_type": "markdown",
   "id": "ba7aa75d",
   "metadata": {},
   "source": [
    "### #2.6 Dealing with bedroom column"
   ]
  },
  {
   "cell_type": "code",
   "execution_count": 22,
   "id": "cbf80423",
   "metadata": {
    "scrolled": true
   },
   "outputs": [
    {
     "name": "stdout",
     "output_type": "stream",
     "text": [
      "\u001b[1m Before : \u001b[0m\n",
      "bedroom    object\n",
      "dtype: object \n",
      "\n",
      "4        3807\n",
      "3        3745\n",
      "5        1098\n",
      "4+1       969\n",
      "2         750\n",
      "3+1       632\n",
      "6         523\n",
      "5+1       442\n",
      "1         320\n",
      "6+1       191\n",
      "2+1       127\n",
      "7         108\n",
      "4+2        83\n",
      "5+2        68\n",
      "8          59\n",
      "1+1        53\n",
      "7+1        41\n",
      "3+2        39\n",
      "6+2        22\n",
      "7+2        15\n",
      "11         14\n",
      "5+3        11\n",
      "8+1        11\n",
      "9          10\n",
      "6+3         9\n",
      "10          8\n",
      "9+1         8\n",
      "8+2         6\n",
      "3+3         6\n",
      "4+3         5\n",
      "11+2        5\n",
      "13          4\n",
      "7+3         4\n",
      "8+3         3\n",
      "11+1        2\n",
      "10+1        2\n",
      "2+2         2\n",
      "5+4         2\n",
      "7+7         2\n",
      "4+4         1\n",
      "4+17        1\n",
      "18          1\n",
      "14          1\n",
      "15          1\n",
      "9+2         1\n",
      "1+3         1\n",
      "15+10       1\n",
      "8+8         1\n",
      "12          1\n",
      "7+4         1\n",
      "12+4        1\n",
      "8+5         1\n",
      "5+5         1\n",
      "6+4         1\n",
      "7+6         1\n",
      "Name: bedroom, dtype: int64\n"
     ]
    }
   ],
   "source": [
    "print(\"\\033[1m\", 'Before :', \"\\033[0m\")\n",
    "print(df_cleaned[['bedroom']].dtypes, '\\n')\n",
    "print(df_cleaned.bedroom.value_counts())"
   ]
  },
  {
   "cell_type": "code",
   "execution_count": 23,
   "id": "34ec4573",
   "metadata": {
    "scrolled": true
   },
   "outputs": [
    {
     "name": "stdout",
     "output_type": "stream",
     "text": [
      "\u001b[1m After : \u001b[0m\n",
      "bedroom    object\n",
      "dtype: object \n",
      "\n",
      "4     4442\n",
      "3     3872\n",
      "5     2106\n",
      "6     1054\n",
      "2      803\n",
      "7      372\n",
      "1      320\n",
      "8      134\n",
      "9       47\n",
      "10      28\n",
      "11      21\n",
      "13      11\n",
      "14       3\n",
      "12       3\n",
      "16       2\n",
      "25       1\n",
      "21       1\n",
      "15       1\n",
      "18       1\n",
      "Name: bedroom, dtype: int64\n"
     ]
    }
   ],
   "source": [
    "for x in df_cleaned.index:\n",
    "    rooms = df_cleaned.loc[x,'bedroom'].split('+')\n",
    "    if len(rooms) == 1:\n",
    "        df_cleaned.loc[x,'bedroom'] = int(rooms[0])\n",
    "    if len(rooms) == 2:\n",
    "        df_cleaned.loc[x,'bedroom'] = int(rooms[0]) + int(rooms[1])\n",
    "\n",
    "print(\"\\033[1m\", 'After :', \"\\033[0m\")\n",
    "print(df_cleaned[['bedroom']].dtypes, '\\n')\n",
    "print(df_cleaned.bedroom.value_counts())"
   ]
  },
  {
   "cell_type": "markdown",
   "id": "58450aec",
   "metadata": {},
   "source": [
    "### #2.7 Dealing with details column"
   ]
  },
  {
   "cell_type": "code",
   "execution_count": 24,
   "id": "767b2802",
   "metadata": {},
   "outputs": [
    {
     "name": "stdout",
     "output_type": "stream",
     "text": [
      "\u001b[1m Before : \u001b[0m\n",
      "Number of empty cells : 6341 \n",
      "\n",
      "Intermediate    4321\n",
      "Corner lot      1927\n",
      "End lot          398\n",
      "Studio           103\n",
      "Penthouse         54\n",
      "Duplex            46\n",
      "Dual key          23\n",
      "Triplex            5\n",
      "Soho               4\n",
      "Name: details, dtype: int64\n"
     ]
    }
   ],
   "source": [
    "print(\"\\033[1m\", 'Before :', \"\\033[0m\")\n",
    "print('Number of empty cells :', df_cleaned.details.isnull().sum(), '\\n')\n",
    "print(df_cleaned.details.value_counts())"
   ]
  },
  {
   "cell_type": "code",
   "execution_count": 25,
   "id": "38a5b26d",
   "metadata": {
    "scrolled": false
   },
   "outputs": [
    {
     "name": "stdout",
     "output_type": "stream",
     "text": [
      "\u001b[1m After : \u001b[0m\n",
      "Number of empty cells : 0 \n",
      "\n",
      "Default         6341\n",
      "Intermediate    4321\n",
      "Corner lot      1927\n",
      "End lot          398\n",
      "Studio           103\n",
      "Penthouse         54\n",
      "Duplex            46\n",
      "Dual key          23\n",
      "Triplex            5\n",
      "Soho               4\n",
      "Name: details, dtype: int64\n"
     ]
    }
   ],
   "source": [
    "df_cleaned.details.fillna('Default', inplace=True)\n",
    "        \n",
    "print(\"\\033[1m\", 'After :', \"\\033[0m\")\n",
    "print('Number of empty cells :', df_cleaned.details.isnull().sum(), '\\n')\n",
    "print(df_cleaned.details.value_counts())"
   ]
  },
  {
   "cell_type": "markdown",
   "id": "6b5fda91",
   "metadata": {},
   "source": [
    "### #2.8 Extracting numeric value from price, psf and area"
   ]
  },
  {
   "cell_type": "code",
   "execution_count": 26,
   "id": "55f03be5",
   "metadata": {},
   "outputs": [
    {
     "name": "stdout",
     "output_type": "stream",
     "text": [
      "\u001b[1m Before : \u001b[0m\n",
      "<class 'pandas.core.frame.DataFrame'>\n",
      "RangeIndex: 13222 entries, 0 to 13221\n",
      "Data columns (total 3 columns):\n",
      " #   Column  Non-Null Count  Dtype \n",
      "---  ------  --------------  ----- \n",
      " 0   price   13222 non-null  object\n",
      " 1   area    13222 non-null  object\n",
      " 2   psf     13222 non-null  object\n",
      "dtypes: object(3)\n",
      "memory usage: 310.0+ KB\n"
     ]
    }
   ],
   "source": [
    "print(\"\\033[1m\", 'Before :', \"\\033[0m\")\n",
    "df_cleaned[['price','area','psf']].info()"
   ]
  },
  {
   "cell_type": "code",
   "execution_count": 27,
   "id": "a60dd9d7",
   "metadata": {
    "scrolled": true
   },
   "outputs": [
    {
     "name": "stdout",
     "output_type": "stream",
     "text": [
      "\u001b[1m After : \u001b[0m\n"
     ]
    },
    {
     "data": {
      "text/html": [
       "<div>\n",
       "<style scoped>\n",
       "    .dataframe tbody tr th:only-of-type {\n",
       "        vertical-align: middle;\n",
       "    }\n",
       "\n",
       "    .dataframe tbody tr th {\n",
       "        vertical-align: top;\n",
       "    }\n",
       "\n",
       "    .dataframe thead th {\n",
       "        text-align: right;\n",
       "    }\n",
       "</style>\n",
       "<table border=\"1\" class=\"dataframe\">\n",
       "  <thead>\n",
       "    <tr style=\"text-align: right;\">\n",
       "      <th></th>\n",
       "      <th>price</th>\n",
       "      <th>area</th>\n",
       "      <th>psf</th>\n",
       "    </tr>\n",
       "  </thead>\n",
       "  <tbody>\n",
       "    <tr>\n",
       "      <th>0</th>\n",
       "      <td>1150000</td>\n",
       "      <td>1103</td>\n",
       "      <td>1042.61</td>\n",
       "    </tr>\n",
       "    <tr>\n",
       "      <th>1</th>\n",
       "      <td>1650000</td>\n",
       "      <td>2300</td>\n",
       "      <td>717.39</td>\n",
       "    </tr>\n",
       "    <tr>\n",
       "      <th>2</th>\n",
       "      <td>6888888</td>\n",
       "      <td>3218</td>\n",
       "      <td>2140.74</td>\n",
       "    </tr>\n",
       "    <tr>\n",
       "      <th>3</th>\n",
       "      <td>2700000</td>\n",
       "      <td>2630</td>\n",
       "      <td>1026.62</td>\n",
       "    </tr>\n",
       "    <tr>\n",
       "      <th>4</th>\n",
       "      <td>2800000</td>\n",
       "      <td>2600</td>\n",
       "      <td>1076.92</td>\n",
       "    </tr>\n",
       "    <tr>\n",
       "      <th>...</th>\n",
       "      <td>...</td>\n",
       "      <td>...</td>\n",
       "      <td>...</td>\n",
       "    </tr>\n",
       "    <tr>\n",
       "      <th>13217</th>\n",
       "      <td>397000</td>\n",
       "      <td>1440</td>\n",
       "      <td>275.69</td>\n",
       "    </tr>\n",
       "    <tr>\n",
       "      <th>13218</th>\n",
       "      <td>600000</td>\n",
       "      <td>2008</td>\n",
       "      <td>298.8</td>\n",
       "    </tr>\n",
       "    <tr>\n",
       "      <th>13219</th>\n",
       "      <td>175000</td>\n",
       "      <td>1097</td>\n",
       "      <td>159.53</td>\n",
       "    </tr>\n",
       "    <tr>\n",
       "      <th>13220</th>\n",
       "      <td>420000</td>\n",
       "      <td>1900</td>\n",
       "      <td>221.05</td>\n",
       "    </tr>\n",
       "    <tr>\n",
       "      <th>13221</th>\n",
       "      <td>293000</td>\n",
       "      <td>754</td>\n",
       "      <td>388.59</td>\n",
       "    </tr>\n",
       "  </tbody>\n",
       "</table>\n",
       "<p>13222 rows × 3 columns</p>\n",
       "</div>"
      ],
      "text/plain": [
       "         price  area      psf\n",
       "0      1150000  1103  1042.61\n",
       "1      1650000  2300   717.39\n",
       "2      6888888  3218  2140.74\n",
       "3      2700000  2630  1026.62\n",
       "4      2800000  2600  1076.92\n",
       "...        ...   ...      ...\n",
       "13217   397000  1440   275.69\n",
       "13218   600000  2008    298.8\n",
       "13219   175000  1097   159.53\n",
       "13220   420000  1900   221.05\n",
       "13221   293000   754   388.59\n",
       "\n",
       "[13222 rows x 3 columns]"
      ]
     },
     "execution_count": 27,
     "metadata": {},
     "output_type": "execute_result"
    }
   ],
   "source": [
    "for x in df_cleaned.index:\n",
    "    df_cleaned.loc[x,'price'] = re.sub(r'\\,','',df_cleaned.loc[x,'price'])\n",
    "    df_cleaned.loc[x,'price'] = re.findall('\\d+',df_cleaned.loc[x,'price'])[0]\n",
    "    \n",
    "    df_cleaned.loc[x,'psf'] = re.sub(r'\\,','',df_cleaned.loc[x,'psf'])\n",
    "    df_cleaned.loc[x,'psf'] = re.findall('\\d+.?\\d*',df_cleaned.loc[x,'psf'])[0]\n",
    "    \n",
    "    try:\n",
    "        df_cleaned.loc[x,'area'] = re.sub(r'\\,','',df_cleaned.loc[x,'area'])\n",
    "        df_cleaned.loc[x,'area'] = re.findall('\\d+',df_cleaned.loc[x,'area'])[0]\n",
    "    except:\n",
    "        continue\n",
    "    \n",
    "    \n",
    "print(\"\\033[1m\", 'After :', \"\\033[0m\")\n",
    "df_cleaned[['price','area','psf']]"
   ]
  },
  {
   "cell_type": "markdown",
   "id": "a6caae07",
   "metadata": {},
   "source": [
    "### #2.9 Converting data to the correct data type"
   ]
  },
  {
   "cell_type": "code",
   "execution_count": 28,
   "id": "62fb3b4c",
   "metadata": {
    "scrolled": true
   },
   "outputs": [
    {
     "name": "stdout",
     "output_type": "stream",
     "text": [
      "\u001b[1m Before : \u001b[0m\n"
     ]
    },
    {
     "data": {
      "text/plain": [
       "name         object\n",
       "price        object\n",
       "psf          object\n",
       "district     object\n",
       "state        object\n",
       "type         object\n",
       "details      object\n",
       "area         object\n",
       "bedroom      object\n",
       "bathroom    float64\n",
       "carpark     float64\n",
       "dtype: object"
      ]
     },
     "execution_count": 28,
     "metadata": {},
     "output_type": "execute_result"
    }
   ],
   "source": [
    "print(\"\\033[1m\", 'Before :', \"\\033[0m\")\n",
    "df_cleaned.dtypes"
   ]
  },
  {
   "cell_type": "code",
   "execution_count": 29,
   "id": "6b6beaa6",
   "metadata": {},
   "outputs": [],
   "source": [
    "df_cleaned.area.fillna(pd.to_numeric(df_cleaned.area.dropna()).median(), inplace=True)"
   ]
  },
  {
   "cell_type": "code",
   "execution_count": 30,
   "id": "7acc667f",
   "metadata": {
    "scrolled": true
   },
   "outputs": [
    {
     "name": "stdout",
     "output_type": "stream",
     "text": [
      "\u001b[1m After : \u001b[0m\n"
     ]
    },
    {
     "data": {
      "text/plain": [
       "name         object\n",
       "price         int64\n",
       "psf         float64\n",
       "district     object\n",
       "state        object\n",
       "type         object\n",
       "details      object\n",
       "area          int64\n",
       "bedroom       int64\n",
       "bathroom      int64\n",
       "carpark       int64\n",
       "dtype: object"
      ]
     },
     "execution_count": 30,
     "metadata": {},
     "output_type": "execute_result"
    }
   ],
   "source": [
    "df_cleaned = df_cleaned.astype({'price':'int64','area':'int64','psf':'float64','bedroom':'int64','bathroom':'int64','carpark':'int64'})\n",
    "\n",
    "print(\"\\033[1m\", 'After :', \"\\033[0m\")\n",
    "df_cleaned.dtypes"
   ]
  },
  {
   "cell_type": "code",
   "execution_count": 31,
   "id": "1631ae57",
   "metadata": {},
   "outputs": [
    {
     "data": {
      "text/html": [
       "<div>\n",
       "<style scoped>\n",
       "    .dataframe tbody tr th:only-of-type {\n",
       "        vertical-align: middle;\n",
       "    }\n",
       "\n",
       "    .dataframe tbody tr th {\n",
       "        vertical-align: top;\n",
       "    }\n",
       "\n",
       "    .dataframe thead th {\n",
       "        text-align: right;\n",
       "    }\n",
       "</style>\n",
       "<table border=\"1\" class=\"dataframe\">\n",
       "  <thead>\n",
       "    <tr style=\"text-align: right;\">\n",
       "      <th></th>\n",
       "      <th>name</th>\n",
       "      <th>price</th>\n",
       "      <th>psf</th>\n",
       "      <th>district</th>\n",
       "      <th>state</th>\n",
       "      <th>type</th>\n",
       "      <th>details</th>\n",
       "      <th>area</th>\n",
       "      <th>bedroom</th>\n",
       "      <th>bathroom</th>\n",
       "      <th>carpark</th>\n",
       "    </tr>\n",
       "  </thead>\n",
       "  <tbody>\n",
       "    <tr>\n",
       "      <th>0</th>\n",
       "      <td>The Park Sky Residence, Bukit Jalil</td>\n",
       "      <td>1150000</td>\n",
       "      <td>1042.61</td>\n",
       "      <td>Bukit Jalil</td>\n",
       "      <td>Kuala Lumpur</td>\n",
       "      <td>Serviced Residence</td>\n",
       "      <td>Corner lot</td>\n",
       "      <td>1103</td>\n",
       "      <td>3</td>\n",
       "      <td>2</td>\n",
       "      <td>2</td>\n",
       "    </tr>\n",
       "    <tr>\n",
       "      <th>1</th>\n",
       "      <td>Bukit Damansara, Damansara Heights</td>\n",
       "      <td>1650000</td>\n",
       "      <td>717.39</td>\n",
       "      <td>Damansara Heights</td>\n",
       "      <td>Kuala Lumpur</td>\n",
       "      <td>2-sty Terrace/Link House</td>\n",
       "      <td>Intermediate</td>\n",
       "      <td>2300</td>\n",
       "      <td>4</td>\n",
       "      <td>3</td>\n",
       "      <td>2</td>\n",
       "    </tr>\n",
       "    <tr>\n",
       "      <th>2</th>\n",
       "      <td>The Binjai on the Park, KL City Centre, KLCC</td>\n",
       "      <td>6888888</td>\n",
       "      <td>2140.74</td>\n",
       "      <td>KLCC</td>\n",
       "      <td>Kuala Lumpur</td>\n",
       "      <td>Condominium</td>\n",
       "      <td>Corner lot</td>\n",
       "      <td>3218</td>\n",
       "      <td>4</td>\n",
       "      <td>4</td>\n",
       "      <td>3</td>\n",
       "    </tr>\n",
       "    <tr>\n",
       "      <th>3</th>\n",
       "      <td>AMELIA, DESA PARKCITY, Desa ParkCity</td>\n",
       "      <td>2700000</td>\n",
       "      <td>1026.62</td>\n",
       "      <td>Desa ParkCity</td>\n",
       "      <td>Kuala Lumpur</td>\n",
       "      <td>2-sty Terrace/Link House</td>\n",
       "      <td>Default</td>\n",
       "      <td>2630</td>\n",
       "      <td>4</td>\n",
       "      <td>4</td>\n",
       "      <td>2</td>\n",
       "    </tr>\n",
       "    <tr>\n",
       "      <th>4</th>\n",
       "      <td>AMELIA, DESA PARKCITY, Desa ParkCity</td>\n",
       "      <td>2800000</td>\n",
       "      <td>1076.92</td>\n",
       "      <td>Desa ParkCity</td>\n",
       "      <td>Kuala Lumpur</td>\n",
       "      <td>2-sty Terrace/Link House</td>\n",
       "      <td>Default</td>\n",
       "      <td>2600</td>\n",
       "      <td>4</td>\n",
       "      <td>4</td>\n",
       "      <td>2</td>\n",
       "    </tr>\n",
       "  </tbody>\n",
       "</table>\n",
       "</div>"
      ],
      "text/plain": [
       "                                           name    price      psf  \\\n",
       "0           The Park Sky Residence, Bukit Jalil  1150000  1042.61   \n",
       "1            Bukit Damansara, Damansara Heights  1650000   717.39   \n",
       "2  The Binjai on the Park, KL City Centre, KLCC  6888888  2140.74   \n",
       "3          AMELIA, DESA PARKCITY, Desa ParkCity  2700000  1026.62   \n",
       "4          AMELIA, DESA PARKCITY, Desa ParkCity  2800000  1076.92   \n",
       "\n",
       "            district         state                      type       details  \\\n",
       "0        Bukit Jalil  Kuala Lumpur        Serviced Residence    Corner lot   \n",
       "1  Damansara Heights  Kuala Lumpur  2-sty Terrace/Link House  Intermediate   \n",
       "2               KLCC  Kuala Lumpur               Condominium    Corner lot   \n",
       "3      Desa ParkCity  Kuala Lumpur  2-sty Terrace/Link House       Default   \n",
       "4      Desa ParkCity  Kuala Lumpur  2-sty Terrace/Link House       Default   \n",
       "\n",
       "   area  bedroom  bathroom  carpark  \n",
       "0  1103        3         2        2  \n",
       "1  2300        4         3        2  \n",
       "2  3218        4         4        3  \n",
       "3  2630        4         4        2  \n",
       "4  2600        4         4        2  "
      ]
     },
     "execution_count": 31,
     "metadata": {},
     "output_type": "execute_result"
    }
   ],
   "source": [
    "df_cleaned.head()"
   ]
  },
  {
   "cell_type": "code",
   "execution_count": 32,
   "id": "51b3fafa",
   "metadata": {},
   "outputs": [],
   "source": [
    "# df_cleaned.to_csv('./data/iProperty_rent_to_be_trained.csv', index=False)"
   ]
  },
  {
   "cell_type": "markdown",
   "id": "28733441",
   "metadata": {},
   "source": [
    "## #1b Exploratory Data Re-Analysis"
   ]
  },
  {
   "cell_type": "markdown",
   "id": "1b7bca52",
   "metadata": {},
   "source": [
    "### #1b.1 Numeric Data"
   ]
  },
  {
   "cell_type": "code",
   "execution_count": 33,
   "id": "6c176e3e",
   "metadata": {
    "scrolled": true
   },
   "outputs": [
    {
     "data": {
      "image/png": "[encoded data removed]",
      "text/plain": [
       "<Figure size 720x1080 with 6 Axes>"
      ]
     },
     "metadata": {},
     "output_type": "display_data"
    }
   ],
   "source": [
    "df_cleaned.hist(figsize=(10,15), xrot=-45, layout=(2,3))\n",
    "plt.show()"
   ]
  },
  {
   "cell_type": "code",
   "execution_count": 34,
   "id": "5a2340ff",
   "metadata": {
    "scrolled": true
   },
   "outputs": [
    {
     "data": {
      "text/html": [
       "<div>\n",
       "<style scoped>\n",
       "    .dataframe tbody tr th:only-of-type {\n",
       "        vertical-align: middle;\n",
       "    }\n",
       "\n",
       "    .dataframe tbody tr th {\n",
       "        vertical-align: top;\n",
       "    }\n",
       "\n",
       "    .dataframe thead th {\n",
       "        text-align: right;\n",
       "    }\n",
       "</style>\n",
       "<table border=\"1\" class=\"dataframe\">\n",
       "  <thead>\n",
       "    <tr style=\"text-align: right;\">\n",
       "      <th></th>\n",
       "      <th>count</th>\n",
       "      <th>mean</th>\n",
       "      <th>std</th>\n",
       "      <th>min</th>\n",
       "      <th>25%</th>\n",
       "      <th>50%</th>\n",
       "      <th>75%</th>\n",
       "      <th>max</th>\n",
       "    </tr>\n",
       "  </thead>\n",
       "  <tbody>\n",
       "    <tr>\n",
       "      <th>price</th>\n",
       "      <td>13222.0</td>\n",
       "      <td>1.419758e+06</td>\n",
       "      <td>1.666868e+07</td>\n",
       "      <td>12345.00</td>\n",
       "      <td>420000.00</td>\n",
       "      <td>661750.00</td>\n",
       "      <td>1200000.000</td>\n",
       "      <td>1.288000e+09</td>\n",
       "    </tr>\n",
       "    <tr>\n",
       "      <th>psf</th>\n",
       "      <td>13222.0</td>\n",
       "      <td>1.154549e+04</td>\n",
       "      <td>1.215985e+05</td>\n",
       "      <td>0.03</td>\n",
       "      <td>286.51</td>\n",
       "      <td>408.33</td>\n",
       "      <td>587.605</td>\n",
       "      <td>3.000000e+06</td>\n",
       "    </tr>\n",
       "    <tr>\n",
       "      <th>area</th>\n",
       "      <td>13222.0</td>\n",
       "      <td>6.939761e+03</td>\n",
       "      <td>3.524714e+05</td>\n",
       "      <td>1.00</td>\n",
       "      <td>1126.00</td>\n",
       "      <td>1740.00</td>\n",
       "      <td>2760.000</td>\n",
       "      <td>3.702785e+07</td>\n",
       "    </tr>\n",
       "    <tr>\n",
       "      <th>bedroom</th>\n",
       "      <td>13222.0</td>\n",
       "      <td>4.016488e+00</td>\n",
       "      <td>1.447579e+00</td>\n",
       "      <td>1.00</td>\n",
       "      <td>3.00</td>\n",
       "      <td>4.00</td>\n",
       "      <td>5.000</td>\n",
       "      <td>2.500000e+01</td>\n",
       "    </tr>\n",
       "    <tr>\n",
       "      <th>bathroom</th>\n",
       "      <td>13222.0</td>\n",
       "      <td>3.240130e+00</td>\n",
       "      <td>1.528010e+00</td>\n",
       "      <td>1.00</td>\n",
       "      <td>2.00</td>\n",
       "      <td>3.00</td>\n",
       "      <td>4.000</td>\n",
       "      <td>2.000000e+01</td>\n",
       "    </tr>\n",
       "    <tr>\n",
       "      <th>carpark</th>\n",
       "      <td>13222.0</td>\n",
       "      <td>1.660112e+00</td>\n",
       "      <td>1.583482e+00</td>\n",
       "      <td>0.00</td>\n",
       "      <td>0.00</td>\n",
       "      <td>2.00</td>\n",
       "      <td>2.000</td>\n",
       "      <td>2.000000e+01</td>\n",
       "    </tr>\n",
       "  </tbody>\n",
       "</table>\n",
       "</div>"
      ],
      "text/plain": [
       "            count          mean           std       min        25%        50%  \\\n",
       "price     13222.0  1.419758e+06  1.666868e+07  12345.00  420000.00  661750.00   \n",
       "psf       13222.0  1.154549e+04  1.215985e+05      0.03     286.51     408.33   \n",
       "area      13222.0  6.939761e+03  3.524714e+05      1.00    1126.00    1740.00   \n",
       "bedroom   13222.0  4.016488e+00  1.447579e+00      1.00       3.00       4.00   \n",
       "bathroom  13222.0  3.240130e+00  1.528010e+00      1.00       2.00       3.00   \n",
       "carpark   13222.0  1.660112e+00  1.583482e+00      0.00       0.00       2.00   \n",
       "\n",
       "                  75%           max  \n",
       "price     1200000.000  1.288000e+09  \n",
       "psf           587.605  3.000000e+06  \n",
       "area         2760.000  3.702785e+07  \n",
       "bedroom         5.000  2.500000e+01  \n",
       "bathroom        4.000  2.000000e+01  \n",
       "carpark         2.000  2.000000e+01  "
      ]
     },
     "execution_count": 34,
     "metadata": {},
     "output_type": "execute_result"
    }
   ],
   "source": [
    "df_cleaned.describe().T"
   ]
  },
  {
   "cell_type": "markdown",
   "id": "e73a5e9d",
   "metadata": {},
   "source": [
    "**Notes**\n",
    "- **Bedroom**, **Bathroom** and **Carpark** are discrete variables, but can be modeled as continuous variables\n",
    "- **Price**, **Psf** and **Area** are continuous variables"
   ]
  },
  {
   "cell_type": "code",
   "execution_count": 35,
   "id": "fde0d650",
   "metadata": {},
   "outputs": [],
   "source": [
    "cont_var = ['price','psf','area']\n",
    "disc_var = ['bedroom','bathroom','carpark']"
   ]
  },
  {
   "cell_type": "code",
   "execution_count": 36,
   "id": "a726ebb4",
   "metadata": {
    "scrolled": false
   },
   "outputs": [
    {
     "data": {
      "image/png": "[encoded data removed]",
      "text/plain": [
       "<Figure size 720x1440 with 6 Axes>"
      ]
     },
     "metadata": {},
     "output_type": "display_data"
    }
   ],
   "source": [
    "plt.rc('xtick', labelsize=15)\n",
    "plt.rc('ytick', labelsize=15)\n",
    "\n",
    "df_cleaned[cont_var+disc_var].plot(kind='box', subplots=True, figsize=(10,20), layout=(2,3))\n",
    "\n",
    "plt.show()"
   ]
  },
  {
   "cell_type": "markdown",
   "id": "101ca2ff",
   "metadata": {},
   "source": [
    "**Notes**\n",
    "- There are outliers especially in **Price** and **Area**"
   ]
  },
  {
   "cell_type": "code",
   "execution_count": 37,
   "id": "956752ad",
   "metadata": {},
   "outputs": [
    {
     "data": {
      "text/html": [
       "<div>\n",
       "<style scoped>\n",
       "    .dataframe tbody tr th:only-of-type {\n",
       "        vertical-align: middle;\n",
       "    }\n",
       "\n",
       "    .dataframe tbody tr th {\n",
       "        vertical-align: top;\n",
       "    }\n",
       "\n",
       "    .dataframe thead th {\n",
       "        text-align: right;\n",
       "    }\n",
       "</style>\n",
       "<table border=\"1\" class=\"dataframe\">\n",
       "  <thead>\n",
       "    <tr style=\"text-align: right;\">\n",
       "      <th></th>\n",
       "      <th>calculated_price</th>\n",
       "    </tr>\n",
       "  </thead>\n",
       "  <tbody>\n",
       "    <tr>\n",
       "      <th>0</th>\n",
       "      <td>1149998.83</td>\n",
       "    </tr>\n",
       "    <tr>\n",
       "      <th>1</th>\n",
       "      <td>1649997.00</td>\n",
       "    </tr>\n",
       "    <tr>\n",
       "      <th>2</th>\n",
       "      <td>6888901.32</td>\n",
       "    </tr>\n",
       "    <tr>\n",
       "      <th>3</th>\n",
       "      <td>2700010.60</td>\n",
       "    </tr>\n",
       "    <tr>\n",
       "      <th>4</th>\n",
       "      <td>2799992.00</td>\n",
       "    </tr>\n",
       "    <tr>\n",
       "      <th>...</th>\n",
       "      <td>...</td>\n",
       "    </tr>\n",
       "    <tr>\n",
       "      <th>13217</th>\n",
       "      <td>396993.60</td>\n",
       "    </tr>\n",
       "    <tr>\n",
       "      <th>13218</th>\n",
       "      <td>599990.40</td>\n",
       "    </tr>\n",
       "    <tr>\n",
       "      <th>13219</th>\n",
       "      <td>175004.41</td>\n",
       "    </tr>\n",
       "    <tr>\n",
       "      <th>13220</th>\n",
       "      <td>419995.00</td>\n",
       "    </tr>\n",
       "    <tr>\n",
       "      <th>13221</th>\n",
       "      <td>292996.86</td>\n",
       "    </tr>\n",
       "  </tbody>\n",
       "</table>\n",
       "<p>13222 rows × 1 columns</p>\n",
       "</div>"
      ],
      "text/plain": [
       "       calculated_price\n",
       "0            1149998.83\n",
       "1            1649997.00\n",
       "2            6888901.32\n",
       "3            2700010.60\n",
       "4            2799992.00\n",
       "...                 ...\n",
       "13217         396993.60\n",
       "13218         599990.40\n",
       "13219         175004.41\n",
       "13220         419995.00\n",
       "13221         292996.86\n",
       "\n",
       "[13222 rows x 1 columns]"
      ]
     },
     "execution_count": 37,
     "metadata": {},
     "output_type": "execute_result"
    }
   ],
   "source": [
    "df_cleaned['calculated_price'] = df_cleaned.psf * df_cleaned.area\n",
    "df_cleaned[['calculated_price']]"
   ]
  },
  {
   "cell_type": "code",
   "execution_count": 38,
   "id": "ebfa34c8",
   "metadata": {},
   "outputs": [
    {
     "name": "stdout",
     "output_type": "stream",
     "text": [
      "51.5\n"
     ]
    }
   ],
   "source": [
    "a = 0\n",
    "b = df_cleaned.calculated_price - df_cleaned.price\n",
    "for c in b:\n",
    "    if abs(c) > a:\n",
    "        a = c\n",
    "print(a)"
   ]
  },
  {
   "cell_type": "markdown",
   "id": "d62ac59f",
   "metadata": {},
   "source": [
    "**Notes**\n",
    "- There is no discrepancy between the calculated price and selling price"
   ]
  },
  {
   "cell_type": "code",
   "execution_count": 39,
   "id": "3dcd64d3",
   "metadata": {
    "scrolled": true
   },
   "outputs": [
    {
     "data": {
      "text/plain": [
       "<matplotlib.collections.PathCollection at 0x223398fb070>"
      ]
     },
     "execution_count": 39,
     "metadata": {},
     "output_type": "execute_result"
    },
    {
     "data": {
      "image/png": "[encoded data removed]",
      "text/plain": [
       "<Figure size 432x288 with 1 Axes>"
      ]
     },
     "metadata": {},
     "output_type": "display_data"
    }
   ],
   "source": [
    "plt.scatter(x=df_cleaned['price'], y=df_cleaned['bedroom'])"
   ]
  },
  {
   "cell_type": "code",
   "execution_count": 40,
   "id": "f0c99de8",
   "metadata": {},
   "outputs": [
    {
     "data": {
      "text/plain": [
       "<matplotlib.collections.PathCollection at 0x2233ba65ac0>"
      ]
     },
     "execution_count": 40,
     "metadata": {},
     "output_type": "execute_result"
    },
    {
     "data": {
      "image/png": "[encoded data removed]",
      "text/plain": [
       "<Figure size 432x288 with 1 Axes>"
      ]
     },
     "metadata": {},
     "output_type": "display_data"
    }
   ],
   "source": [
    "plt.scatter(x=df_cleaned['price'], y=df_cleaned['bathroom'])"
   ]
  },
  {
   "cell_type": "code",
   "execution_count": 41,
   "id": "34357c58",
   "metadata": {},
   "outputs": [
    {
     "data": {
      "text/plain": [
       "<matplotlib.collections.PathCollection at 0x2233ba65220>"
      ]
     },
     "execution_count": 41,
     "metadata": {},
     "output_type": "execute_result"
    },
    {
     "data": {
      "image/png": "[encoded data removed]",
      "text/plain": [
       "<Figure size 432x288 with 1 Axes>"
      ]
     },
     "metadata": {},
     "output_type": "display_data"
    }
   ],
   "source": [
    "plt.scatter(x=df_cleaned['price'], y=df_cleaned['carpark'])"
   ]
  },
  {
   "cell_type": "markdown",
   "id": "5576c81f",
   "metadata": {},
   "source": [
    "### #1b.2 Categorical Data"
   ]
  },
  {
   "cell_type": "code",
   "execution_count": 42,
   "id": "4289998d",
   "metadata": {
    "scrolled": true
   },
   "outputs": [
    {
     "data": {
      "text/html": [
       "<div>\n",
       "<style scoped>\n",
       "    .dataframe tbody tr th:only-of-type {\n",
       "        vertical-align: middle;\n",
       "    }\n",
       "\n",
       "    .dataframe tbody tr th {\n",
       "        vertical-align: top;\n",
       "    }\n",
       "\n",
       "    .dataframe thead th {\n",
       "        text-align: right;\n",
       "    }\n",
       "</style>\n",
       "<table border=\"1\" class=\"dataframe\">\n",
       "  <thead>\n",
       "    <tr style=\"text-align: right;\">\n",
       "      <th></th>\n",
       "      <th>count</th>\n",
       "      <th>unique</th>\n",
       "      <th>top</th>\n",
       "      <th>freq</th>\n",
       "    </tr>\n",
       "  </thead>\n",
       "  <tbody>\n",
       "    <tr>\n",
       "      <th>name</th>\n",
       "      <td>13222</td>\n",
       "      <td>7666</td>\n",
       "      <td>Kuching</td>\n",
       "      <td>166</td>\n",
       "    </tr>\n",
       "    <tr>\n",
       "      <th>district</th>\n",
       "      <td>13222</td>\n",
       "      <td>315</td>\n",
       "      <td>Putrajaya</td>\n",
       "      <td>1176</td>\n",
       "    </tr>\n",
       "    <tr>\n",
       "      <th>state</th>\n",
       "      <td>13222</td>\n",
       "      <td>12</td>\n",
       "      <td>Selangor</td>\n",
       "      <td>1617</td>\n",
       "    </tr>\n",
       "    <tr>\n",
       "      <th>type</th>\n",
       "      <td>13222</td>\n",
       "      <td>15</td>\n",
       "      <td>2-sty Terrace/Link House</td>\n",
       "      <td>3086</td>\n",
       "    </tr>\n",
       "    <tr>\n",
       "      <th>details</th>\n",
       "      <td>13222</td>\n",
       "      <td>10</td>\n",
       "      <td>Default</td>\n",
       "      <td>6341</td>\n",
       "    </tr>\n",
       "  </tbody>\n",
       "</table>\n",
       "</div>"
      ],
      "text/plain": [
       "          count unique                       top  freq\n",
       "name      13222   7666                   Kuching   166\n",
       "district  13222    315                 Putrajaya  1176\n",
       "state     13222     12                  Selangor  1617\n",
       "type      13222     15  2-sty Terrace/Link House  3086\n",
       "details   13222     10                   Default  6341"
      ]
     },
     "execution_count": 42,
     "metadata": {},
     "output_type": "execute_result"
    }
   ],
   "source": [
    "df_cleaned.describe(include=['object']).T"
   ]
  },
  {
   "cell_type": "markdown",
   "id": "8d04ba38",
   "metadata": {},
   "source": [
    "**Notes**\n",
    "- 'Name' can be ignored as it has too many unique values"
   ]
  },
  {
   "cell_type": "code",
   "execution_count": 43,
   "id": "0ce3d19b",
   "metadata": {},
   "outputs": [
    {
     "data": {
      "image/png": "[encoded data removed]",
      "text/plain": [
       "<Figure size 432x288 with 1 Axes>"
      ]
     },
     "metadata": {},
     "output_type": "display_data"
    },
    {
     "data": {
      "image/png": "[encoded data removed]",
      "text/plain": [
       "<Figure size 432x288 with 1 Axes>"
      ]
     },
     "metadata": {},
     "output_type": "display_data"
    },
    {
     "data": {
      "image/png": "[encoded data removed]",
      "text/plain": [
       "<Figure size 432x288 with 1 Axes>"
      ]
     },
     "metadata": {},
     "output_type": "display_data"
    }
   ],
   "source": [
    "for feature in df_cleaned.dtypes[df_cleaned.dtypes == \"object\"].drop([\"name\",\"district\"]).index:\n",
    "    sns.countplot(y=feature, data=df_cleaned)\n",
    "    plt.show()"
   ]
  },
  {
   "cell_type": "code",
   "execution_count": 44,
   "id": "a4913ec5",
   "metadata": {
    "scrolled": true
   },
   "outputs": [
    {
     "name": "stderr",
     "output_type": "stream",
     "text": [
      "C:\\ProgramData\\Anaconda3\\lib\\site-packages\\seaborn\\_decorators.py:36: FutureWarning: Pass the following variables as keyword args: x, y. From version 0.12, the only valid positional argument will be `data`, and passing other arguments without an explicit keyword will result in an error or misinterpretation.\n",
      "  warnings.warn(\n"
     ]
    },
    {
     "data": {
      "text/plain": [
       "(array([ 0,  1,  2,  3,  4,  5,  6,  7,  8,  9, 10, 11]),\n",
       " [Text(0, 0, 'Kuala Lumpur'),\n",
       "  Text(1, 0, 'Selangor'),\n",
       "  Text(2, 0, 'Penang'),\n",
       "  Text(3, 0, 'Perak'),\n",
       "  Text(4, 0, 'Negeri Sembilan'),\n",
       "  Text(5, 0, 'Johor'),\n",
       "  Text(6, 0, 'Putrajaya'),\n",
       "  Text(7, 0, 'Sabah'),\n",
       "  Text(8, 0, 'Sarawak'),\n",
       "  Text(9, 0, 'Labuan'),\n",
       "  Text(10, 0, 'Perlis'),\n",
       "  Text(11, 0, 'Kelantan')])"
      ]
     },
     "execution_count": 44,
     "metadata": {},
     "output_type": "execute_result"
    },
    {
     "data": {
      "image/png": "[encoded data removed]",
      "text/plain": [
       "<Figure size 432x288 with 1 Axes>"
      ]
     },
     "metadata": {},
     "output_type": "display_data"
    }
   ],
   "source": [
    "x = df_cleaned.state\n",
    "y = df_cleaned.price\n",
    "\n",
    "ax = sns.stripplot(x,y)\n",
    "\n",
    "plt.xticks(rotation=-45, size=10)"
   ]
  },
  {
   "cell_type": "markdown",
   "id": "2d3baa98",
   "metadata": {},
   "source": [
    "### #1b.3 Correlation"
   ]
  },
  {
   "cell_type": "code",
   "execution_count": 45,
   "id": "45189483",
   "metadata": {},
   "outputs": [
    {
     "data": {
      "text/html": [
       "<div>\n",
       "<style scoped>\n",
       "    .dataframe tbody tr th:only-of-type {\n",
       "        vertical-align: middle;\n",
       "    }\n",
       "\n",
       "    .dataframe tbody tr th {\n",
       "        vertical-align: top;\n",
       "    }\n",
       "\n",
       "    .dataframe thead th {\n",
       "        text-align: right;\n",
       "    }\n",
       "</style>\n",
       "<table border=\"1\" class=\"dataframe\">\n",
       "  <thead>\n",
       "    <tr style=\"text-align: right;\">\n",
       "      <th></th>\n",
       "      <th>price</th>\n",
       "      <th>bedroom</th>\n",
       "      <th>bathroom</th>\n",
       "      <th>carpark</th>\n",
       "    </tr>\n",
       "  </thead>\n",
       "  <tbody>\n",
       "    <tr>\n",
       "      <th>price</th>\n",
       "      <td>1.000000</td>\n",
       "      <td>0.064902</td>\n",
       "      <td>0.070313</td>\n",
       "      <td>0.045674</td>\n",
       "    </tr>\n",
       "    <tr>\n",
       "      <th>bedroom</th>\n",
       "      <td>0.064902</td>\n",
       "      <td>1.000000</td>\n",
       "      <td>0.842972</td>\n",
       "      <td>0.312654</td>\n",
       "    </tr>\n",
       "    <tr>\n",
       "      <th>bathroom</th>\n",
       "      <td>0.070313</td>\n",
       "      <td>0.842972</td>\n",
       "      <td>1.000000</td>\n",
       "      <td>0.317893</td>\n",
       "    </tr>\n",
       "    <tr>\n",
       "      <th>carpark</th>\n",
       "      <td>0.045674</td>\n",
       "      <td>0.312654</td>\n",
       "      <td>0.317893</td>\n",
       "      <td>1.000000</td>\n",
       "    </tr>\n",
       "  </tbody>\n",
       "</table>\n",
       "</div>"
      ],
      "text/plain": [
       "             price   bedroom  bathroom   carpark\n",
       "price     1.000000  0.064902  0.070313  0.045674\n",
       "bedroom   0.064902  1.000000  0.842972  0.312654\n",
       "bathroom  0.070313  0.842972  1.000000  0.317893\n",
       "carpark   0.045674  0.312654  0.317893  1.000000"
      ]
     },
     "execution_count": 45,
     "metadata": {},
     "output_type": "execute_result"
    }
   ],
   "source": [
    "correlation = df_cleaned.drop(['calculated_price','psf','area'], axis=1).corr()\n",
    "correlation"
   ]
  },
  {
   "cell_type": "code",
   "execution_count": 46,
   "id": "096cabeb",
   "metadata": {},
   "outputs": [],
   "source": [
    "mask = np.zeros_like(correlation)\n",
    "mask[np.triu_indices_from(mask)] = 1"
   ]
  },
  {
   "cell_type": "code",
   "execution_count": 47,
   "id": "0cc3b7ea",
   "metadata": {},
   "outputs": [
    {
     "data": {
      "image/png": "[encoded data removed]",
      "text/plain": [
       "<Figure size 432x288 with 1 Axes>"
      ]
     },
     "metadata": {},
     "output_type": "display_data"
    }
   ],
   "source": [
    "sns.heatmap(correlation*100, \n",
    "            cmap=\"RdBu_r\", \n",
    "            annot=True, \n",
    "            fmt=\".0f\", \n",
    "            mask=mask,\n",
    "            cbar=False\n",
    "           )\n",
    "\n",
    "plt.show()"
   ]
  },
  {
   "cell_type": "markdown",
   "id": "72ecb3cf",
   "metadata": {},
   "source": [
    "## #3 Feature Engineering"
   ]
  },
  {
   "cell_type": "code",
   "execution_count": 48,
   "id": "ac6c1e69",
   "metadata": {},
   "outputs": [],
   "source": [
    "import pandas as pd\n",
    "import numpy as np\n",
    "\n",
    "from sklearn.preprocessing import MinMaxScaler\n",
    "\n",
    "from sklearn.preprocessing import OneHotEncoder"
   ]
  },
  {
   "cell_type": "markdown",
   "id": "bf0e8f35",
   "metadata": {},
   "source": [
    "### #3.0 Create a copy of DataFrame"
   ]
  },
  {
   "cell_type": "code",
   "execution_count": 49,
   "id": "f72588fb",
   "metadata": {},
   "outputs": [],
   "source": [
    "df_train = pd.read_csv('../data/iProperty_rent_to_be_trained.csv')"
   ]
  },
  {
   "cell_type": "markdown",
   "id": "4801a3d8",
   "metadata": {},
   "source": [
    "### #3.1 Remove redundant columns"
   ]
  },
  {
   "cell_type": "code",
   "execution_count": 50,
   "id": "893ad916",
   "metadata": {},
   "outputs": [
    {
     "name": "stdout",
     "output_type": "stream",
     "text": [
      "\u001b[1m Before : \u001b[0m\n"
     ]
    },
    {
     "data": {
      "text/html": [
       "<div>\n",
       "<style scoped>\n",
       "    .dataframe tbody tr th:only-of-type {\n",
       "        vertical-align: middle;\n",
       "    }\n",
       "\n",
       "    .dataframe tbody tr th {\n",
       "        vertical-align: top;\n",
       "    }\n",
       "\n",
       "    .dataframe thead th {\n",
       "        text-align: right;\n",
       "    }\n",
       "</style>\n",
       "<table border=\"1\" class=\"dataframe\">\n",
       "  <thead>\n",
       "    <tr style=\"text-align: right;\">\n",
       "      <th></th>\n",
       "      <th>name</th>\n",
       "      <th>price</th>\n",
       "      <th>psf</th>\n",
       "      <th>district</th>\n",
       "      <th>state</th>\n",
       "      <th>type</th>\n",
       "      <th>details</th>\n",
       "      <th>area</th>\n",
       "      <th>bedroom</th>\n",
       "      <th>bathroom</th>\n",
       "      <th>carpark</th>\n",
       "    </tr>\n",
       "  </thead>\n",
       "  <tbody>\n",
       "    <tr>\n",
       "      <th>0</th>\n",
       "      <td>M Vertica, Taman Maluri, Cheras</td>\n",
       "      <td>1400</td>\n",
       "      <td>1.65</td>\n",
       "      <td>Cheras</td>\n",
       "      <td>Kuala Lumpur</td>\n",
       "      <td>Condominium</td>\n",
       "      <td>Default</td>\n",
       "      <td>850</td>\n",
       "      <td>3</td>\n",
       "      <td>2</td>\n",
       "      <td>1</td>\n",
       "    </tr>\n",
       "    <tr>\n",
       "      <th>1</th>\n",
       "      <td>M Vertica, Taman Maluri, Cheras</td>\n",
       "      <td>1700</td>\n",
       "      <td>2.00</td>\n",
       "      <td>Cheras</td>\n",
       "      <td>Kuala Lumpur</td>\n",
       "      <td>Condominium</td>\n",
       "      <td>Default</td>\n",
       "      <td>850</td>\n",
       "      <td>3</td>\n",
       "      <td>2</td>\n",
       "      <td>2</td>\n",
       "    </tr>\n",
       "    <tr>\n",
       "      <th>2</th>\n",
       "      <td>Desa Green, Taman Desa</td>\n",
       "      <td>1800</td>\n",
       "      <td>2.52</td>\n",
       "      <td>Taman Desa</td>\n",
       "      <td>Kuala Lumpur</td>\n",
       "      <td>Serviced Residence</td>\n",
       "      <td>Studio</td>\n",
       "      <td>715</td>\n",
       "      <td>2</td>\n",
       "      <td>2</td>\n",
       "      <td>1</td>\n",
       "    </tr>\n",
       "    <tr>\n",
       "      <th>3</th>\n",
       "      <td>Arcoris Residences, Mont Kiara</td>\n",
       "      <td>5000</td>\n",
       "      <td>5.51</td>\n",
       "      <td>Mont Kiara</td>\n",
       "      <td>Kuala Lumpur</td>\n",
       "      <td>Serviced Residence</td>\n",
       "      <td>Intermediate</td>\n",
       "      <td>907</td>\n",
       "      <td>2</td>\n",
       "      <td>2</td>\n",
       "      <td>1</td>\n",
       "    </tr>\n",
       "    <tr>\n",
       "      <th>4</th>\n",
       "      <td>Desa Green, Taman Desa</td>\n",
       "      <td>1400</td>\n",
       "      <td>2.42</td>\n",
       "      <td>Taman Desa</td>\n",
       "      <td>Kuala Lumpur</td>\n",
       "      <td>Serviced Residence</td>\n",
       "      <td>Default</td>\n",
       "      <td>578</td>\n",
       "      <td>1</td>\n",
       "      <td>1</td>\n",
       "      <td>1</td>\n",
       "    </tr>\n",
       "  </tbody>\n",
       "</table>\n",
       "</div>"
      ],
      "text/plain": [
       "                              name  price   psf    district         state  \\\n",
       "0  M Vertica, Taman Maluri, Cheras   1400  1.65      Cheras  Kuala Lumpur   \n",
       "1  M Vertica, Taman Maluri, Cheras   1700  2.00      Cheras  Kuala Lumpur   \n",
       "2           Desa Green, Taman Desa   1800  2.52  Taman Desa  Kuala Lumpur   \n",
       "3   Arcoris Residences, Mont Kiara   5000  5.51  Mont Kiara  Kuala Lumpur   \n",
       "4           Desa Green, Taman Desa   1400  2.42  Taman Desa  Kuala Lumpur   \n",
       "\n",
       "                 type       details  area  bedroom  bathroom  carpark  \n",
       "0         Condominium       Default   850        3         2        1  \n",
       "1         Condominium       Default   850        3         2        2  \n",
       "2  Serviced Residence        Studio   715        2         2        1  \n",
       "3  Serviced Residence  Intermediate   907        2         2        1  \n",
       "4  Serviced Residence       Default   578        1         1        1  "
      ]
     },
     "execution_count": 50,
     "metadata": {},
     "output_type": "execute_result"
    }
   ],
   "source": [
    "print(\"\\033[1m\", 'Before :', \"\\033[0m\")\n",
    "df_train.head()"
   ]
  },
  {
   "cell_type": "code",
   "execution_count": 51,
   "id": "1aa18a5e",
   "metadata": {},
   "outputs": [
    {
     "name": "stdout",
     "output_type": "stream",
     "text": [
      "\u001b[1m After : \u001b[0m\n"
     ]
    },
    {
     "data": {
      "text/html": [
       "<div>\n",
       "<style scoped>\n",
       "    .dataframe tbody tr th:only-of-type {\n",
       "        vertical-align: middle;\n",
       "    }\n",
       "\n",
       "    .dataframe tbody tr th {\n",
       "        vertical-align: top;\n",
       "    }\n",
       "\n",
       "    .dataframe thead th {\n",
       "        text-align: right;\n",
       "    }\n",
       "</style>\n",
       "<table border=\"1\" class=\"dataframe\">\n",
       "  <thead>\n",
       "    <tr style=\"text-align: right;\">\n",
       "      <th></th>\n",
       "      <th>price</th>\n",
       "      <th>district</th>\n",
       "      <th>state</th>\n",
       "      <th>type</th>\n",
       "      <th>details</th>\n",
       "      <th>bedroom</th>\n",
       "      <th>bathroom</th>\n",
       "      <th>carpark</th>\n",
       "    </tr>\n",
       "  </thead>\n",
       "  <tbody>\n",
       "    <tr>\n",
       "      <th>0</th>\n",
       "      <td>1400</td>\n",
       "      <td>Cheras</td>\n",
       "      <td>Kuala Lumpur</td>\n",
       "      <td>Condominium</td>\n",
       "      <td>Default</td>\n",
       "      <td>3</td>\n",
       "      <td>2</td>\n",
       "      <td>1</td>\n",
       "    </tr>\n",
       "    <tr>\n",
       "      <th>1</th>\n",
       "      <td>1700</td>\n",
       "      <td>Cheras</td>\n",
       "      <td>Kuala Lumpur</td>\n",
       "      <td>Condominium</td>\n",
       "      <td>Default</td>\n",
       "      <td>3</td>\n",
       "      <td>2</td>\n",
       "      <td>2</td>\n",
       "    </tr>\n",
       "    <tr>\n",
       "      <th>2</th>\n",
       "      <td>1800</td>\n",
       "      <td>Taman Desa</td>\n",
       "      <td>Kuala Lumpur</td>\n",
       "      <td>Serviced Residence</td>\n",
       "      <td>Studio</td>\n",
       "      <td>2</td>\n",
       "      <td>2</td>\n",
       "      <td>1</td>\n",
       "    </tr>\n",
       "    <tr>\n",
       "      <th>3</th>\n",
       "      <td>5000</td>\n",
       "      <td>Mont Kiara</td>\n",
       "      <td>Kuala Lumpur</td>\n",
       "      <td>Serviced Residence</td>\n",
       "      <td>Intermediate</td>\n",
       "      <td>2</td>\n",
       "      <td>2</td>\n",
       "      <td>1</td>\n",
       "    </tr>\n",
       "    <tr>\n",
       "      <th>4</th>\n",
       "      <td>1400</td>\n",
       "      <td>Taman Desa</td>\n",
       "      <td>Kuala Lumpur</td>\n",
       "      <td>Serviced Residence</td>\n",
       "      <td>Default</td>\n",
       "      <td>1</td>\n",
       "      <td>1</td>\n",
       "      <td>1</td>\n",
       "    </tr>\n",
       "  </tbody>\n",
       "</table>\n",
       "</div>"
      ],
      "text/plain": [
       "   price    district         state                type       details  bedroom  \\\n",
       "0   1400      Cheras  Kuala Lumpur         Condominium       Default        3   \n",
       "1   1700      Cheras  Kuala Lumpur         Condominium       Default        3   \n",
       "2   1800  Taman Desa  Kuala Lumpur  Serviced Residence        Studio        2   \n",
       "3   5000  Mont Kiara  Kuala Lumpur  Serviced Residence  Intermediate        2   \n",
       "4   1400  Taman Desa  Kuala Lumpur  Serviced Residence       Default        1   \n",
       "\n",
       "   bathroom  carpark  \n",
       "0         2        1  \n",
       "1         2        2  \n",
       "2         2        1  \n",
       "3         2        1  \n",
       "4         1        1  "
      ]
     },
     "execution_count": 51,
     "metadata": {},
     "output_type": "execute_result"
    }
   ],
   "source": [
    "df_train.drop(['name','psf','area'], axis=1, inplace=True)\n",
    "\n",
    "print(\"\\033[1m\", 'After :', \"\\033[0m\")\n",
    "df_train.head()"
   ]
  },
  {
   "cell_type": "markdown",
   "id": "a2e43022",
   "metadata": {},
   "source": [
    "### #3.2 Defining Columns"
   ]
  },
  {
   "cell_type": "code",
   "execution_count": 52,
   "id": "6d266608",
   "metadata": {},
   "outputs": [],
   "source": [
    "cat_col = df_train.select_dtypes([object]).columns.tolist()\n",
    "num_col = df_train.select_dtypes([int,float]).drop(['price'], axis=1).columns.tolist()\n",
    "tar_col = df_train[['price']].columns.tolist()"
   ]
  },
  {
   "cell_type": "code",
   "execution_count": 53,
   "id": "f5eaf37b",
   "metadata": {},
   "outputs": [
    {
     "name": "stdout",
     "output_type": "stream",
     "text": [
      "['district', 'state', 'type', 'details'] ['bedroom', 'bathroom', 'carpark'] ['price']\n"
     ]
    }
   ],
   "source": [
    "print(cat_col, num_col,tar_col)"
   ]
  },
  {
   "cell_type": "markdown",
   "id": "b03650ed",
   "metadata": {},
   "source": [
    "### #3.3 Remove outliers"
   ]
  },
  {
   "cell_type": "code",
   "execution_count": 54,
   "id": "eddf8918",
   "metadata": {},
   "outputs": [
    {
     "name": "stdout",
     "output_type": "stream",
     "text": [
      "\u001b[1m Before : \u001b[0m\n"
     ]
    },
    {
     "data": {
      "text/html": [
       "<div>\n",
       "<style scoped>\n",
       "    .dataframe tbody tr th:only-of-type {\n",
       "        vertical-align: middle;\n",
       "    }\n",
       "\n",
       "    .dataframe tbody tr th {\n",
       "        vertical-align: top;\n",
       "    }\n",
       "\n",
       "    .dataframe thead th {\n",
       "        text-align: right;\n",
       "    }\n",
       "</style>\n",
       "<table border=\"1\" class=\"dataframe\">\n",
       "  <thead>\n",
       "    <tr style=\"text-align: right;\">\n",
       "      <th></th>\n",
       "      <th>count</th>\n",
       "      <th>mean</th>\n",
       "      <th>std</th>\n",
       "      <th>min</th>\n",
       "      <th>25%</th>\n",
       "      <th>50%</th>\n",
       "      <th>75%</th>\n",
       "      <th>max</th>\n",
       "    </tr>\n",
       "  </thead>\n",
       "  <tbody>\n",
       "    <tr>\n",
       "      <th>price</th>\n",
       "      <td>10781.0</td>\n",
       "      <td>5684.784714</td>\n",
       "      <td>75581.749568</td>\n",
       "      <td>100.0</td>\n",
       "      <td>1500.0</td>\n",
       "      <td>2000.0</td>\n",
       "      <td>3000.0</td>\n",
       "      <td>3800000.0</td>\n",
       "    </tr>\n",
       "    <tr>\n",
       "      <th>bedroom</th>\n",
       "      <td>10781.0</td>\n",
       "      <td>3.160931</td>\n",
       "      <td>1.279776</td>\n",
       "      <td>1.0</td>\n",
       "      <td>2.0</td>\n",
       "      <td>3.0</td>\n",
       "      <td>4.0</td>\n",
       "      <td>14.0</td>\n",
       "    </tr>\n",
       "    <tr>\n",
       "      <th>bathroom</th>\n",
       "      <td>10781.0</td>\n",
       "      <td>2.535294</td>\n",
       "      <td>1.254078</td>\n",
       "      <td>1.0</td>\n",
       "      <td>2.0</td>\n",
       "      <td>2.0</td>\n",
       "      <td>3.0</td>\n",
       "      <td>30.0</td>\n",
       "    </tr>\n",
       "    <tr>\n",
       "      <th>carpark</th>\n",
       "      <td>10781.0</td>\n",
       "      <td>1.465170</td>\n",
       "      <td>1.464742</td>\n",
       "      <td>0.0</td>\n",
       "      <td>1.0</td>\n",
       "      <td>1.0</td>\n",
       "      <td>2.0</td>\n",
       "      <td>99.0</td>\n",
       "    </tr>\n",
       "  </tbody>\n",
       "</table>\n",
       "</div>"
      ],
      "text/plain": [
       "            count         mean           std    min     25%     50%     75%  \\\n",
       "price     10781.0  5684.784714  75581.749568  100.0  1500.0  2000.0  3000.0   \n",
       "bedroom   10781.0     3.160931      1.279776    1.0     2.0     3.0     4.0   \n",
       "bathroom  10781.0     2.535294      1.254078    1.0     2.0     2.0     3.0   \n",
       "carpark   10781.0     1.465170      1.464742    0.0     1.0     1.0     2.0   \n",
       "\n",
       "                max  \n",
       "price     3800000.0  \n",
       "bedroom        14.0  \n",
       "bathroom       30.0  \n",
       "carpark        99.0  "
      ]
     },
     "execution_count": 54,
     "metadata": {},
     "output_type": "execute_result"
    }
   ],
   "source": [
    "print(\"\\033[1m\", 'Before :', \"\\033[0m\")\n",
    "df_train.describe().T"
   ]
  },
  {
   "cell_type": "code",
   "execution_count": 55,
   "id": "9048a616",
   "metadata": {},
   "outputs": [
    {
     "name": "stdout",
     "output_type": "stream",
     "text": [
      "\u001b[1m After : \u001b[0m\n"
     ]
    },
    {
     "data": {
      "text/html": [
       "<div>\n",
       "<style scoped>\n",
       "    .dataframe tbody tr th:only-of-type {\n",
       "        vertical-align: middle;\n",
       "    }\n",
       "\n",
       "    .dataframe tbody tr th {\n",
       "        vertical-align: top;\n",
       "    }\n",
       "\n",
       "    .dataframe thead th {\n",
       "        text-align: right;\n",
       "    }\n",
       "</style>\n",
       "<table border=\"1\" class=\"dataframe\">\n",
       "  <thead>\n",
       "    <tr style=\"text-align: right;\">\n",
       "      <th></th>\n",
       "      <th>count</th>\n",
       "      <th>mean</th>\n",
       "      <th>std</th>\n",
       "      <th>min</th>\n",
       "      <th>25%</th>\n",
       "      <th>50%</th>\n",
       "      <th>75%</th>\n",
       "      <th>max</th>\n",
       "    </tr>\n",
       "  </thead>\n",
       "  <tbody>\n",
       "    <tr>\n",
       "      <th>price</th>\n",
       "      <td>10544.0</td>\n",
       "      <td>2594.700303</td>\n",
       "      <td>1980.674897</td>\n",
       "      <td>610.0</td>\n",
       "      <td>1500.0</td>\n",
       "      <td>2000.0</td>\n",
       "      <td>2900.0</td>\n",
       "      <td>14500.0</td>\n",
       "    </tr>\n",
       "    <tr>\n",
       "      <th>bedroom</th>\n",
       "      <td>10544.0</td>\n",
       "      <td>3.147667</td>\n",
       "      <td>1.244892</td>\n",
       "      <td>1.0</td>\n",
       "      <td>2.0</td>\n",
       "      <td>3.0</td>\n",
       "      <td>4.0</td>\n",
       "      <td>14.0</td>\n",
       "    </tr>\n",
       "    <tr>\n",
       "      <th>bathroom</th>\n",
       "      <td>10544.0</td>\n",
       "      <td>2.516597</td>\n",
       "      <td>1.193230</td>\n",
       "      <td>1.0</td>\n",
       "      <td>2.0</td>\n",
       "      <td>2.0</td>\n",
       "      <td>3.0</td>\n",
       "      <td>10.0</td>\n",
       "    </tr>\n",
       "    <tr>\n",
       "      <th>carpark</th>\n",
       "      <td>10544.0</td>\n",
       "      <td>1.457606</td>\n",
       "      <td>1.110044</td>\n",
       "      <td>0.0</td>\n",
       "      <td>1.0</td>\n",
       "      <td>1.0</td>\n",
       "      <td>2.0</td>\n",
       "      <td>50.0</td>\n",
       "    </tr>\n",
       "  </tbody>\n",
       "</table>\n",
       "</div>"
      ],
      "text/plain": [
       "            count         mean          std    min     25%     50%     75%  \\\n",
       "price     10544.0  2594.700303  1980.674897  610.0  1500.0  2000.0  2900.0   \n",
       "bedroom   10544.0     3.147667     1.244892    1.0     2.0     3.0     4.0   \n",
       "bathroom  10544.0     2.516597     1.193230    1.0     2.0     2.0     3.0   \n",
       "carpark   10544.0     1.457606     1.110044    0.0     1.0     1.0     2.0   \n",
       "\n",
       "              max  \n",
       "price     14500.0  \n",
       "bedroom      14.0  \n",
       "bathroom     10.0  \n",
       "carpark      50.0  "
      ]
     },
     "execution_count": 55,
     "metadata": {},
     "output_type": "execute_result"
    }
   ],
   "source": [
    "for col in tar_col:\n",
    "    q_low = df_train[col].quantile(0.01)\n",
    "    q_hi  = df_train[col].quantile(0.99)\n",
    "    df_train = df_train[(df_train[col] < q_hi) & (df_train[col] > q_low)]\n",
    "    \n",
    "print(\"\\033[1m\", 'After :', \"\\033[0m\")\n",
    "df_train.describe().T"
   ]
  },
  {
   "cell_type": "markdown",
   "id": "1a07e25b",
   "metadata": {},
   "source": [
    "### #3.3 One hot encode categorical columns"
   ]
  },
  {
   "cell_type": "code",
   "execution_count": 56,
   "id": "6d6c59a1",
   "metadata": {},
   "outputs": [
    {
     "name": "stdout",
     "output_type": "stream",
     "text": [
      "\u001b[1m Before : \u001b[0m\n"
     ]
    },
    {
     "data": {
      "text/html": [
       "<div>\n",
       "<style scoped>\n",
       "    .dataframe tbody tr th:only-of-type {\n",
       "        vertical-align: middle;\n",
       "    }\n",
       "\n",
       "    .dataframe tbody tr th {\n",
       "        vertical-align: top;\n",
       "    }\n",
       "\n",
       "    .dataframe thead th {\n",
       "        text-align: right;\n",
       "    }\n",
       "</style>\n",
       "<table border=\"1\" class=\"dataframe\">\n",
       "  <thead>\n",
       "    <tr style=\"text-align: right;\">\n",
       "      <th></th>\n",
       "      <th>price</th>\n",
       "      <th>district</th>\n",
       "      <th>state</th>\n",
       "      <th>type</th>\n",
       "      <th>details</th>\n",
       "      <th>bedroom</th>\n",
       "      <th>bathroom</th>\n",
       "      <th>carpark</th>\n",
       "    </tr>\n",
       "  </thead>\n",
       "  <tbody>\n",
       "    <tr>\n",
       "      <th>0</th>\n",
       "      <td>1400</td>\n",
       "      <td>Cheras</td>\n",
       "      <td>Kuala Lumpur</td>\n",
       "      <td>Condominium</td>\n",
       "      <td>Default</td>\n",
       "      <td>3</td>\n",
       "      <td>2</td>\n",
       "      <td>1</td>\n",
       "    </tr>\n",
       "    <tr>\n",
       "      <th>1</th>\n",
       "      <td>1700</td>\n",
       "      <td>Cheras</td>\n",
       "      <td>Kuala Lumpur</td>\n",
       "      <td>Condominium</td>\n",
       "      <td>Default</td>\n",
       "      <td>3</td>\n",
       "      <td>2</td>\n",
       "      <td>2</td>\n",
       "    </tr>\n",
       "    <tr>\n",
       "      <th>2</th>\n",
       "      <td>1800</td>\n",
       "      <td>Taman Desa</td>\n",
       "      <td>Kuala Lumpur</td>\n",
       "      <td>Serviced Residence</td>\n",
       "      <td>Studio</td>\n",
       "      <td>2</td>\n",
       "      <td>2</td>\n",
       "      <td>1</td>\n",
       "    </tr>\n",
       "    <tr>\n",
       "      <th>3</th>\n",
       "      <td>5000</td>\n",
       "      <td>Mont Kiara</td>\n",
       "      <td>Kuala Lumpur</td>\n",
       "      <td>Serviced Residence</td>\n",
       "      <td>Intermediate</td>\n",
       "      <td>2</td>\n",
       "      <td>2</td>\n",
       "      <td>1</td>\n",
       "    </tr>\n",
       "    <tr>\n",
       "      <th>4</th>\n",
       "      <td>1400</td>\n",
       "      <td>Taman Desa</td>\n",
       "      <td>Kuala Lumpur</td>\n",
       "      <td>Serviced Residence</td>\n",
       "      <td>Default</td>\n",
       "      <td>1</td>\n",
       "      <td>1</td>\n",
       "      <td>1</td>\n",
       "    </tr>\n",
       "    <tr>\n",
       "      <th>...</th>\n",
       "      <td>...</td>\n",
       "      <td>...</td>\n",
       "      <td>...</td>\n",
       "      <td>...</td>\n",
       "      <td>...</td>\n",
       "      <td>...</td>\n",
       "      <td>...</td>\n",
       "      <td>...</td>\n",
       "    </tr>\n",
       "    <tr>\n",
       "      <th>10776</th>\n",
       "      <td>1450</td>\n",
       "      <td>Kuching</td>\n",
       "      <td>Sarawak</td>\n",
       "      <td>NaN</td>\n",
       "      <td>Default</td>\n",
       "      <td>2</td>\n",
       "      <td>2</td>\n",
       "      <td>1</td>\n",
       "    </tr>\n",
       "    <tr>\n",
       "      <th>10777</th>\n",
       "      <td>2900</td>\n",
       "      <td>Kota Bharu</td>\n",
       "      <td>Kelantan</td>\n",
       "      <td>NaN</td>\n",
       "      <td>Default</td>\n",
       "      <td>3</td>\n",
       "      <td>2</td>\n",
       "      <td>1</td>\n",
       "    </tr>\n",
       "    <tr>\n",
       "      <th>10778</th>\n",
       "      <td>1250</td>\n",
       "      <td>Kenali</td>\n",
       "      <td>Kelantan</td>\n",
       "      <td>NaN</td>\n",
       "      <td>Default</td>\n",
       "      <td>1</td>\n",
       "      <td>1</td>\n",
       "      <td>1</td>\n",
       "    </tr>\n",
       "    <tr>\n",
       "      <th>10779</th>\n",
       "      <td>3000</td>\n",
       "      <td>Kota Bharu</td>\n",
       "      <td>Kelantan</td>\n",
       "      <td>NaN</td>\n",
       "      <td>Default</td>\n",
       "      <td>3</td>\n",
       "      <td>2</td>\n",
       "      <td>2</td>\n",
       "    </tr>\n",
       "    <tr>\n",
       "      <th>10780</th>\n",
       "      <td>1300</td>\n",
       "      <td>Kenali</td>\n",
       "      <td>Kelantan</td>\n",
       "      <td>NaN</td>\n",
       "      <td>Studio</td>\n",
       "      <td>1</td>\n",
       "      <td>1</td>\n",
       "      <td>0</td>\n",
       "    </tr>\n",
       "  </tbody>\n",
       "</table>\n",
       "<p>10544 rows × 8 columns</p>\n",
       "</div>"
      ],
      "text/plain": [
       "       price    district         state                type       details  \\\n",
       "0       1400      Cheras  Kuala Lumpur         Condominium       Default   \n",
       "1       1700      Cheras  Kuala Lumpur         Condominium       Default   \n",
       "2       1800  Taman Desa  Kuala Lumpur  Serviced Residence        Studio   \n",
       "3       5000  Mont Kiara  Kuala Lumpur  Serviced Residence  Intermediate   \n",
       "4       1400  Taman Desa  Kuala Lumpur  Serviced Residence       Default   \n",
       "...      ...         ...           ...                 ...           ...   \n",
       "10776   1450     Kuching       Sarawak                 NaN       Default   \n",
       "10777   2900  Kota Bharu      Kelantan                 NaN       Default   \n",
       "10778   1250      Kenali      Kelantan                 NaN       Default   \n",
       "10779   3000  Kota Bharu      Kelantan                 NaN       Default   \n",
       "10780   1300      Kenali      Kelantan                 NaN        Studio   \n",
       "\n",
       "       bedroom  bathroom  carpark  \n",
       "0            3         2        1  \n",
       "1            3         2        2  \n",
       "2            2         2        1  \n",
       "3            2         2        1  \n",
       "4            1         1        1  \n",
       "...        ...       ...      ...  \n",
       "10776        2         2        1  \n",
       "10777        3         2        1  \n",
       "10778        1         1        1  \n",
       "10779        3         2        2  \n",
       "10780        1         1        0  \n",
       "\n",
       "[10544 rows x 8 columns]"
      ]
     },
     "execution_count": 56,
     "metadata": {},
     "output_type": "execute_result"
    }
   ],
   "source": [
    "print(\"\\033[1m\", 'Before :', \"\\033[0m\")\n",
    "df_train"
   ]
  },
  {
   "cell_type": "code",
   "execution_count": 57,
   "id": "6b13793d",
   "metadata": {},
   "outputs": [],
   "source": [
    "ohe = OneHotEncoder()"
   ]
  },
  {
   "cell_type": "code",
   "execution_count": 58,
   "id": "eb43d0b0",
   "metadata": {
    "scrolled": true
   },
   "outputs": [
    {
     "data": {
      "text/html": [
       "<style>#sk-container-id-1 {color: black;background-color: white;}#sk-container-id-1 pre{padding: 0;}#sk-container-id-1 div.sk-toggleable {background-color: white;}#sk-container-id-1 label.sk-toggleable__label {cursor: pointer;display: block;width: 100%;margin-bottom: 0;padding: 0.3em;box-sizing: border-box;text-align: center;}#sk-container-id-1 label.sk-toggleable__label-arrow:before {content: \"▸\";float: left;margin-right: 0.25em;color: #696969;}#sk-container-id-1 label.sk-toggleable__label-arrow:hover:before {color: black;}#sk-container-id-1 div.sk-estimator:hover label.sk-toggleable__label-arrow:before {color: black;}#sk-container-id-1 div.sk-toggleable__content {max-height: 0;max-width: 0;overflow: hidden;text-align: left;background-color: #f0f8ff;}#sk-container-id-1 div.sk-toggleable__content pre {margin: 0.2em;color: black;border-radius: 0.25em;background-color: #f0f8ff;}#sk-container-id-1 input.sk-toggleable__control:checked~div.sk-toggleable__content {max-height: 200px;max-width: 100%;overflow: auto;}#sk-container-id-1 input.sk-toggleable__control:checked~label.sk-toggleable__label-arrow:before {content: \"▾\";}#sk-container-id-1 div.sk-estimator input.sk-toggleable__control:checked~label.sk-toggleable__label {background-color: #d4ebff;}#sk-container-id-1 div.sk-label input.sk-toggleable__control:checked~label.sk-toggleable__label {background-color: #d4ebff;}#sk-container-id-1 input.sk-hidden--visually {border: 0;clip: rect(1px 1px 1px 1px);clip: rect(1px, 1px, 1px, 1px);height: 1px;margin: -1px;overflow: hidden;padding: 0;position: absolute;width: 1px;}#sk-container-id-1 div.sk-estimator {font-family: monospace;background-color: #f0f8ff;border: 1px dotted black;border-radius: 0.25em;box-sizing: border-box;margin-bottom: 0.5em;}#sk-container-id-1 div.sk-estimator:hover {background-color: #d4ebff;}#sk-container-id-1 div.sk-parallel-item::after {content: \"\";width: 100%;border-bottom: 1px solid gray;flex-grow: 1;}#sk-container-id-1 div.sk-label:hover label.sk-toggleable__label {background-color: #d4ebff;}#sk-container-id-1 div.sk-serial::before {content: \"\";position: absolute;border-left: 1px solid gray;box-sizing: border-box;top: 0;bottom: 0;left: 50%;z-index: 0;}#sk-container-id-1 div.sk-serial {display: flex;flex-direction: column;align-items: center;background-color: white;padding-right: 0.2em;padding-left: 0.2em;position: relative;}#sk-container-id-1 div.sk-item {position: relative;z-index: 1;}#sk-container-id-1 div.sk-parallel {display: flex;align-items: stretch;justify-content: center;background-color: white;position: relative;}#sk-container-id-1 div.sk-item::before, #sk-container-id-1 div.sk-parallel-item::before {content: \"\";position: absolute;border-left: 1px solid gray;box-sizing: border-box;top: 0;bottom: 0;left: 50%;z-index: -1;}#sk-container-id-1 div.sk-parallel-item {display: flex;flex-direction: column;z-index: 1;position: relative;background-color: white;}#sk-container-id-1 div.sk-parallel-item:first-child::after {align-self: flex-end;width: 50%;}#sk-container-id-1 div.sk-parallel-item:last-child::after {align-self: flex-start;width: 50%;}#sk-container-id-1 div.sk-parallel-item:only-child::after {width: 0;}#sk-container-id-1 div.sk-dashed-wrapped {border: 1px dashed gray;margin: 0 0.4em 0.5em 0.4em;box-sizing: border-box;padding-bottom: 0.4em;background-color: white;}#sk-container-id-1 div.sk-label label {font-family: monospace;font-weight: bold;display: inline-block;line-height: 1.2em;}#sk-container-id-1 div.sk-label-container {text-align: center;}#sk-container-id-1 div.sk-container {/* jupyter's `normalize.less` sets `[hidden] { display: none; }` but bootstrap.min.css set `[hidden] { display: none !important; }` so we also need the `!important` here to be able to override the default hidden behavior on the sphinx rendered scikit-learn.org. See: https://github.com/scikit-learn/scikit-learn/issues/21755 */display: inline-block !important;position: relative;}#sk-container-id-1 div.sk-text-repr-fallback {display: none;}</style><div id=\"sk-container-id-1\" class=\"sk-top-container\"><div class=\"sk-text-repr-fallback\"><pre>OneHotEncoder()</pre><b>In a Jupyter environment, please rerun this cell to show the HTML representation or trust the notebook. <br />On GitHub, the HTML representation is unable to render, please try loading this page with nbviewer.org.</b></div><div class=\"sk-container\" hidden><div class=\"sk-item\"><div class=\"sk-estimator sk-toggleable\"><input class=\"sk-toggleable__control sk-hidden--visually\" id=\"sk-estimator-id-1\" type=\"checkbox\" checked><label for=\"sk-estimator-id-1\" class=\"sk-toggleable__label sk-toggleable__label-arrow\">OneHotEncoder</label><div class=\"sk-toggleable__content\"><pre>OneHotEncoder()</pre></div></div></div></div></div>"
      ],
      "text/plain": [
       "OneHotEncoder()"
      ]
     },
     "execution_count": 58,
     "metadata": {},
     "output_type": "execute_result"
    }
   ],
   "source": [
    "ohe.fit(df_train[cat_col])"
   ]
  },
  {
   "cell_type": "code",
   "execution_count": 59,
   "id": "8fb98a6b",
   "metadata": {},
   "outputs": [],
   "source": [
    "cat_arr = ohe.transform(df_train[cat_col]).toarray()"
   ]
  },
  {
   "cell_type": "code",
   "execution_count": 60,
   "id": "787bea8a",
   "metadata": {
    "scrolled": true
   },
   "outputs": [
    {
     "data": {
      "text/plain": [
       "array([[0., 0., 0., ..., 0., 0., 0.],\n",
       "       [0., 0., 0., ..., 0., 0., 0.],\n",
       "       [0., 0., 0., ..., 0., 1., 0.],\n",
       "       ...,\n",
       "       [0., 0., 0., ..., 0., 0., 0.],\n",
       "       [0., 0., 0., ..., 0., 0., 0.],\n",
       "       [0., 0., 0., ..., 0., 1., 0.]])"
      ]
     },
     "execution_count": 60,
     "metadata": {},
     "output_type": "execute_result"
    }
   ],
   "source": [
    "cat_arr"
   ]
  },
  {
   "cell_type": "markdown",
   "id": "c04c96c7",
   "metadata": {},
   "source": [
    "### #3.4 Declaring number array"
   ]
  },
  {
   "cell_type": "code",
   "execution_count": 71,
   "id": "762b971b",
   "metadata": {},
   "outputs": [
    {
     "data": {
      "text/plain": [
       "array([[3, 2, 1],\n",
       "       [3, 2, 2],\n",
       "       [2, 2, 1],\n",
       "       ...,\n",
       "       [1, 1, 1],\n",
       "       [3, 2, 2],\n",
       "       [1, 1, 0]], dtype=int64)"
      ]
     },
     "execution_count": 71,
     "metadata": {},
     "output_type": "execute_result"
    }
   ],
   "source": [
    "num_arr = df_train.drop(cat_col + tar_col, axis=1).to_numpy()\n",
    "num_arr"
   ]
  },
  {
   "cell_type": "markdown",
   "id": "dfaffa0c",
   "metadata": {},
   "source": [
    "### #3.5 Convert target to array"
   ]
  },
  {
   "cell_type": "code",
   "execution_count": 72,
   "id": "1084c5cc",
   "metadata": {},
   "outputs": [],
   "source": [
    "tar_arr = df_train.price.to_numpy()\n",
    "tar_arr = tar_arr.reshape(tar_arr.shape[0],1)"
   ]
  },
  {
   "cell_type": "code",
   "execution_count": 73,
   "id": "54e1e5bc",
   "metadata": {},
   "outputs": [
    {
     "data": {
      "text/plain": [
       "array([[1400],\n",
       "       [1700],\n",
       "       [1800],\n",
       "       ...,\n",
       "       [1250],\n",
       "       [3000],\n",
       "       [1300]], dtype=int64)"
      ]
     },
     "execution_count": 73,
     "metadata": {},
     "output_type": "execute_result"
    }
   ],
   "source": [
    "tar_arr"
   ]
  },
  {
   "cell_type": "markdown",
   "id": "dc19483d",
   "metadata": {},
   "source": [
    "### #3.6 Concatenate all arrays"
   ]
  },
  {
   "cell_type": "code",
   "execution_count": 74,
   "id": "2a6e4c36",
   "metadata": {},
   "outputs": [
    {
     "data": {
      "text/plain": [
       "array([[1.40e+03, 3.00e+00, 2.00e+00, ..., 0.00e+00, 0.00e+00, 0.00e+00],\n",
       "       [1.70e+03, 3.00e+00, 2.00e+00, ..., 0.00e+00, 0.00e+00, 0.00e+00],\n",
       "       [1.80e+03, 2.00e+00, 2.00e+00, ..., 0.00e+00, 1.00e+00, 0.00e+00],\n",
       "       ...,\n",
       "       [1.25e+03, 1.00e+00, 1.00e+00, ..., 0.00e+00, 0.00e+00, 0.00e+00],\n",
       "       [3.00e+03, 3.00e+00, 2.00e+00, ..., 0.00e+00, 0.00e+00, 0.00e+00],\n",
       "       [1.30e+03, 1.00e+00, 1.00e+00, ..., 0.00e+00, 1.00e+00, 0.00e+00]])"
      ]
     },
     "execution_count": 74,
     "metadata": {},
     "output_type": "execute_result"
    }
   ],
   "source": [
    "train_arr = np.concatenate((tar_arr,num_arr,cat_arr),axis=1)\n",
    "train_arr"
   ]
  },
  {
   "cell_type": "markdown",
   "id": "0e540c88",
   "metadata": {},
   "source": [
    " ### #4 Algorithm Selection"
   ]
  },
  {
   "cell_type": "markdown",
   "id": "2bfaa83b",
   "metadata": {},
   "source": [
    "Since our target (price) is a continuous numeric variable, we will be using **regression** to solve the problem:\n",
    "- Linear Regression\n",
    "- Decision Tree\n",
    "- Random Forest\n",
    "- Support Vector Machine\n",
    "- K Neighbours"
   ]
  },
  {
   "cell_type": "markdown",
   "id": "625814e4",
   "metadata": {},
   "source": [
    "## #5 Model Training"
   ]
  },
  {
   "cell_type": "code",
   "execution_count": 75,
   "id": "7eb4fbc7",
   "metadata": {},
   "outputs": [],
   "source": [
    "import numpy as np\n",
    "\n",
    "from sklearn.preprocessing import StandardScaler\n",
    "\n",
    "from sklearn.model_selection import train_test_split, cross_val_score, GridSearchCV\n",
    "\n",
    "from sklearn.pipeline import make_pipeline\n",
    "\n",
    "from sklearn.metrics import r2_score, mean_absolute_error, mean_squared_error, mean_absolute_percentage_error\n",
    "from yellowbrick.regressor import PredictionError, ResidualsPlot\n",
    "import matplotlib.pyplot as plt\n",
    "import seaborn as sns\n",
    "\n",
    "from sklearn.linear_model import LinearRegression, Lasso, Ridge, SGDRegressor\n",
    "from sklearn.tree import DecisionTreeRegressor\n",
    "from sklearn.ensemble import RandomForestRegressor, AdaBoostRegressor, BaggingRegressor, GradientBoostingRegressor\n",
    "from sklearn.svm import SVR\n",
    "from sklearn.neighbors import KNeighborsRegressor\n",
    "from sklearn.neural_network import MLPRegressor"
   ]
  },
  {
   "cell_type": "markdown",
   "id": "bc81ae0c",
   "metadata": {},
   "source": [
    "### #5.0 Assigning X and y"
   ]
  },
  {
   "cell_type": "code",
   "execution_count": 76,
   "id": "a6666b4c",
   "metadata": {},
   "outputs": [
    {
     "data": {
      "text/plain": [
       "array([[3., 2., 1., ..., 0., 0., 0.],\n",
       "       [3., 2., 2., ..., 0., 0., 0.],\n",
       "       [2., 2., 1., ..., 0., 1., 0.],\n",
       "       ...,\n",
       "       [1., 1., 1., ..., 0., 0., 0.],\n",
       "       [3., 2., 2., ..., 0., 0., 0.],\n",
       "       [1., 1., 0., ..., 0., 1., 0.]])"
      ]
     },
     "metadata": {},
     "output_type": "display_data"
    },
    {
     "data": {
      "text/plain": [
       "array([1400., 1700., 1800., ..., 1250., 3000., 1300.])"
      ]
     },
     "metadata": {},
     "output_type": "display_data"
    }
   ],
   "source": [
    "X = train_arr[:,1:]\n",
    "display(X)\n",
    "y = train_arr[:,0]\n",
    "display(y)"
   ]
  },
  {
   "cell_type": "markdown",
   "id": "60ce6027",
   "metadata": {},
   "source": [
    "### #5.1 Train Test Split X and y"
   ]
  },
  {
   "cell_type": "code",
   "execution_count": 77,
   "id": "ce72b3f4",
   "metadata": {},
   "outputs": [],
   "source": [
    "X_train, X_test, y_train, y_test = train_test_split(X, y, test_size = 0.2)"
   ]
  },
  {
   "cell_type": "markdown",
   "id": "ab0914e6",
   "metadata": {},
   "source": [
    "### #5.2 Building pipelines"
   ]
  },
  {
   "cell_type": "code",
   "execution_count": 85,
   "id": "ac2f990d",
   "metadata": {},
   "outputs": [],
   "source": [
    "SEED = 42\n",
    "\n",
    "pipelines = {\n",
    "#     'Linear Regression': make_pipeline(LinearRegression()),\n",
    "#     'Ridge': make_pipeline(Ridge(random_state=SEED)), \n",
    "#     'SGD': make_pipeline(SGDRegressor(random_state=SEED)), \n",
    "#     'Lasso': make_pipeline(Lasso(random_state=SEED)),\n",
    "    'Decision Tree': make_pipeline(DecisionTreeRegressor(random_state=SEED)),\n",
    "    'Random Forest': make_pipeline(RandomForestRegressor(random_state=SEED)),\n",
    "    'Support Vector Machine': make_pipeline(SVR()),\n",
    "    'K Neighbors': make_pipeline(KNeighborsRegressor()),\n",
    "#     'Boosting': make_pipeline(AdaBoostRegressor(random_state=SEED)),\n",
    "#     'Bagging': make_pipeline(BaggingRegressor(random_state=SEED)),\n",
    "    'Gradient Boost': make_pipeline(GradientBoostingRegressor(random_state=SEED)),\n",
    "    'Neural Network': make_pipeline(MLPRegressor(random_state=SEED)),\n",
    "}"
   ]
  },
  {
   "cell_type": "markdown",
   "id": "dd282d0b",
   "metadata": {},
   "source": [
    "### #5.3 Find tubeable parameters"
   ]
  },
  {
   "cell_type": "code",
   "execution_count": 86,
   "id": "729952b6",
   "metadata": {},
   "outputs": [
    {
     "data": {
      "text/plain": [
       "{'ccp_alpha': 0.0,\n",
       " 'criterion': 'squared_error',\n",
       " 'max_depth': None,\n",
       " 'max_features': None,\n",
       " 'max_leaf_nodes': None,\n",
       " 'min_impurity_decrease': 0.0,\n",
       " 'min_samples_leaf': 1,\n",
       " 'min_samples_split': 2,\n",
       " 'min_weight_fraction_leaf': 0.0,\n",
       " 'random_state': None,\n",
       " 'splitter': 'best'}"
      ]
     },
     "execution_count": 86,
     "metadata": {},
     "output_type": "execute_result"
    }
   ],
   "source": [
    "DecisionTreeRegressor().get_params()"
   ]
  },
  {
   "cell_type": "code",
   "execution_count": 87,
   "id": "22fa275f",
   "metadata": {
    "scrolled": true
   },
   "outputs": [
    {
     "name": "stdout",
     "output_type": "stream",
     "text": [
      "Decision Tree\n"
     ]
    },
    {
     "data": {
      "text/plain": [
       "{'memory': None,\n",
       " 'steps': [('decisiontreeregressor', DecisionTreeRegressor(random_state=42))],\n",
       " 'verbose': False,\n",
       " 'decisiontreeregressor': DecisionTreeRegressor(random_state=42),\n",
       " 'decisiontreeregressor__ccp_alpha': 0.0,\n",
       " 'decisiontreeregressor__criterion': 'squared_error',\n",
       " 'decisiontreeregressor__max_depth': None,\n",
       " 'decisiontreeregressor__max_features': None,\n",
       " 'decisiontreeregressor__max_leaf_nodes': None,\n",
       " 'decisiontreeregressor__min_impurity_decrease': 0.0,\n",
       " 'decisiontreeregressor__min_samples_leaf': 1,\n",
       " 'decisiontreeregressor__min_samples_split': 2,\n",
       " 'decisiontreeregressor__min_weight_fraction_leaf': 0.0,\n",
       " 'decisiontreeregressor__random_state': 42,\n",
       " 'decisiontreeregressor__splitter': 'best'}"
      ]
     },
     "metadata": {},
     "output_type": "display_data"
    },
    {
     "name": "stdout",
     "output_type": "stream",
     "text": [
      "Random Forest\n"
     ]
    },
    {
     "data": {
      "text/plain": [
       "{'memory': None,\n",
       " 'steps': [('randomforestregressor', RandomForestRegressor(random_state=42))],\n",
       " 'verbose': False,\n",
       " 'randomforestregressor': RandomForestRegressor(random_state=42),\n",
       " 'randomforestregressor__bootstrap': True,\n",
       " 'randomforestregressor__ccp_alpha': 0.0,\n",
       " 'randomforestregressor__criterion': 'squared_error',\n",
       " 'randomforestregressor__max_depth': None,\n",
       " 'randomforestregressor__max_features': 1.0,\n",
       " 'randomforestregressor__max_leaf_nodes': None,\n",
       " 'randomforestregressor__max_samples': None,\n",
       " 'randomforestregressor__min_impurity_decrease': 0.0,\n",
       " 'randomforestregressor__min_samples_leaf': 1,\n",
       " 'randomforestregressor__min_samples_split': 2,\n",
       " 'randomforestregressor__min_weight_fraction_leaf': 0.0,\n",
       " 'randomforestregressor__n_estimators': 100,\n",
       " 'randomforestregressor__n_jobs': None,\n",
       " 'randomforestregressor__oob_score': False,\n",
       " 'randomforestregressor__random_state': 42,\n",
       " 'randomforestregressor__verbose': 0,\n",
       " 'randomforestregressor__warm_start': False}"
      ]
     },
     "metadata": {},
     "output_type": "display_data"
    },
    {
     "name": "stdout",
     "output_type": "stream",
     "text": [
      "Support Vector Machine\n"
     ]
    },
    {
     "data": {
      "text/plain": [
       "{'memory': None,\n",
       " 'steps': [('svr', SVR())],\n",
       " 'verbose': False,\n",
       " 'svr': SVR(),\n",
       " 'svr__C': 1.0,\n",
       " 'svr__cache_size': 200,\n",
       " 'svr__coef0': 0.0,\n",
       " 'svr__degree': 3,\n",
       " 'svr__epsilon': 0.1,\n",
       " 'svr__gamma': 'scale',\n",
       " 'svr__kernel': 'rbf',\n",
       " 'svr__max_iter': -1,\n",
       " 'svr__shrinking': True,\n",
       " 'svr__tol': 0.001,\n",
       " 'svr__verbose': False}"
      ]
     },
     "metadata": {},
     "output_type": "display_data"
    },
    {
     "name": "stdout",
     "output_type": "stream",
     "text": [
      "K Neighbors\n"
     ]
    },
    {
     "data": {
      "text/plain": [
       "{'memory': None,\n",
       " 'steps': [('kneighborsregressor', KNeighborsRegressor())],\n",
       " 'verbose': False,\n",
       " 'kneighborsregressor': KNeighborsRegressor(),\n",
       " 'kneighborsregressor__algorithm': 'auto',\n",
       " 'kneighborsregressor__leaf_size': 30,\n",
       " 'kneighborsregressor__metric': 'minkowski',\n",
       " 'kneighborsregressor__metric_params': None,\n",
       " 'kneighborsregressor__n_jobs': None,\n",
       " 'kneighborsregressor__n_neighbors': 5,\n",
       " 'kneighborsregressor__p': 2,\n",
       " 'kneighborsregressor__weights': 'uniform'}"
      ]
     },
     "metadata": {},
     "output_type": "display_data"
    },
    {
     "name": "stdout",
     "output_type": "stream",
     "text": [
      "Gradient Boost\n"
     ]
    },
    {
     "data": {
      "text/plain": [
       "{'memory': None,\n",
       " 'steps': [('gradientboostingregressor',\n",
       "   GradientBoostingRegressor(random_state=42))],\n",
       " 'verbose': False,\n",
       " 'gradientboostingregressor': GradientBoostingRegressor(random_state=42),\n",
       " 'gradientboostingregressor__alpha': 0.9,\n",
       " 'gradientboostingregressor__ccp_alpha': 0.0,\n",
       " 'gradientboostingregressor__criterion': 'friedman_mse',\n",
       " 'gradientboostingregressor__init': None,\n",
       " 'gradientboostingregressor__learning_rate': 0.1,\n",
       " 'gradientboostingregressor__loss': 'squared_error',\n",
       " 'gradientboostingregressor__max_depth': 3,\n",
       " 'gradientboostingregressor__max_features': None,\n",
       " 'gradientboostingregressor__max_leaf_nodes': None,\n",
       " 'gradientboostingregressor__min_impurity_decrease': 0.0,\n",
       " 'gradientboostingregressor__min_samples_leaf': 1,\n",
       " 'gradientboostingregressor__min_samples_split': 2,\n",
       " 'gradientboostingregressor__min_weight_fraction_leaf': 0.0,\n",
       " 'gradientboostingregressor__n_estimators': 100,\n",
       " 'gradientboostingregressor__n_iter_no_change': None,\n",
       " 'gradientboostingregressor__random_state': 42,\n",
       " 'gradientboostingregressor__subsample': 1.0,\n",
       " 'gradientboostingregressor__tol': 0.0001,\n",
       " 'gradientboostingregressor__validation_fraction': 0.1,\n",
       " 'gradientboostingregressor__verbose': 0,\n",
       " 'gradientboostingregressor__warm_start': False}"
      ]
     },
     "metadata": {},
     "output_type": "display_data"
    },
    {
     "name": "stdout",
     "output_type": "stream",
     "text": [
      "Neural Network\n"
     ]
    },
    {
     "data": {
      "text/plain": [
       "{'memory': None,\n",
       " 'steps': [('mlpregressor', MLPRegressor(random_state=42))],\n",
       " 'verbose': False,\n",
       " 'mlpregressor': MLPRegressor(random_state=42),\n",
       " 'mlpregressor__activation': 'relu',\n",
       " 'mlpregressor__alpha': 0.0001,\n",
       " 'mlpregressor__batch_size': 'auto',\n",
       " 'mlpregressor__beta_1': 0.9,\n",
       " 'mlpregressor__beta_2': 0.999,\n",
       " 'mlpregressor__early_stopping': False,\n",
       " 'mlpregressor__epsilon': 1e-08,\n",
       " 'mlpregressor__hidden_layer_sizes': (100,),\n",
       " 'mlpregressor__learning_rate': 'constant',\n",
       " 'mlpregressor__learning_rate_init': 0.001,\n",
       " 'mlpregressor__max_fun': 15000,\n",
       " 'mlpregressor__max_iter': 200,\n",
       " 'mlpregressor__momentum': 0.9,\n",
       " 'mlpregressor__n_iter_no_change': 10,\n",
       " 'mlpregressor__nesterovs_momentum': True,\n",
       " 'mlpregressor__power_t': 0.5,\n",
       " 'mlpregressor__random_state': 42,\n",
       " 'mlpregressor__shuffle': True,\n",
       " 'mlpregressor__solver': 'adam',\n",
       " 'mlpregressor__tol': 0.0001,\n",
       " 'mlpregressor__validation_fraction': 0.1,\n",
       " 'mlpregressor__verbose': False,\n",
       " 'mlpregressor__warm_start': False}"
      ]
     },
     "metadata": {},
     "output_type": "display_data"
    }
   ],
   "source": [
    "for model, pipeline in pipelines.items():\n",
    "    print(model)\n",
    "    display(pipeline.get_params())"
   ]
  },
  {
   "cell_type": "code",
   "execution_count": 90,
   "id": "79373199",
   "metadata": {},
   "outputs": [],
   "source": [
    "# lr_hyperparameters = {}\n",
    "\n",
    "# ridge_hyperparameters = {}\n",
    "\n",
    "# sgd_hyperparameters = {}\n",
    "\n",
    "# lasso_hyperparameters = {}\n",
    "\n",
    "dt_hyperparameters = {\n",
    "    'decisiontreeregressor__max_depth': [3,4,5,6,7],\n",
    "    'decisiontreeregressor__max_leaf_nodes': [2,3,4,5],\n",
    "    'decisiontreeregressor__max_features': [\"sqrt\"],\n",
    "}\n",
    "\n",
    "rf_hyperparameters = {\n",
    "    'randomforestregressor__max_depth': [3,4,5,6,7],\n",
    "    'randomforestregressor__max_leaf_nodes': [2,3,4,5],\n",
    "    'randomforestregressor__n_estimators' : [100, 200],\n",
    "    'randomforestregressor__max_features' : [\"sqrt\"],\n",
    "}\n",
    "\n",
    "# svr_hyperparamters = {}\n",
    "\n",
    "# kn_hyperparameters = {}\n",
    "\n",
    "# boo_hyperparamater = {}\n",
    "\n",
    "# bag_hyperparameter = {}\n",
    "\n",
    "gb_hyperparameters = {\n",
    "    'gradientboostingregressor__n_estimators' : [100, 200],\n",
    "    'gradientboostingregressor__learning_rate' : [0.05, 0.1, 0.2],\n",
    "    'gradientboostingregressor__max_depth' : [1, 3, 5],\n",
    "}\n",
    "\n",
    "nn_hyperparameters = {'mlpregressor__hidden_layer_sizes' : [(80,40,20,10),(40,20,10),(20,10)]}\n",
    "\n",
    "hyperparameters = {\n",
    "#     'Linear Regression': lr_hyperparameters,\n",
    "#     'Ridge': ridge_hyperparameters,\n",
    "#     'SGD': sgd_hyperparameters,\n",
    "#     'Lasso': lasso_hyperparameters,\n",
    "    'Decision Tree': dt_hyperparameters,\n",
    "    'Random Forest': rf_hyperparameters,\n",
    "    'Support Vector Machine': svr_hyperparamters,\n",
    "    'K Neighbors': kn_hyperparameters,\n",
    "#     'Boosting': boo_hyperparamater,\n",
    "#     'Bagging': bag_hyperparameter,\n",
    "    'Gradient Boost': gb_hyperparameters,\n",
    "    'Neural Network': nn_hyperparameters,\n",
    "}"
   ]
  },
  {
   "cell_type": "markdown",
   "id": "bed3b37d",
   "metadata": {},
   "source": [
    "### #5.4 Fit and tune models with cross validation"
   ]
  },
  {
   "cell_type": "code",
   "execution_count": 91,
   "id": "ae8c61d1",
   "metadata": {},
   "outputs": [
    {
     "name": "stdout",
     "output_type": "stream",
     "text": [
      "Decision Tree\n",
      "Fitting 5 folds for each of 20 candidates, totalling 100 fits\n",
      "============================================================\n",
      "Random Forest\n",
      "Fitting 5 folds for each of 40 candidates, totalling 200 fits\n",
      "============================================================\n",
      "Support Vector Machine\n",
      "Fitting 5 folds for each of 1 candidates, totalling 5 fits\n",
      "============================================================\n",
      "K Neighbors\n",
      "Fitting 5 folds for each of 1 candidates, totalling 5 fits\n"
     ]
    },
    {
     "name": "stderr",
     "output_type": "stream",
     "text": [
      "C:\\Users\\DS\\AppData\\Roaming\\Python\\Python39\\site-packages\\sklearn\\model_selection\\_search.py:953: UserWarning: One or more of the test scores are non-finite: [nan]\n",
      "  warnings.warn(\n"
     ]
    },
    {
     "name": "stdout",
     "output_type": "stream",
     "text": [
      "============================================================\n",
      "Gradient Boost\n",
      "Fitting 5 folds for each of 18 candidates, totalling 90 fits\n",
      "============================================================\n",
      "Neural Network\n",
      "Fitting 5 folds for each of 3 candidates, totalling 15 fits\n",
      "============================================================\n"
     ]
    },
    {
     "name": "stderr",
     "output_type": "stream",
     "text": [
      "C:\\Users\\DS\\AppData\\Roaming\\Python\\Python39\\site-packages\\sklearn\\neural_network\\_multilayer_perceptron.py:702: ConvergenceWarning: Stochastic Optimizer: Maximum iterations (200) reached and the optimization hasn't converged yet.\n",
      "  warnings.warn(\n"
     ]
    }
   ],
   "source": [
    "fitted_model = {}\n",
    "\n",
    "for name, pipeline in pipelines.items():\n",
    "    print(name)\n",
    "    model = GridSearchCV(pipeline, hyperparameters[name], cv=5, n_jobs=-1, verbose=4)\n",
    "    model.fit(X_train, y_train)\n",
    "    \n",
    "    fitted_model[name] = model\n",
    "    print('==='*20)"
   ]
  },
  {
   "cell_type": "code",
   "execution_count": 92,
   "id": "aafe70d9",
   "metadata": {},
   "outputs": [
    {
     "name": "stdout",
     "output_type": "stream",
     "text": [
      "Decision Tree\n"
     ]
    },
    {
     "data": {
      "text/plain": [
       "{'cv': 5,\n",
       " 'error_score': nan,\n",
       " 'estimator__memory': None,\n",
       " 'estimator__steps': [('decisiontreeregressor',\n",
       "   DecisionTreeRegressor(random_state=42))],\n",
       " 'estimator__verbose': False,\n",
       " 'estimator__decisiontreeregressor': DecisionTreeRegressor(random_state=42),\n",
       " 'estimator__decisiontreeregressor__ccp_alpha': 0.0,\n",
       " 'estimator__decisiontreeregressor__criterion': 'squared_error',\n",
       " 'estimator__decisiontreeregressor__max_depth': None,\n",
       " 'estimator__decisiontreeregressor__max_features': None,\n",
       " 'estimator__decisiontreeregressor__max_leaf_nodes': None,\n",
       " 'estimator__decisiontreeregressor__min_impurity_decrease': 0.0,\n",
       " 'estimator__decisiontreeregressor__min_samples_leaf': 1,\n",
       " 'estimator__decisiontreeregressor__min_samples_split': 2,\n",
       " 'estimator__decisiontreeregressor__min_weight_fraction_leaf': 0.0,\n",
       " 'estimator__decisiontreeregressor__random_state': 42,\n",
       " 'estimator__decisiontreeregressor__splitter': 'best',\n",
       " 'estimator': Pipeline(steps=[('decisiontreeregressor',\n",
       "                  DecisionTreeRegressor(random_state=42))]),\n",
       " 'n_jobs': -1,\n",
       " 'param_grid': {'decisiontreeregressor__max_depth': [3, 4, 5, 6, 7],\n",
       "  'decisiontreeregressor__max_leaf_nodes': [2, 3, 4, 5],\n",
       "  'decisiontreeregressor__max_features': ['sqrt']},\n",
       " 'pre_dispatch': '2*n_jobs',\n",
       " 'refit': True,\n",
       " 'return_train_score': False,\n",
       " 'scoring': None,\n",
       " 'verbose': 4}"
      ]
     },
     "metadata": {},
     "output_type": "display_data"
    },
    {
     "name": "stdout",
     "output_type": "stream",
     "text": [
      "Random Forest\n"
     ]
    },
    {
     "data": {
      "text/plain": [
       "{'cv': 5,\n",
       " 'error_score': nan,\n",
       " 'estimator__memory': None,\n",
       " 'estimator__steps': [('randomforestregressor',\n",
       "   RandomForestRegressor(random_state=42))],\n",
       " 'estimator__verbose': False,\n",
       " 'estimator__randomforestregressor': RandomForestRegressor(random_state=42),\n",
       " 'estimator__randomforestregressor__bootstrap': True,\n",
       " 'estimator__randomforestregressor__ccp_alpha': 0.0,\n",
       " 'estimator__randomforestregressor__criterion': 'squared_error',\n",
       " 'estimator__randomforestregressor__max_depth': None,\n",
       " 'estimator__randomforestregressor__max_features': 1.0,\n",
       " 'estimator__randomforestregressor__max_leaf_nodes': None,\n",
       " 'estimator__randomforestregressor__max_samples': None,\n",
       " 'estimator__randomforestregressor__min_impurity_decrease': 0.0,\n",
       " 'estimator__randomforestregressor__min_samples_leaf': 1,\n",
       " 'estimator__randomforestregressor__min_samples_split': 2,\n",
       " 'estimator__randomforestregressor__min_weight_fraction_leaf': 0.0,\n",
       " 'estimator__randomforestregressor__n_estimators': 100,\n",
       " 'estimator__randomforestregressor__n_jobs': None,\n",
       " 'estimator__randomforestregressor__oob_score': False,\n",
       " 'estimator__randomforestregressor__random_state': 42,\n",
       " 'estimator__randomforestregressor__verbose': 0,\n",
       " 'estimator__randomforestregressor__warm_start': False,\n",
       " 'estimator': Pipeline(steps=[('randomforestregressor',\n",
       "                  RandomForestRegressor(random_state=42))]),\n",
       " 'n_jobs': -1,\n",
       " 'param_grid': {'randomforestregressor__max_depth': [3, 4, 5, 6, 7],\n",
       "  'randomforestregressor__max_leaf_nodes': [2, 3, 4, 5],\n",
       "  'randomforestregressor__n_estimators': [100, 200],\n",
       "  'randomforestregressor__max_features': ['sqrt']},\n",
       " 'pre_dispatch': '2*n_jobs',\n",
       " 'refit': True,\n",
       " 'return_train_score': False,\n",
       " 'scoring': None,\n",
       " 'verbose': 4}"
      ]
     },
     "metadata": {},
     "output_type": "display_data"
    },
    {
     "name": "stdout",
     "output_type": "stream",
     "text": [
      "Support Vector Machine\n"
     ]
    },
    {
     "data": {
      "text/plain": [
       "{'cv': 5,\n",
       " 'error_score': nan,\n",
       " 'estimator__memory': None,\n",
       " 'estimator__steps': [('svr', SVR())],\n",
       " 'estimator__verbose': False,\n",
       " 'estimator__svr': SVR(),\n",
       " 'estimator__svr__C': 1.0,\n",
       " 'estimator__svr__cache_size': 200,\n",
       " 'estimator__svr__coef0': 0.0,\n",
       " 'estimator__svr__degree': 3,\n",
       " 'estimator__svr__epsilon': 0.1,\n",
       " 'estimator__svr__gamma': 'scale',\n",
       " 'estimator__svr__kernel': 'rbf',\n",
       " 'estimator__svr__max_iter': -1,\n",
       " 'estimator__svr__shrinking': True,\n",
       " 'estimator__svr__tol': 0.001,\n",
       " 'estimator__svr__verbose': False,\n",
       " 'estimator': Pipeline(steps=[('svr', SVR())]),\n",
       " 'n_jobs': -1,\n",
       " 'param_grid': {},\n",
       " 'pre_dispatch': '2*n_jobs',\n",
       " 'refit': True,\n",
       " 'return_train_score': False,\n",
       " 'scoring': None,\n",
       " 'verbose': 4}"
      ]
     },
     "metadata": {},
     "output_type": "display_data"
    },
    {
     "name": "stdout",
     "output_type": "stream",
     "text": [
      "K Neighbors\n"
     ]
    },
    {
     "data": {
      "text/plain": [
       "{'cv': 5,\n",
       " 'error_score': nan,\n",
       " 'estimator__memory': None,\n",
       " 'estimator__steps': [('kneighborsregressor', KNeighborsRegressor())],\n",
       " 'estimator__verbose': False,\n",
       " 'estimator__kneighborsregressor': KNeighborsRegressor(),\n",
       " 'estimator__kneighborsregressor__algorithm': 'auto',\n",
       " 'estimator__kneighborsregressor__leaf_size': 30,\n",
       " 'estimator__kneighborsregressor__metric': 'minkowski',\n",
       " 'estimator__kneighborsregressor__metric_params': None,\n",
       " 'estimator__kneighborsregressor__n_jobs': None,\n",
       " 'estimator__kneighborsregressor__n_neighbors': 5,\n",
       " 'estimator__kneighborsregressor__p': 2,\n",
       " 'estimator__kneighborsregressor__weights': 'uniform',\n",
       " 'estimator': Pipeline(steps=[('kneighborsregressor', KNeighborsRegressor())]),\n",
       " 'n_jobs': -1,\n",
       " 'param_grid': {},\n",
       " 'pre_dispatch': '2*n_jobs',\n",
       " 'refit': True,\n",
       " 'return_train_score': False,\n",
       " 'scoring': None,\n",
       " 'verbose': 4}"
      ]
     },
     "metadata": {},
     "output_type": "display_data"
    },
    {
     "name": "stdout",
     "output_type": "stream",
     "text": [
      "Gradient Boost\n"
     ]
    },
    {
     "data": {
      "text/plain": [
       "{'cv': 5,\n",
       " 'error_score': nan,\n",
       " 'estimator__memory': None,\n",
       " 'estimator__steps': [('gradientboostingregressor',\n",
       "   GradientBoostingRegressor(random_state=42))],\n",
       " 'estimator__verbose': False,\n",
       " 'estimator__gradientboostingregressor': GradientBoostingRegressor(random_state=42),\n",
       " 'estimator__gradientboostingregressor__alpha': 0.9,\n",
       " 'estimator__gradientboostingregressor__ccp_alpha': 0.0,\n",
       " 'estimator__gradientboostingregressor__criterion': 'friedman_mse',\n",
       " 'estimator__gradientboostingregressor__init': None,\n",
       " 'estimator__gradientboostingregressor__learning_rate': 0.1,\n",
       " 'estimator__gradientboostingregressor__loss': 'squared_error',\n",
       " 'estimator__gradientboostingregressor__max_depth': 3,\n",
       " 'estimator__gradientboostingregressor__max_features': None,\n",
       " 'estimator__gradientboostingregressor__max_leaf_nodes': None,\n",
       " 'estimator__gradientboostingregressor__min_impurity_decrease': 0.0,\n",
       " 'estimator__gradientboostingregressor__min_samples_leaf': 1,\n",
       " 'estimator__gradientboostingregressor__min_samples_split': 2,\n",
       " 'estimator__gradientboostingregressor__min_weight_fraction_leaf': 0.0,\n",
       " 'estimator__gradientboostingregressor__n_estimators': 100,\n",
       " 'estimator__gradientboostingregressor__n_iter_no_change': None,\n",
       " 'estimator__gradientboostingregressor__random_state': 42,\n",
       " 'estimator__gradientboostingregressor__subsample': 1.0,\n",
       " 'estimator__gradientboostingregressor__tol': 0.0001,\n",
       " 'estimator__gradientboostingregressor__validation_fraction': 0.1,\n",
       " 'estimator__gradientboostingregressor__verbose': 0,\n",
       " 'estimator__gradientboostingregressor__warm_start': False,\n",
       " 'estimator': Pipeline(steps=[('gradientboostingregressor',\n",
       "                  GradientBoostingRegressor(random_state=42))]),\n",
       " 'n_jobs': -1,\n",
       " 'param_grid': {'gradientboostingregressor__n_estimators': [100, 200],\n",
       "  'gradientboostingregressor__learning_rate': [0.05, 0.1, 0.2],\n",
       "  'gradientboostingregressor__max_depth': [1, 3, 5]},\n",
       " 'pre_dispatch': '2*n_jobs',\n",
       " 'refit': True,\n",
       " 'return_train_score': False,\n",
       " 'scoring': None,\n",
       " 'verbose': 4}"
      ]
     },
     "metadata": {},
     "output_type": "display_data"
    },
    {
     "name": "stdout",
     "output_type": "stream",
     "text": [
      "Neural Network\n"
     ]
    },
    {
     "data": {
      "text/plain": [
       "{'cv': 5,\n",
       " 'error_score': nan,\n",
       " 'estimator__memory': None,\n",
       " 'estimator__steps': [('mlpregressor', MLPRegressor(random_state=42))],\n",
       " 'estimator__verbose': False,\n",
       " 'estimator__mlpregressor': MLPRegressor(random_state=42),\n",
       " 'estimator__mlpregressor__activation': 'relu',\n",
       " 'estimator__mlpregressor__alpha': 0.0001,\n",
       " 'estimator__mlpregressor__batch_size': 'auto',\n",
       " 'estimator__mlpregressor__beta_1': 0.9,\n",
       " 'estimator__mlpregressor__beta_2': 0.999,\n",
       " 'estimator__mlpregressor__early_stopping': False,\n",
       " 'estimator__mlpregressor__epsilon': 1e-08,\n",
       " 'estimator__mlpregressor__hidden_layer_sizes': (100,),\n",
       " 'estimator__mlpregressor__learning_rate': 'constant',\n",
       " 'estimator__mlpregressor__learning_rate_init': 0.001,\n",
       " 'estimator__mlpregressor__max_fun': 15000,\n",
       " 'estimator__mlpregressor__max_iter': 200,\n",
       " 'estimator__mlpregressor__momentum': 0.9,\n",
       " 'estimator__mlpregressor__n_iter_no_change': 10,\n",
       " 'estimator__mlpregressor__nesterovs_momentum': True,\n",
       " 'estimator__mlpregressor__power_t': 0.5,\n",
       " 'estimator__mlpregressor__random_state': 42,\n",
       " 'estimator__mlpregressor__shuffle': True,\n",
       " 'estimator__mlpregressor__solver': 'adam',\n",
       " 'estimator__mlpregressor__tol': 0.0001,\n",
       " 'estimator__mlpregressor__validation_fraction': 0.1,\n",
       " 'estimator__mlpregressor__verbose': False,\n",
       " 'estimator__mlpregressor__warm_start': False,\n",
       " 'estimator': Pipeline(steps=[('mlpregressor', MLPRegressor(random_state=42))]),\n",
       " 'n_jobs': -1,\n",
       " 'param_grid': {'mlpregressor__hidden_layer_sizes': [(80, 40, 20, 10),\n",
       "   (40, 20, 10),\n",
       "   (20, 10)]},\n",
       " 'pre_dispatch': '2*n_jobs',\n",
       " 'refit': True,\n",
       " 'return_train_score': False,\n",
       " 'scoring': None,\n",
       " 'verbose': 4}"
      ]
     },
     "metadata": {},
     "output_type": "display_data"
    }
   ],
   "source": [
    "for model, pipeline in fitted_model.items():\n",
    "    print(model)\n",
    "    display(pipeline.get_params())"
   ]
  },
  {
   "cell_type": "code",
   "execution_count": 93,
   "id": "5d340640",
   "metadata": {
    "scrolled": true
   },
   "outputs": [
    {
     "name": "stdout",
     "output_type": "stream",
     "text": [
      "Decision Tree <class 'sklearn.model_selection._search.GridSearchCV'>\n",
      "Random Forest <class 'sklearn.model_selection._search.GridSearchCV'>\n",
      "Support Vector Machine <class 'sklearn.model_selection._search.GridSearchCV'>\n",
      "K Neighbors <class 'sklearn.model_selection._search.GridSearchCV'>\n",
      "Gradient Boost <class 'sklearn.model_selection._search.GridSearchCV'>\n",
      "Neural Network <class 'sklearn.model_selection._search.GridSearchCV'>\n"
     ]
    }
   ],
   "source": [
    "for key, value in fitted_model.items():\n",
    "    print(key, type(value))"
   ]
  },
  {
   "cell_type": "code",
   "execution_count": 94,
   "id": "a8a8f78a",
   "metadata": {},
   "outputs": [
    {
     "name": "stdout",
     "output_type": "stream",
     "text": [
      "Decision Tree , Train Score : 0.31836604565086646\n",
      "Decision Tree , Test Score : 0.3253545484280205\n",
      "\n",
      "Random Forest , Train Score : 0.30062181797994514\n",
      "Random Forest , Test Score : 0.31382494118344284\n",
      "\n",
      "Support Vector Machine , Train Score : 0.02220819446312361\n",
      "Support Vector Machine , Test Score : 0.03003204314043484\n",
      "\n"
     ]
    },
    {
     "ename": "AttributeError",
     "evalue": "'NoneType' object has no attribute 'split'",
     "output_type": "error",
     "traceback": [
      "\u001b[1;31m---------------------------------------------------------------------------\u001b[0m",
      "\u001b[1;31mAttributeError\u001b[0m                            Traceback (most recent call last)",
      "Input \u001b[1;32mIn [94]\u001b[0m, in \u001b[0;36m<cell line: 1>\u001b[1;34m()\u001b[0m\n\u001b[0;32m      1\u001b[0m \u001b[38;5;28;01mfor\u001b[39;00m name, model \u001b[38;5;129;01min\u001b[39;00m fitted_model\u001b[38;5;241m.\u001b[39mitems():\n\u001b[1;32m----> 2\u001b[0m     \u001b[38;5;28mprint\u001b[39m(name,\u001b[38;5;124m'\u001b[39m\u001b[38;5;124m, Train Score :\u001b[39m\u001b[38;5;124m'\u001b[39m, \u001b[43mmodel\u001b[49m\u001b[38;5;241;43m.\u001b[39;49m\u001b[43mscore\u001b[49m\u001b[43m(\u001b[49m\u001b[43mX_train\u001b[49m\u001b[43m,\u001b[49m\u001b[43my_train\u001b[49m\u001b[43m)\u001b[49m)\n\u001b[0;32m      3\u001b[0m     \u001b[38;5;28mprint\u001b[39m(name,\u001b[38;5;124m'\u001b[39m\u001b[38;5;124m, Test Score :\u001b[39m\u001b[38;5;124m'\u001b[39m, model\u001b[38;5;241m.\u001b[39mscore(X_test,y_test))\n\u001b[0;32m      4\u001b[0m     \u001b[38;5;28mprint\u001b[39m(\u001b[38;5;124m'\u001b[39m\u001b[38;5;124m'\u001b[39m)\n",
      "File \u001b[1;32m~\\AppData\\Roaming\\Python\\Python39\\site-packages\\sklearn\\model_selection\\_search.py:452\u001b[0m, in \u001b[0;36mBaseSearchCV.score\u001b[1;34m(self, X, y)\u001b[0m\n\u001b[0;32m    449\u001b[0m     \u001b[38;5;28;01mreturn\u001b[39;00m scorer(\u001b[38;5;28mself\u001b[39m\u001b[38;5;241m.\u001b[39mbest_estimator_, X, y)\n\u001b[0;32m    451\u001b[0m \u001b[38;5;66;03m# callable\u001b[39;00m\n\u001b[1;32m--> 452\u001b[0m score \u001b[38;5;241m=\u001b[39m \u001b[38;5;28;43mself\u001b[39;49m\u001b[38;5;241;43m.\u001b[39;49m\u001b[43mscorer_\u001b[49m\u001b[43m(\u001b[49m\u001b[38;5;28;43mself\u001b[39;49m\u001b[38;5;241;43m.\u001b[39;49m\u001b[43mbest_estimator_\u001b[49m\u001b[43m,\u001b[49m\u001b[43m \u001b[49m\u001b[43mX\u001b[49m\u001b[43m,\u001b[49m\u001b[43m \u001b[49m\u001b[43my\u001b[49m\u001b[43m)\u001b[49m\n\u001b[0;32m    453\u001b[0m \u001b[38;5;28;01mif\u001b[39;00m \u001b[38;5;28mself\u001b[39m\u001b[38;5;241m.\u001b[39mmultimetric_:\n\u001b[0;32m    454\u001b[0m     score \u001b[38;5;241m=\u001b[39m score[\u001b[38;5;28mself\u001b[39m\u001b[38;5;241m.\u001b[39mrefit]\n",
      "File \u001b[1;32m~\\AppData\\Roaming\\Python\\Python39\\site-packages\\sklearn\\metrics\\_scorer.py:429\u001b[0m, in \u001b[0;36m_passthrough_scorer\u001b[1;34m(estimator, *args, **kwargs)\u001b[0m\n\u001b[0;32m    427\u001b[0m \u001b[38;5;28;01mdef\u001b[39;00m \u001b[38;5;21m_passthrough_scorer\u001b[39m(estimator, \u001b[38;5;241m*\u001b[39margs, \u001b[38;5;241m*\u001b[39m\u001b[38;5;241m*\u001b[39mkwargs):\n\u001b[0;32m    428\u001b[0m     \u001b[38;5;124;03m\"\"\"Function that wraps estimator.score\"\"\"\u001b[39;00m\n\u001b[1;32m--> 429\u001b[0m     \u001b[38;5;28;01mreturn\u001b[39;00m estimator\u001b[38;5;241m.\u001b[39mscore(\u001b[38;5;241m*\u001b[39margs, \u001b[38;5;241m*\u001b[39m\u001b[38;5;241m*\u001b[39mkwargs)\n",
      "File \u001b[1;32m~\\AppData\\Roaming\\Python\\Python39\\site-packages\\sklearn\\pipeline.py:699\u001b[0m, in \u001b[0;36mPipeline.score\u001b[1;34m(self, X, y, sample_weight)\u001b[0m\n\u001b[0;32m    697\u001b[0m \u001b[38;5;28;01mif\u001b[39;00m sample_weight \u001b[38;5;129;01mis\u001b[39;00m \u001b[38;5;129;01mnot\u001b[39;00m \u001b[38;5;28;01mNone\u001b[39;00m:\n\u001b[0;32m    698\u001b[0m     score_params[\u001b[38;5;124m\"\u001b[39m\u001b[38;5;124msample_weight\u001b[39m\u001b[38;5;124m\"\u001b[39m] \u001b[38;5;241m=\u001b[39m sample_weight\n\u001b[1;32m--> 699\u001b[0m \u001b[38;5;28;01mreturn\u001b[39;00m \u001b[38;5;28mself\u001b[39m\u001b[38;5;241m.\u001b[39msteps[\u001b[38;5;241m-\u001b[39m\u001b[38;5;241m1\u001b[39m][\u001b[38;5;241m1\u001b[39m]\u001b[38;5;241m.\u001b[39mscore(Xt, y, \u001b[38;5;241m*\u001b[39m\u001b[38;5;241m*\u001b[39mscore_params)\n",
      "File \u001b[1;32m~\\AppData\\Roaming\\Python\\Python39\\site-packages\\sklearn\\base.py:720\u001b[0m, in \u001b[0;36mRegressorMixin.score\u001b[1;34m(self, X, y, sample_weight)\u001b[0m\n\u001b[0;32m    678\u001b[0m \u001b[38;5;124;03m\"\"\"Return the coefficient of determination of the prediction.\u001b[39;00m\n\u001b[0;32m    679\u001b[0m \n\u001b[0;32m    680\u001b[0m \u001b[38;5;124;03mThe coefficient of determination :math:`R^2` is defined as\u001b[39;00m\n\u001b[1;32m   (...)\u001b[0m\n\u001b[0;32m    715\u001b[0m \u001b[38;5;124;03m:class:`~sklearn.multioutput.MultiOutputRegressor`).\u001b[39;00m\n\u001b[0;32m    716\u001b[0m \u001b[38;5;124;03m\"\"\"\u001b[39;00m\n\u001b[0;32m    718\u001b[0m \u001b[38;5;28;01mfrom\u001b[39;00m \u001b[38;5;21;01m.\u001b[39;00m\u001b[38;5;21;01mmetrics\u001b[39;00m \u001b[38;5;28;01mimport\u001b[39;00m r2_score\n\u001b[1;32m--> 720\u001b[0m y_pred \u001b[38;5;241m=\u001b[39m \u001b[38;5;28;43mself\u001b[39;49m\u001b[38;5;241;43m.\u001b[39;49m\u001b[43mpredict\u001b[49m\u001b[43m(\u001b[49m\u001b[43mX\u001b[49m\u001b[43m)\u001b[49m\n\u001b[0;32m    721\u001b[0m \u001b[38;5;28;01mreturn\u001b[39;00m r2_score(y, y_pred, sample_weight\u001b[38;5;241m=\u001b[39msample_weight)\n",
      "File \u001b[1;32m~\\AppData\\Roaming\\Python\\Python39\\site-packages\\sklearn\\neighbors\\_regression.py:229\u001b[0m, in \u001b[0;36mKNeighborsRegressor.predict\u001b[1;34m(self, X)\u001b[0m\n\u001b[0;32m    213\u001b[0m \u001b[38;5;124;03m\"\"\"Predict the target for the provided data.\u001b[39;00m\n\u001b[0;32m    214\u001b[0m \n\u001b[0;32m    215\u001b[0m \u001b[38;5;124;03mParameters\u001b[39;00m\n\u001b[1;32m   (...)\u001b[0m\n\u001b[0;32m    224\u001b[0m \u001b[38;5;124;03m    Target values.\u001b[39;00m\n\u001b[0;32m    225\u001b[0m \u001b[38;5;124;03m\"\"\"\u001b[39;00m\n\u001b[0;32m    226\u001b[0m \u001b[38;5;28;01mif\u001b[39;00m \u001b[38;5;28mself\u001b[39m\u001b[38;5;241m.\u001b[39mweights \u001b[38;5;241m==\u001b[39m \u001b[38;5;124m\"\u001b[39m\u001b[38;5;124muniform\u001b[39m\u001b[38;5;124m\"\u001b[39m:\n\u001b[0;32m    227\u001b[0m     \u001b[38;5;66;03m# In that case, we do not need the distances to perform\u001b[39;00m\n\u001b[0;32m    228\u001b[0m     \u001b[38;5;66;03m# the weighting so we do not compute them.\u001b[39;00m\n\u001b[1;32m--> 229\u001b[0m     neigh_ind \u001b[38;5;241m=\u001b[39m \u001b[38;5;28;43mself\u001b[39;49m\u001b[38;5;241;43m.\u001b[39;49m\u001b[43mkneighbors\u001b[49m\u001b[43m(\u001b[49m\u001b[43mX\u001b[49m\u001b[43m,\u001b[49m\u001b[43m \u001b[49m\u001b[43mreturn_distance\u001b[49m\u001b[38;5;241;43m=\u001b[39;49m\u001b[38;5;28;43;01mFalse\u001b[39;49;00m\u001b[43m)\u001b[49m\n\u001b[0;32m    230\u001b[0m     neigh_dist \u001b[38;5;241m=\u001b[39m \u001b[38;5;28;01mNone\u001b[39;00m\n\u001b[0;32m    231\u001b[0m \u001b[38;5;28;01melse\u001b[39;00m:\n",
      "File \u001b[1;32m~\\AppData\\Roaming\\Python\\Python39\\site-packages\\sklearn\\neighbors\\_base.py:763\u001b[0m, in \u001b[0;36mKNeighborsMixin.kneighbors\u001b[1;34m(self, X, n_neighbors, return_distance)\u001b[0m\n\u001b[0;32m    756\u001b[0m use_pairwise_distances_reductions \u001b[38;5;241m=\u001b[39m (\n\u001b[0;32m    757\u001b[0m     \u001b[38;5;28mself\u001b[39m\u001b[38;5;241m.\u001b[39m_fit_method \u001b[38;5;241m==\u001b[39m \u001b[38;5;124m\"\u001b[39m\u001b[38;5;124mbrute\u001b[39m\u001b[38;5;124m\"\u001b[39m\n\u001b[0;32m    758\u001b[0m     \u001b[38;5;129;01mand\u001b[39;00m PairwiseDistancesArgKmin\u001b[38;5;241m.\u001b[39mis_usable_for(\n\u001b[0;32m    759\u001b[0m         X \u001b[38;5;28;01mif\u001b[39;00m X \u001b[38;5;129;01mis\u001b[39;00m \u001b[38;5;129;01mnot\u001b[39;00m \u001b[38;5;28;01mNone\u001b[39;00m \u001b[38;5;28;01melse\u001b[39;00m \u001b[38;5;28mself\u001b[39m\u001b[38;5;241m.\u001b[39m_fit_X, \u001b[38;5;28mself\u001b[39m\u001b[38;5;241m.\u001b[39m_fit_X, \u001b[38;5;28mself\u001b[39m\u001b[38;5;241m.\u001b[39meffective_metric_\n\u001b[0;32m    760\u001b[0m     )\n\u001b[0;32m    761\u001b[0m )\n\u001b[0;32m    762\u001b[0m \u001b[38;5;28;01mif\u001b[39;00m use_pairwise_distances_reductions:\n\u001b[1;32m--> 763\u001b[0m     results \u001b[38;5;241m=\u001b[39m \u001b[43mPairwiseDistancesArgKmin\u001b[49m\u001b[38;5;241;43m.\u001b[39;49m\u001b[43mcompute\u001b[49m\u001b[43m(\u001b[49m\n\u001b[0;32m    764\u001b[0m \u001b[43m        \u001b[49m\u001b[43mX\u001b[49m\u001b[38;5;241;43m=\u001b[39;49m\u001b[43mX\u001b[49m\u001b[43m,\u001b[49m\n\u001b[0;32m    765\u001b[0m \u001b[43m        \u001b[49m\u001b[43mY\u001b[49m\u001b[38;5;241;43m=\u001b[39;49m\u001b[38;5;28;43mself\u001b[39;49m\u001b[38;5;241;43m.\u001b[39;49m\u001b[43m_fit_X\u001b[49m\u001b[43m,\u001b[49m\n\u001b[0;32m    766\u001b[0m \u001b[43m        \u001b[49m\u001b[43mk\u001b[49m\u001b[38;5;241;43m=\u001b[39;49m\u001b[43mn_neighbors\u001b[49m\u001b[43m,\u001b[49m\n\u001b[0;32m    767\u001b[0m \u001b[43m        \u001b[49m\u001b[43mmetric\u001b[49m\u001b[38;5;241;43m=\u001b[39;49m\u001b[38;5;28;43mself\u001b[39;49m\u001b[38;5;241;43m.\u001b[39;49m\u001b[43meffective_metric_\u001b[49m\u001b[43m,\u001b[49m\n\u001b[0;32m    768\u001b[0m \u001b[43m        \u001b[49m\u001b[43mmetric_kwargs\u001b[49m\u001b[38;5;241;43m=\u001b[39;49m\u001b[38;5;28;43mself\u001b[39;49m\u001b[38;5;241;43m.\u001b[39;49m\u001b[43meffective_metric_params_\u001b[49m\u001b[43m,\u001b[49m\n\u001b[0;32m    769\u001b[0m \u001b[43m        \u001b[49m\u001b[43mstrategy\u001b[49m\u001b[38;5;241;43m=\u001b[39;49m\u001b[38;5;124;43m\"\u001b[39;49m\u001b[38;5;124;43mauto\u001b[39;49m\u001b[38;5;124;43m\"\u001b[39;49m\u001b[43m,\u001b[49m\n\u001b[0;32m    770\u001b[0m \u001b[43m        \u001b[49m\u001b[43mreturn_distance\u001b[49m\u001b[38;5;241;43m=\u001b[39;49m\u001b[43mreturn_distance\u001b[49m\u001b[43m,\u001b[49m\n\u001b[0;32m    771\u001b[0m \u001b[43m    \u001b[49m\u001b[43m)\u001b[49m\n\u001b[0;32m    773\u001b[0m \u001b[38;5;28;01melif\u001b[39;00m (\n\u001b[0;32m    774\u001b[0m     \u001b[38;5;28mself\u001b[39m\u001b[38;5;241m.\u001b[39m_fit_method \u001b[38;5;241m==\u001b[39m \u001b[38;5;124m\"\u001b[39m\u001b[38;5;124mbrute\u001b[39m\u001b[38;5;124m\"\u001b[39m \u001b[38;5;129;01mand\u001b[39;00m \u001b[38;5;28mself\u001b[39m\u001b[38;5;241m.\u001b[39mmetric \u001b[38;5;241m==\u001b[39m \u001b[38;5;124m\"\u001b[39m\u001b[38;5;124mprecomputed\u001b[39m\u001b[38;5;124m\"\u001b[39m \u001b[38;5;129;01mand\u001b[39;00m issparse(X)\n\u001b[0;32m    775\u001b[0m ):\n\u001b[0;32m    776\u001b[0m     results \u001b[38;5;241m=\u001b[39m _kneighbors_from_graph(\n\u001b[0;32m    777\u001b[0m         X, n_neighbors\u001b[38;5;241m=\u001b[39mn_neighbors, return_distance\u001b[38;5;241m=\u001b[39mreturn_distance\n\u001b[0;32m    778\u001b[0m     )\n",
      "File \u001b[1;32msklearn\\metrics\\_pairwise_distances_reduction.pyx:698\u001b[0m, in \u001b[0;36msklearn.metrics._pairwise_distances_reduction.PairwiseDistancesArgKmin.compute\u001b[1;34m()\u001b[0m\n",
      "File \u001b[1;32m~\\AppData\\Roaming\\Python\\Python39\\site-packages\\sklearn\\utils\\fixes.py:151\u001b[0m, in \u001b[0;36mthreadpool_limits\u001b[1;34m(limits, user_api)\u001b[0m\n\u001b[0;32m    149\u001b[0m     \u001b[38;5;28;01mreturn\u001b[39;00m controller\u001b[38;5;241m.\u001b[39mlimit(limits\u001b[38;5;241m=\u001b[39mlimits, user_api\u001b[38;5;241m=\u001b[39muser_api)\n\u001b[0;32m    150\u001b[0m \u001b[38;5;28;01melse\u001b[39;00m:\n\u001b[1;32m--> 151\u001b[0m     \u001b[38;5;28;01mreturn\u001b[39;00m \u001b[43mthreadpoolctl\u001b[49m\u001b[38;5;241;43m.\u001b[39;49m\u001b[43mthreadpool_limits\u001b[49m\u001b[43m(\u001b[49m\u001b[43mlimits\u001b[49m\u001b[38;5;241;43m=\u001b[39;49m\u001b[43mlimits\u001b[49m\u001b[43m,\u001b[49m\u001b[43m \u001b[49m\u001b[43muser_api\u001b[49m\u001b[38;5;241;43m=\u001b[39;49m\u001b[43muser_api\u001b[49m\u001b[43m)\u001b[49m\n",
      "File \u001b[1;32mC:\\ProgramData\\Anaconda3\\lib\\site-packages\\threadpoolctl.py:171\u001b[0m, in \u001b[0;36mthreadpool_limits.__init__\u001b[1;34m(self, limits, user_api)\u001b[0m\n\u001b[0;32m    167\u001b[0m \u001b[38;5;28;01mdef\u001b[39;00m \u001b[38;5;21m__init__\u001b[39m(\u001b[38;5;28mself\u001b[39m, limits\u001b[38;5;241m=\u001b[39m\u001b[38;5;28;01mNone\u001b[39;00m, user_api\u001b[38;5;241m=\u001b[39m\u001b[38;5;28;01mNone\u001b[39;00m):\n\u001b[0;32m    168\u001b[0m     \u001b[38;5;28mself\u001b[39m\u001b[38;5;241m.\u001b[39m_limits, \u001b[38;5;28mself\u001b[39m\u001b[38;5;241m.\u001b[39m_user_api, \u001b[38;5;28mself\u001b[39m\u001b[38;5;241m.\u001b[39m_prefixes \u001b[38;5;241m=\u001b[39m \\\n\u001b[0;32m    169\u001b[0m         \u001b[38;5;28mself\u001b[39m\u001b[38;5;241m.\u001b[39m_check_params(limits, user_api)\n\u001b[1;32m--> 171\u001b[0m     \u001b[38;5;28mself\u001b[39m\u001b[38;5;241m.\u001b[39m_original_info \u001b[38;5;241m=\u001b[39m \u001b[38;5;28;43mself\u001b[39;49m\u001b[38;5;241;43m.\u001b[39;49m\u001b[43m_set_threadpool_limits\u001b[49m\u001b[43m(\u001b[49m\u001b[43m)\u001b[49m\n",
      "File \u001b[1;32mC:\\ProgramData\\Anaconda3\\lib\\site-packages\\threadpoolctl.py:268\u001b[0m, in \u001b[0;36mthreadpool_limits._set_threadpool_limits\u001b[1;34m(self)\u001b[0m\n\u001b[0;32m    265\u001b[0m \u001b[38;5;28;01mif\u001b[39;00m \u001b[38;5;28mself\u001b[39m\u001b[38;5;241m.\u001b[39m_limits \u001b[38;5;129;01mis\u001b[39;00m \u001b[38;5;28;01mNone\u001b[39;00m:\n\u001b[0;32m    266\u001b[0m     \u001b[38;5;28;01mreturn\u001b[39;00m \u001b[38;5;28;01mNone\u001b[39;00m\n\u001b[1;32m--> 268\u001b[0m modules \u001b[38;5;241m=\u001b[39m \u001b[43m_ThreadpoolInfo\u001b[49m\u001b[43m(\u001b[49m\u001b[43mprefixes\u001b[49m\u001b[38;5;241;43m=\u001b[39;49m\u001b[38;5;28;43mself\u001b[39;49m\u001b[38;5;241;43m.\u001b[39;49m\u001b[43m_prefixes\u001b[49m\u001b[43m,\u001b[49m\n\u001b[0;32m    269\u001b[0m \u001b[43m                          \u001b[49m\u001b[43muser_api\u001b[49m\u001b[38;5;241;43m=\u001b[39;49m\u001b[38;5;28;43mself\u001b[39;49m\u001b[38;5;241;43m.\u001b[39;49m\u001b[43m_user_api\u001b[49m\u001b[43m)\u001b[49m\n\u001b[0;32m    270\u001b[0m \u001b[38;5;28;01mfor\u001b[39;00m module \u001b[38;5;129;01min\u001b[39;00m modules:\n\u001b[0;32m    271\u001b[0m     \u001b[38;5;66;03m# self._limits is a dict {key: num_threads} where key is either\u001b[39;00m\n\u001b[0;32m    272\u001b[0m     \u001b[38;5;66;03m# a prefix or a user_api. If a module matches both, the limit\u001b[39;00m\n\u001b[0;32m    273\u001b[0m     \u001b[38;5;66;03m# corresponding to the prefix is chosed.\u001b[39;00m\n\u001b[0;32m    274\u001b[0m     \u001b[38;5;28;01mif\u001b[39;00m module\u001b[38;5;241m.\u001b[39mprefix \u001b[38;5;129;01min\u001b[39;00m \u001b[38;5;28mself\u001b[39m\u001b[38;5;241m.\u001b[39m_limits:\n",
      "File \u001b[1;32mC:\\ProgramData\\Anaconda3\\lib\\site-packages\\threadpoolctl.py:340\u001b[0m, in \u001b[0;36m_ThreadpoolInfo.__init__\u001b[1;34m(self, user_api, prefixes, modules)\u001b[0m\n\u001b[0;32m    337\u001b[0m     \u001b[38;5;28mself\u001b[39m\u001b[38;5;241m.\u001b[39muser_api \u001b[38;5;241m=\u001b[39m [] \u001b[38;5;28;01mif\u001b[39;00m user_api \u001b[38;5;129;01mis\u001b[39;00m \u001b[38;5;28;01mNone\u001b[39;00m \u001b[38;5;28;01melse\u001b[39;00m user_api\n\u001b[0;32m    339\u001b[0m     \u001b[38;5;28mself\u001b[39m\u001b[38;5;241m.\u001b[39mmodules \u001b[38;5;241m=\u001b[39m []\n\u001b[1;32m--> 340\u001b[0m     \u001b[38;5;28;43mself\u001b[39;49m\u001b[38;5;241;43m.\u001b[39;49m\u001b[43m_load_modules\u001b[49m\u001b[43m(\u001b[49m\u001b[43m)\u001b[49m\n\u001b[0;32m    341\u001b[0m     \u001b[38;5;28mself\u001b[39m\u001b[38;5;241m.\u001b[39m_warn_if_incompatible_openmp()\n\u001b[0;32m    342\u001b[0m \u001b[38;5;28;01melse\u001b[39;00m:\n",
      "File \u001b[1;32mC:\\ProgramData\\Anaconda3\\lib\\site-packages\\threadpoolctl.py:373\u001b[0m, in \u001b[0;36m_ThreadpoolInfo._load_modules\u001b[1;34m(self)\u001b[0m\n\u001b[0;32m    371\u001b[0m     \u001b[38;5;28mself\u001b[39m\u001b[38;5;241m.\u001b[39m_find_modules_with_dyld()\n\u001b[0;32m    372\u001b[0m \u001b[38;5;28;01melif\u001b[39;00m sys\u001b[38;5;241m.\u001b[39mplatform \u001b[38;5;241m==\u001b[39m \u001b[38;5;124m\"\u001b[39m\u001b[38;5;124mwin32\u001b[39m\u001b[38;5;124m\"\u001b[39m:\n\u001b[1;32m--> 373\u001b[0m     \u001b[38;5;28;43mself\u001b[39;49m\u001b[38;5;241;43m.\u001b[39;49m\u001b[43m_find_modules_with_enum_process_module_ex\u001b[49m\u001b[43m(\u001b[49m\u001b[43m)\u001b[49m\n\u001b[0;32m    374\u001b[0m \u001b[38;5;28;01melse\u001b[39;00m:\n\u001b[0;32m    375\u001b[0m     \u001b[38;5;28mself\u001b[39m\u001b[38;5;241m.\u001b[39m_find_modules_with_dl_iterate_phdr()\n",
      "File \u001b[1;32mC:\\ProgramData\\Anaconda3\\lib\\site-packages\\threadpoolctl.py:485\u001b[0m, in \u001b[0;36m_ThreadpoolInfo._find_modules_with_enum_process_module_ex\u001b[1;34m(self)\u001b[0m\n\u001b[0;32m    482\u001b[0m         filepath \u001b[38;5;241m=\u001b[39m buf\u001b[38;5;241m.\u001b[39mvalue\n\u001b[0;32m    484\u001b[0m         \u001b[38;5;66;03m# Store the module if it is supported and selected\u001b[39;00m\n\u001b[1;32m--> 485\u001b[0m         \u001b[38;5;28;43mself\u001b[39;49m\u001b[38;5;241;43m.\u001b[39;49m\u001b[43m_make_module_from_path\u001b[49m\u001b[43m(\u001b[49m\u001b[43mfilepath\u001b[49m\u001b[43m)\u001b[49m\n\u001b[0;32m    486\u001b[0m \u001b[38;5;28;01mfinally\u001b[39;00m:\n\u001b[0;32m    487\u001b[0m     kernel_32\u001b[38;5;241m.\u001b[39mCloseHandle(h_process)\n",
      "File \u001b[1;32mC:\\ProgramData\\Anaconda3\\lib\\site-packages\\threadpoolctl.py:515\u001b[0m, in \u001b[0;36m_ThreadpoolInfo._make_module_from_path\u001b[1;34m(self, filepath)\u001b[0m\n\u001b[0;32m    513\u001b[0m \u001b[38;5;28;01mif\u001b[39;00m prefix \u001b[38;5;129;01min\u001b[39;00m \u001b[38;5;28mself\u001b[39m\u001b[38;5;241m.\u001b[39mprefixes \u001b[38;5;129;01mor\u001b[39;00m user_api \u001b[38;5;129;01min\u001b[39;00m \u001b[38;5;28mself\u001b[39m\u001b[38;5;241m.\u001b[39muser_api:\n\u001b[0;32m    514\u001b[0m     module_class \u001b[38;5;241m=\u001b[39m \u001b[38;5;28mglobals\u001b[39m()[module_class]\n\u001b[1;32m--> 515\u001b[0m     module \u001b[38;5;241m=\u001b[39m \u001b[43mmodule_class\u001b[49m\u001b[43m(\u001b[49m\u001b[43mfilepath\u001b[49m\u001b[43m,\u001b[49m\u001b[43m \u001b[49m\u001b[43mprefix\u001b[49m\u001b[43m,\u001b[49m\u001b[43m \u001b[49m\u001b[43muser_api\u001b[49m\u001b[43m,\u001b[49m\u001b[43m \u001b[49m\u001b[43minternal_api\u001b[49m\u001b[43m)\u001b[49m\n\u001b[0;32m    516\u001b[0m     \u001b[38;5;28mself\u001b[39m\u001b[38;5;241m.\u001b[39mmodules\u001b[38;5;241m.\u001b[39mappend(module)\n",
      "File \u001b[1;32mC:\\ProgramData\\Anaconda3\\lib\\site-packages\\threadpoolctl.py:606\u001b[0m, in \u001b[0;36m_Module.__init__\u001b[1;34m(self, filepath, prefix, user_api, internal_api)\u001b[0m\n\u001b[0;32m    604\u001b[0m \u001b[38;5;28mself\u001b[39m\u001b[38;5;241m.\u001b[39minternal_api \u001b[38;5;241m=\u001b[39m internal_api\n\u001b[0;32m    605\u001b[0m \u001b[38;5;28mself\u001b[39m\u001b[38;5;241m.\u001b[39m_dynlib \u001b[38;5;241m=\u001b[39m ctypes\u001b[38;5;241m.\u001b[39mCDLL(filepath, mode\u001b[38;5;241m=\u001b[39m_RTLD_NOLOAD)\n\u001b[1;32m--> 606\u001b[0m \u001b[38;5;28mself\u001b[39m\u001b[38;5;241m.\u001b[39mversion \u001b[38;5;241m=\u001b[39m \u001b[38;5;28;43mself\u001b[39;49m\u001b[38;5;241;43m.\u001b[39;49m\u001b[43mget_version\u001b[49m\u001b[43m(\u001b[49m\u001b[43m)\u001b[49m\n\u001b[0;32m    607\u001b[0m \u001b[38;5;28mself\u001b[39m\u001b[38;5;241m.\u001b[39mnum_threads \u001b[38;5;241m=\u001b[39m \u001b[38;5;28mself\u001b[39m\u001b[38;5;241m.\u001b[39mget_num_threads()\n\u001b[0;32m    608\u001b[0m \u001b[38;5;28mself\u001b[39m\u001b[38;5;241m.\u001b[39m_get_extra_info()\n",
      "File \u001b[1;32mC:\\ProgramData\\Anaconda3\\lib\\site-packages\\threadpoolctl.py:646\u001b[0m, in \u001b[0;36m_OpenBLASModule.get_version\u001b[1;34m(self)\u001b[0m\n\u001b[0;32m    643\u001b[0m get_config \u001b[38;5;241m=\u001b[39m \u001b[38;5;28mgetattr\u001b[39m(\u001b[38;5;28mself\u001b[39m\u001b[38;5;241m.\u001b[39m_dynlib, \u001b[38;5;124m\"\u001b[39m\u001b[38;5;124mopenblas_get_config\u001b[39m\u001b[38;5;124m\"\u001b[39m,\n\u001b[0;32m    644\u001b[0m                      \u001b[38;5;28;01mlambda\u001b[39;00m: \u001b[38;5;28;01mNone\u001b[39;00m)\n\u001b[0;32m    645\u001b[0m get_config\u001b[38;5;241m.\u001b[39mrestype \u001b[38;5;241m=\u001b[39m ctypes\u001b[38;5;241m.\u001b[39mc_char_p\n\u001b[1;32m--> 646\u001b[0m config \u001b[38;5;241m=\u001b[39m \u001b[43mget_config\u001b[49m\u001b[43m(\u001b[49m\u001b[43m)\u001b[49m\u001b[38;5;241;43m.\u001b[39;49m\u001b[43msplit\u001b[49m()\n\u001b[0;32m    647\u001b[0m \u001b[38;5;28;01mif\u001b[39;00m config[\u001b[38;5;241m0\u001b[39m] \u001b[38;5;241m==\u001b[39m \u001b[38;5;124mb\u001b[39m\u001b[38;5;124m\"\u001b[39m\u001b[38;5;124mOpenBLAS\u001b[39m\u001b[38;5;124m\"\u001b[39m:\n\u001b[0;32m    648\u001b[0m     \u001b[38;5;28;01mreturn\u001b[39;00m config[\u001b[38;5;241m1\u001b[39m]\u001b[38;5;241m.\u001b[39mdecode(\u001b[38;5;124m\"\u001b[39m\u001b[38;5;124mutf-8\u001b[39m\u001b[38;5;124m\"\u001b[39m)\n",
      "\u001b[1;31mAttributeError\u001b[0m: 'NoneType' object has no attribute 'split'"
     ]
    }
   ],
   "source": [
    "for name, model in fitted_model.items():\n",
    "    print(name,', Train Score :', model.score(X_train,y_train))\n",
    "    print(name,', Test Score :', model.score(X_test,y_test))\n",
    "    print('')"
   ]
  },
  {
   "cell_type": "code",
   "execution_count": null,
   "id": "f7d51394",
   "metadata": {
    "scrolled": true
   },
   "outputs": [],
   "source": [
    "for name, model in fitted_model.items():\n",
    "    pred = model.predict(X_test)\n",
    "    print(\"\\033[1m\", name, \"\\033[0m\")\n",
    "    print( 'R^2:', r2_score(y_test, pred ))\n",
    "    print( 'RMSE:', mean_squared_error(y_test, pred, squared=False))\n",
    "    print( 'MAE:', mean_absolute_error(y_test, pred))\n",
    "    print('MAPE:', mean_absolute_percentage_error(y_test, pred))\n",
    "    \n",
    "    print('==='*20, '\\n')"
   ]
  },
  {
   "cell_type": "code",
   "execution_count": null,
   "id": "fab29dbf",
   "metadata": {},
   "outputs": [],
   "source": [
    "# Using Yellowbrick\n",
    "for name, model in fitted_model.items():\n",
    "    pred = model.predict(X_test.values)\n",
    "    print(\"\\033[1m\", name, \"\\033[0m\")\n",
    "    visualizer1 = PredictionError(model, title=('Prediction Error for:'+name))\n",
    "    visualizer1.fit(X_train, y_train)  \n",
    "    visualizer1.score(X_test.values, y_test.values)  \n",
    "    visualizer1.poof()\n",
    "    \n",
    "    visualizer2 = PredictionError(model, title=('Residual for:'+name))\n",
    "    visualizer2.fit(X_train, y_train)  \n",
    "    visualizer2.score(X_test, y_test)  \n",
    "    visualizer2.poof()\n",
    "    \n",
    "    print('==='*20, '\\n')"
   ]
  },
  {
   "cell_type": "code",
   "execution_count": null,
   "id": "944fdd79",
   "metadata": {
    "scrolled": true
   },
   "outputs": [],
   "source": [
    "# Using matplotlib\n",
    "for name, model in fitted_model.items():\n",
    "    pred = model.predict(X_test)\n",
    "    print(\"\\033[1m\", name, \"\\033[0m\")\n",
    "    fig = plt.figure()\n",
    "    ax = fig.add_subplot(111)\n",
    "    ax.set_aspect('equal', adjustable='box')\n",
    "    plt.scatter(pred, y_test)\n",
    "    plt.xlim(-0.3,1)\n",
    "    plt.ylim(-0.3,1)\n",
    "    plt.show()"
   ]
  },
  {
   "cell_type": "markdown",
   "id": "8d7c7d4f",
   "metadata": {},
   "source": [
    "### #6 Key Takeaways"
   ]
  },
  {
   "cell_type": "code",
   "execution_count": null,
   "id": "abea65bc",
   "metadata": {},
   "outputs": [],
   "source": []
  },
  {
   "cell_type": "markdown",
   "id": "151f9caa",
   "metadata": {},
   "source": [
    "### #Z Archive"
   ]
  },
  {
   "cell_type": "code",
   "execution_count": null,
   "id": "b5e331d9",
   "metadata": {},
   "outputs": [],
   "source": []
  }
 ],
 "metadata": {
  "kernelspec": {
   "display_name": "Python 3 (ipykernel)",
   "language": "python",
   "name": "python3"
  },
  "language_info": {
   "codemirror_mode": {
    "name": "ipython",
    "version": 3
   },
   "file_extension": ".py",
   "mimetype": "text/x-python",
   "name": "python",
   "nbconvert_exporter": "python",
   "pygments_lexer": "ipython3",
   "version": "3.9.12"
  }
 },
 "nbformat": 4,
 "nbformat_minor": 5
}
